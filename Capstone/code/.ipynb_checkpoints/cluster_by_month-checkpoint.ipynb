{
 "cells": [
  {
   "cell_type": "code",
   "execution_count": 14,
   "id": "24915088",
   "metadata": {},
   "outputs": [],
   "source": [
    "import pandas as pd\n",
    "from pathlib import Path\n",
    "import re\n",
    "import datetime\n",
    "import numpy as np\n",
    "from sklearn.cluster import KMeans\n",
    "from sklearn.metrics import silhouette_score\n",
    "from sklearn.metrics import pairwise_distances\n",
    "from PIL import Image\n",
    "from PIL import ImageFile\n",
    "import matplotlib.pyplot as plt\n",
    "%matplotlib inline"
   ]
  },
  {
   "cell_type": "code",
   "execution_count": 15,
   "id": "616cabe9",
   "metadata": {},
   "outputs": [
    {
     "data": {
      "text/html": [
       "<div>\n",
       "<style scoped>\n",
       "    .dataframe tbody tr th:only-of-type {\n",
       "        vertical-align: middle;\n",
       "    }\n",
       "\n",
       "    .dataframe tbody tr th {\n",
       "        vertical-align: top;\n",
       "    }\n",
       "\n",
       "    .dataframe thead th {\n",
       "        text-align: right;\n",
       "    }\n",
       "</style>\n",
       "<table border=\"1\" class=\"dataframe\">\n",
       "  <thead>\n",
       "    <tr style=\"text-align: right;\">\n",
       "      <th></th>\n",
       "      <th>image_list</th>\n",
       "      <th>rgba_list</th>\n",
       "    </tr>\n",
       "  </thead>\n",
       "  <tbody>\n",
       "    <tr>\n",
       "      <th>0</th>\n",
       "      <td>../pictures/wo_background/ec24m/ec24m_2021-01-...</td>\n",
       "      <td>[0, 0, 0, 0, 0, 0, 0, 0, 0, 0, 0, 0, 0, 0, 0, ...</td>\n",
       "    </tr>\n",
       "    <tr>\n",
       "      <th>1</th>\n",
       "      <td>../pictures/wo_background/ec24m/ec24m_2021-11-...</td>\n",
       "      <td>[0, 0, 0, 0, 0, 0, 0, 0, 0, 0, 0, 0, 0, 0, 0, ...</td>\n",
       "    </tr>\n",
       "    <tr>\n",
       "      <th>2</th>\n",
       "      <td>../pictures/wo_background/ec24m/ec24m_2021-03-...</td>\n",
       "      <td>[0, 0, 0, 0, 0, 0, 0, 0, 0, 0, 0, 0, 0, 0, 0, ...</td>\n",
       "    </tr>\n",
       "    <tr>\n",
       "      <th>3</th>\n",
       "      <td>../pictures/wo_background/ec24m/ec24m_2021-06-...</td>\n",
       "      <td>[0, 0, 0, 0, 0, 0, 0, 0, 0, 0, 0, 0, 0, 0, 0, ...</td>\n",
       "    </tr>\n",
       "    <tr>\n",
       "      <th>4</th>\n",
       "      <td>../pictures/wo_background/ec24m/ec24m_2021-02-...</td>\n",
       "      <td>[0, 0, 0, 0, 0, 0, 0, 0, 0, 0, 0, 0, 0, 0, 0, ...</td>\n",
       "    </tr>\n",
       "    <tr>\n",
       "      <th>...</th>\n",
       "      <td>...</td>\n",
       "      <td>...</td>\n",
       "    </tr>\n",
       "    <tr>\n",
       "      <th>195</th>\n",
       "      <td>../pictures/wo_background/ec24m/ec24m_2021-12-...</td>\n",
       "      <td>[0, 0, 0, 0, 0, 0, 0, 0, 0, 0, 0, 0, 0, 0, 0, ...</td>\n",
       "    </tr>\n",
       "    <tr>\n",
       "      <th>196</th>\n",
       "      <td>../pictures/wo_background/ec24m/ec24m_2021-11-...</td>\n",
       "      <td>[0, 0, 0, 0, 0, 0, 0, 0, 0, 0, 0, 0, 0, 0, 0, ...</td>\n",
       "    </tr>\n",
       "    <tr>\n",
       "      <th>197</th>\n",
       "      <td>../pictures/wo_background/ec24m/ec24m_2021-08-...</td>\n",
       "      <td>[0, 0, 0, 0, 0, 0, 0, 0, 0, 0, 0, 0, 0, 0, 0, ...</td>\n",
       "    </tr>\n",
       "    <tr>\n",
       "      <th>198</th>\n",
       "      <td>../pictures/wo_background/ec24m/ec24m_2021-09-...</td>\n",
       "      <td>[0, 0, 0, 0, 0, 0, 0, 0, 0, 0, 0, 0, 0, 0, 0, ...</td>\n",
       "    </tr>\n",
       "    <tr>\n",
       "      <th>199</th>\n",
       "      <td>../pictures/wo_background/ec24m/ec24m_2021-08-...</td>\n",
       "      <td>[0, 0, 0, 0, 0, 0, 0, 0, 0, 0, 0, 0, 0, 0, 0, ...</td>\n",
       "    </tr>\n",
       "  </tbody>\n",
       "</table>\n",
       "<p>200 rows × 2 columns</p>\n",
       "</div>"
      ],
      "text/plain": [
       "                                            image_list  \\\n",
       "0    ../pictures/wo_background/ec24m/ec24m_2021-01-...   \n",
       "1    ../pictures/wo_background/ec24m/ec24m_2021-11-...   \n",
       "2    ../pictures/wo_background/ec24m/ec24m_2021-03-...   \n",
       "3    ../pictures/wo_background/ec24m/ec24m_2021-06-...   \n",
       "4    ../pictures/wo_background/ec24m/ec24m_2021-02-...   \n",
       "..                                                 ...   \n",
       "195  ../pictures/wo_background/ec24m/ec24m_2021-12-...   \n",
       "196  ../pictures/wo_background/ec24m/ec24m_2021-11-...   \n",
       "197  ../pictures/wo_background/ec24m/ec24m_2021-08-...   \n",
       "198  ../pictures/wo_background/ec24m/ec24m_2021-09-...   \n",
       "199  ../pictures/wo_background/ec24m/ec24m_2021-08-...   \n",
       "\n",
       "                                             rgba_list  \n",
       "0    [0, 0, 0, 0, 0, 0, 0, 0, 0, 0, 0, 0, 0, 0, 0, ...  \n",
       "1    [0, 0, 0, 0, 0, 0, 0, 0, 0, 0, 0, 0, 0, 0, 0, ...  \n",
       "2    [0, 0, 0, 0, 0, 0, 0, 0, 0, 0, 0, 0, 0, 0, 0, ...  \n",
       "3    [0, 0, 0, 0, 0, 0, 0, 0, 0, 0, 0, 0, 0, 0, 0, ...  \n",
       "4    [0, 0, 0, 0, 0, 0, 0, 0, 0, 0, 0, 0, 0, 0, 0, ...  \n",
       "..                                                 ...  \n",
       "195  [0, 0, 0, 0, 0, 0, 0, 0, 0, 0, 0, 0, 0, 0, 0, ...  \n",
       "196  [0, 0, 0, 0, 0, 0, 0, 0, 0, 0, 0, 0, 0, 0, 0, ...  \n",
       "197  [0, 0, 0, 0, 0, 0, 0, 0, 0, 0, 0, 0, 0, 0, 0, ...  \n",
       "198  [0, 0, 0, 0, 0, 0, 0, 0, 0, 0, 0, 0, 0, 0, 0, ...  \n",
       "199  [0, 0, 0, 0, 0, 0, 0, 0, 0, 0, 0, 0, 0, 0, 0, ...  \n",
       "\n",
       "[200 rows x 2 columns]"
      ]
     },
     "execution_count": 15,
     "metadata": {},
     "output_type": "execute_result"
    }
   ],
   "source": [
    "#set instance of dataframe using rgba_0.csv\n",
    "rgba = pd.read_csv('../data/rgba/rgba_0.csv')\n",
    "rgba = rgba.T\n",
    "image_list = list(rgba.index)\n",
    "rgba_array = rgba.to_numpy()\n",
    "\n",
    "rgba_df = pd.DataFrame(zip(image_list, rgba_array), columns = ['image_list', 'rgba_list'])\n",
    "rgba_df"
   ]
  },
  {
   "cell_type": "code",
   "execution_count": 16,
   "id": "1c077cf1",
   "metadata": {},
   "outputs": [
    {
     "name": "stdout",
     "output_type": "stream",
     "text": [
      "CPU times: user 27.2 s, sys: 4.19 s, total: 31.4 s\n",
      "Wall time: 32.4 s\n"
     ]
    }
   ],
   "source": [
    "%%time\n",
    "\n",
    "for n in range(34):\n",
    "    rgba = pd.read_csv('../data/rgba/rgba_'+str(n)+'.csv')\n",
    "    rgba = rgba.T\n",
    "    image_path = list(rgba.index)\n",
    "    rgba_array = rgba.to_numpy()\n",
    "    df = pd.DataFrame(zip(image_path, rgba_array), columns = ['image_list', 'rgba_list'])\n",
    "    rgba_df = pd.concat([rgba_df,df])"
   ]
  },
  {
   "cell_type": "code",
   "execution_count": 17,
   "id": "551da9e6",
   "metadata": {},
   "outputs": [
    {
     "data": {
      "text/html": [
       "<div>\n",
       "<style scoped>\n",
       "    .dataframe tbody tr th:only-of-type {\n",
       "        vertical-align: middle;\n",
       "    }\n",
       "\n",
       "    .dataframe tbody tr th {\n",
       "        vertical-align: top;\n",
       "    }\n",
       "\n",
       "    .dataframe thead th {\n",
       "        text-align: right;\n",
       "    }\n",
       "</style>\n",
       "<table border=\"1\" class=\"dataframe\">\n",
       "  <thead>\n",
       "    <tr style=\"text-align: right;\">\n",
       "      <th></th>\n",
       "      <th>image_list</th>\n",
       "      <th>rgba_list</th>\n",
       "    </tr>\n",
       "  </thead>\n",
       "  <tbody>\n",
       "    <tr>\n",
       "      <th>0</th>\n",
       "      <td>../pictures/wo_background/ec24m/ec24m_2021-01-...</td>\n",
       "      <td>[0, 0, 0, 0, 0, 0, 0, 0, 0, 0, 0, 0, 0, 0, 0, ...</td>\n",
       "    </tr>\n",
       "    <tr>\n",
       "      <th>1</th>\n",
       "      <td>../pictures/wo_background/ec24m/ec24m_2021-11-...</td>\n",
       "      <td>[0, 0, 0, 0, 0, 0, 0, 0, 0, 0, 0, 0, 0, 0, 0, ...</td>\n",
       "    </tr>\n",
       "    <tr>\n",
       "      <th>2</th>\n",
       "      <td>../pictures/wo_background/ec24m/ec24m_2021-03-...</td>\n",
       "      <td>[0, 0, 0, 0, 0, 0, 0, 0, 0, 0, 0, 0, 0, 0, 0, ...</td>\n",
       "    </tr>\n",
       "    <tr>\n",
       "      <th>3</th>\n",
       "      <td>../pictures/wo_background/ec24m/ec24m_2021-06-...</td>\n",
       "      <td>[0, 0, 0, 0, 0, 0, 0, 0, 0, 0, 0, 0, 0, 0, 0, ...</td>\n",
       "    </tr>\n",
       "    <tr>\n",
       "      <th>4</th>\n",
       "      <td>../pictures/wo_background/ec24m/ec24m_2021-02-...</td>\n",
       "      <td>[0, 0, 0, 0, 0, 0, 0, 0, 0, 0, 0, 0, 0, 0, 0, ...</td>\n",
       "    </tr>\n",
       "    <tr>\n",
       "      <th>...</th>\n",
       "      <td>...</td>\n",
       "      <td>...</td>\n",
       "    </tr>\n",
       "    <tr>\n",
       "      <th>34</th>\n",
       "      <td>../pictures/wo_background/xinlinnn/xinlinnn_20...</td>\n",
       "      <td>[0, 0, 0, 0, 0, 0, 0, 0, 0, 0, 0, 0, 0, 0, 0, ...</td>\n",
       "    </tr>\n",
       "    <tr>\n",
       "      <th>35</th>\n",
       "      <td>../pictures/wo_background/xinlinnn/xinlinnn_20...</td>\n",
       "      <td>[0, 0, 0, 0, 0, 0, 0, 0, 0, 0, 0, 0, 0, 0, 0, ...</td>\n",
       "    </tr>\n",
       "    <tr>\n",
       "      <th>36</th>\n",
       "      <td>../pictures/wo_background/xinlinnn/xinlinnn_20...</td>\n",
       "      <td>[0, 0, 0, 0, 0, 0, 0, 0, 0, 0, 0, 0, 0, 0, 0, ...</td>\n",
       "    </tr>\n",
       "    <tr>\n",
       "      <th>37</th>\n",
       "      <td>../pictures/wo_background/xinlinnn/xinlinnn_20...</td>\n",
       "      <td>[0, 0, 0, 0, 0, 0, 0, 0, 0, 0, 0, 0, 0, 0, 0, ...</td>\n",
       "    </tr>\n",
       "    <tr>\n",
       "      <th>38</th>\n",
       "      <td>../pictures/wo_background/xinlinnn/xinlinnn_20...</td>\n",
       "      <td>[0, 0, 0, 0, 0, 0, 0, 0, 0, 0, 0, 0, 0, 0, 0, ...</td>\n",
       "    </tr>\n",
       "  </tbody>\n",
       "</table>\n",
       "<p>6839 rows × 2 columns</p>\n",
       "</div>"
      ],
      "text/plain": [
       "                                           image_list  \\\n",
       "0   ../pictures/wo_background/ec24m/ec24m_2021-01-...   \n",
       "1   ../pictures/wo_background/ec24m/ec24m_2021-11-...   \n",
       "2   ../pictures/wo_background/ec24m/ec24m_2021-03-...   \n",
       "3   ../pictures/wo_background/ec24m/ec24m_2021-06-...   \n",
       "4   ../pictures/wo_background/ec24m/ec24m_2021-02-...   \n",
       "..                                                ...   \n",
       "34  ../pictures/wo_background/xinlinnn/xinlinnn_20...   \n",
       "35  ../pictures/wo_background/xinlinnn/xinlinnn_20...   \n",
       "36  ../pictures/wo_background/xinlinnn/xinlinnn_20...   \n",
       "37  ../pictures/wo_background/xinlinnn/xinlinnn_20...   \n",
       "38  ../pictures/wo_background/xinlinnn/xinlinnn_20...   \n",
       "\n",
       "                                            rgba_list  \n",
       "0   [0, 0, 0, 0, 0, 0, 0, 0, 0, 0, 0, 0, 0, 0, 0, ...  \n",
       "1   [0, 0, 0, 0, 0, 0, 0, 0, 0, 0, 0, 0, 0, 0, 0, ...  \n",
       "2   [0, 0, 0, 0, 0, 0, 0, 0, 0, 0, 0, 0, 0, 0, 0, ...  \n",
       "3   [0, 0, 0, 0, 0, 0, 0, 0, 0, 0, 0, 0, 0, 0, 0, ...  \n",
       "4   [0, 0, 0, 0, 0, 0, 0, 0, 0, 0, 0, 0, 0, 0, 0, ...  \n",
       "..                                                ...  \n",
       "34  [0, 0, 0, 0, 0, 0, 0, 0, 0, 0, 0, 0, 0, 0, 0, ...  \n",
       "35  [0, 0, 0, 0, 0, 0, 0, 0, 0, 0, 0, 0, 0, 0, 0, ...  \n",
       "36  [0, 0, 0, 0, 0, 0, 0, 0, 0, 0, 0, 0, 0, 0, 0, ...  \n",
       "37  [0, 0, 0, 0, 0, 0, 0, 0, 0, 0, 0, 0, 0, 0, 0, ...  \n",
       "38  [0, 0, 0, 0, 0, 0, 0, 0, 0, 0, 0, 0, 0, 0, 0, ...  \n",
       "\n",
       "[6839 rows x 2 columns]"
      ]
     },
     "execution_count": 17,
     "metadata": {},
     "output_type": "execute_result"
    }
   ],
   "source": [
    "rgba_df"
   ]
  },
  {
   "cell_type": "code",
   "execution_count": 18,
   "id": "680e048d",
   "metadata": {},
   "outputs": [],
   "source": [
    "rgba_df.reset_index(drop=True, inplace = True)"
   ]
  },
  {
   "cell_type": "code",
   "execution_count": 19,
   "id": "c128803b",
   "metadata": {},
   "outputs": [
    {
     "data": {
      "text/html": [
       "<div>\n",
       "<style scoped>\n",
       "    .dataframe tbody tr th:only-of-type {\n",
       "        vertical-align: middle;\n",
       "    }\n",
       "\n",
       "    .dataframe tbody tr th {\n",
       "        vertical-align: top;\n",
       "    }\n",
       "\n",
       "    .dataframe thead th {\n",
       "        text-align: right;\n",
       "    }\n",
       "</style>\n",
       "<table border=\"1\" class=\"dataframe\">\n",
       "  <thead>\n",
       "    <tr style=\"text-align: right;\">\n",
       "      <th></th>\n",
       "      <th>image_list</th>\n",
       "      <th>rgba_list</th>\n",
       "    </tr>\n",
       "  </thead>\n",
       "  <tbody>\n",
       "    <tr>\n",
       "      <th>0</th>\n",
       "      <td>../pictures/wo_background/ec24m/ec24m_2021-01-...</td>\n",
       "      <td>[0, 0, 0, 0, 0, 0, 0, 0, 0, 0, 0, 0, 0, 0, 0, ...</td>\n",
       "    </tr>\n",
       "    <tr>\n",
       "      <th>1</th>\n",
       "      <td>../pictures/wo_background/ec24m/ec24m_2021-11-...</td>\n",
       "      <td>[0, 0, 0, 0, 0, 0, 0, 0, 0, 0, 0, 0, 0, 0, 0, ...</td>\n",
       "    </tr>\n",
       "    <tr>\n",
       "      <th>2</th>\n",
       "      <td>../pictures/wo_background/ec24m/ec24m_2021-03-...</td>\n",
       "      <td>[0, 0, 0, 0, 0, 0, 0, 0, 0, 0, 0, 0, 0, 0, 0, ...</td>\n",
       "    </tr>\n",
       "    <tr>\n",
       "      <th>3</th>\n",
       "      <td>../pictures/wo_background/ec24m/ec24m_2021-06-...</td>\n",
       "      <td>[0, 0, 0, 0, 0, 0, 0, 0, 0, 0, 0, 0, 0, 0, 0, ...</td>\n",
       "    </tr>\n",
       "    <tr>\n",
       "      <th>4</th>\n",
       "      <td>../pictures/wo_background/ec24m/ec24m_2021-02-...</td>\n",
       "      <td>[0, 0, 0, 0, 0, 0, 0, 0, 0, 0, 0, 0, 0, 0, 0, ...</td>\n",
       "    </tr>\n",
       "    <tr>\n",
       "      <th>...</th>\n",
       "      <td>...</td>\n",
       "      <td>...</td>\n",
       "    </tr>\n",
       "    <tr>\n",
       "      <th>6834</th>\n",
       "      <td>../pictures/wo_background/xinlinnn/xinlinnn_20...</td>\n",
       "      <td>[0, 0, 0, 0, 0, 0, 0, 0, 0, 0, 0, 0, 0, 0, 0, ...</td>\n",
       "    </tr>\n",
       "    <tr>\n",
       "      <th>6835</th>\n",
       "      <td>../pictures/wo_background/xinlinnn/xinlinnn_20...</td>\n",
       "      <td>[0, 0, 0, 0, 0, 0, 0, 0, 0, 0, 0, 0, 0, 0, 0, ...</td>\n",
       "    </tr>\n",
       "    <tr>\n",
       "      <th>6836</th>\n",
       "      <td>../pictures/wo_background/xinlinnn/xinlinnn_20...</td>\n",
       "      <td>[0, 0, 0, 0, 0, 0, 0, 0, 0, 0, 0, 0, 0, 0, 0, ...</td>\n",
       "    </tr>\n",
       "    <tr>\n",
       "      <th>6837</th>\n",
       "      <td>../pictures/wo_background/xinlinnn/xinlinnn_20...</td>\n",
       "      <td>[0, 0, 0, 0, 0, 0, 0, 0, 0, 0, 0, 0, 0, 0, 0, ...</td>\n",
       "    </tr>\n",
       "    <tr>\n",
       "      <th>6838</th>\n",
       "      <td>../pictures/wo_background/xinlinnn/xinlinnn_20...</td>\n",
       "      <td>[0, 0, 0, 0, 0, 0, 0, 0, 0, 0, 0, 0, 0, 0, 0, ...</td>\n",
       "    </tr>\n",
       "  </tbody>\n",
       "</table>\n",
       "<p>6839 rows × 2 columns</p>\n",
       "</div>"
      ],
      "text/plain": [
       "                                             image_list  \\\n",
       "0     ../pictures/wo_background/ec24m/ec24m_2021-01-...   \n",
       "1     ../pictures/wo_background/ec24m/ec24m_2021-11-...   \n",
       "2     ../pictures/wo_background/ec24m/ec24m_2021-03-...   \n",
       "3     ../pictures/wo_background/ec24m/ec24m_2021-06-...   \n",
       "4     ../pictures/wo_background/ec24m/ec24m_2021-02-...   \n",
       "...                                                 ...   \n",
       "6834  ../pictures/wo_background/xinlinnn/xinlinnn_20...   \n",
       "6835  ../pictures/wo_background/xinlinnn/xinlinnn_20...   \n",
       "6836  ../pictures/wo_background/xinlinnn/xinlinnn_20...   \n",
       "6837  ../pictures/wo_background/xinlinnn/xinlinnn_20...   \n",
       "6838  ../pictures/wo_background/xinlinnn/xinlinnn_20...   \n",
       "\n",
       "                                              rgba_list  \n",
       "0     [0, 0, 0, 0, 0, 0, 0, 0, 0, 0, 0, 0, 0, 0, 0, ...  \n",
       "1     [0, 0, 0, 0, 0, 0, 0, 0, 0, 0, 0, 0, 0, 0, 0, ...  \n",
       "2     [0, 0, 0, 0, 0, 0, 0, 0, 0, 0, 0, 0, 0, 0, 0, ...  \n",
       "3     [0, 0, 0, 0, 0, 0, 0, 0, 0, 0, 0, 0, 0, 0, 0, ...  \n",
       "4     [0, 0, 0, 0, 0, 0, 0, 0, 0, 0, 0, 0, 0, 0, 0, ...  \n",
       "...                                                 ...  \n",
       "6834  [0, 0, 0, 0, 0, 0, 0, 0, 0, 0, 0, 0, 0, 0, 0, ...  \n",
       "6835  [0, 0, 0, 0, 0, 0, 0, 0, 0, 0, 0, 0, 0, 0, 0, ...  \n",
       "6836  [0, 0, 0, 0, 0, 0, 0, 0, 0, 0, 0, 0, 0, 0, 0, ...  \n",
       "6837  [0, 0, 0, 0, 0, 0, 0, 0, 0, 0, 0, 0, 0, 0, 0, ...  \n",
       "6838  [0, 0, 0, 0, 0, 0, 0, 0, 0, 0, 0, 0, 0, 0, 0, ...  \n",
       "\n",
       "[6839 rows x 2 columns]"
      ]
     },
     "execution_count": 19,
     "metadata": {},
     "output_type": "execute_result"
    }
   ],
   "source": [
    "rgba_df"
   ]
  },
  {
   "cell_type": "code",
   "execution_count": 20,
   "id": "9c42158f",
   "metadata": {},
   "outputs": [],
   "source": [
    "image_list = rgba_df['image_list']\n",
    "instagram_handle = []\n",
    "date_post = []\n",
    "seq_post_samedate = []\n",
    "\n",
    "for image in image_list:\n",
    "    handle = re.search('wo_background/(.*)/', image).group(1)\n",
    "    instagram_handle.append(handle)\n",
    "    date_post.append(image[-16:-6])\n",
    "    seq_post_samedate.append(image[-5:-4])\n"
   ]
  },
  {
   "cell_type": "code",
   "execution_count": 21,
   "id": "5f1baf51",
   "metadata": {},
   "outputs": [],
   "source": [
    "rgba_df['instagram_handle'] = instagram_handle\n",
    "rgba_df['date_post'] = date_post\n",
    "rgba_df['seq_post_samedate'] = seq_post_samedate"
   ]
  },
  {
   "cell_type": "code",
   "execution_count": 22,
   "id": "e40c6a67",
   "metadata": {},
   "outputs": [
    {
     "data": {
      "text/html": [
       "<div>\n",
       "<style scoped>\n",
       "    .dataframe tbody tr th:only-of-type {\n",
       "        vertical-align: middle;\n",
       "    }\n",
       "\n",
       "    .dataframe tbody tr th {\n",
       "        vertical-align: top;\n",
       "    }\n",
       "\n",
       "    .dataframe thead th {\n",
       "        text-align: right;\n",
       "    }\n",
       "</style>\n",
       "<table border=\"1\" class=\"dataframe\">\n",
       "  <thead>\n",
       "    <tr style=\"text-align: right;\">\n",
       "      <th></th>\n",
       "      <th>image_list</th>\n",
       "      <th>rgba_list</th>\n",
       "      <th>instagram_handle</th>\n",
       "      <th>date_post</th>\n",
       "      <th>seq_post_samedate</th>\n",
       "    </tr>\n",
       "  </thead>\n",
       "  <tbody>\n",
       "    <tr>\n",
       "      <th>0</th>\n",
       "      <td>../pictures/wo_background/ec24m/ec24m_2021-01-...</td>\n",
       "      <td>[0, 0, 0, 0, 0, 0, 0, 0, 0, 0, 0, 0, 0, 0, 0, ...</td>\n",
       "      <td>ec24m</td>\n",
       "      <td>2021-01-31</td>\n",
       "      <td>C</td>\n",
       "    </tr>\n",
       "    <tr>\n",
       "      <th>1</th>\n",
       "      <td>../pictures/wo_background/ec24m/ec24m_2021-11-...</td>\n",
       "      <td>[0, 0, 0, 0, 0, 0, 0, 0, 0, 0, 0, 0, 0, 0, 0, ...</td>\n",
       "      <td>ec24m</td>\n",
       "      <td>2021-11-09</td>\n",
       "      <td>2</td>\n",
       "    </tr>\n",
       "    <tr>\n",
       "      <th>2</th>\n",
       "      <td>../pictures/wo_background/ec24m/ec24m_2021-03-...</td>\n",
       "      <td>[0, 0, 0, 0, 0, 0, 0, 0, 0, 0, 0, 0, 0, 0, 0, ...</td>\n",
       "      <td>ec24m</td>\n",
       "      <td>2021-03-03</td>\n",
       "      <td>C</td>\n",
       "    </tr>\n",
       "    <tr>\n",
       "      <th>3</th>\n",
       "      <td>../pictures/wo_background/ec24m/ec24m_2021-06-...</td>\n",
       "      <td>[0, 0, 0, 0, 0, 0, 0, 0, 0, 0, 0, 0, 0, 0, 0, ...</td>\n",
       "      <td>ec24m</td>\n",
       "      <td>2021-06-29</td>\n",
       "      <td>1</td>\n",
       "    </tr>\n",
       "    <tr>\n",
       "      <th>4</th>\n",
       "      <td>../pictures/wo_background/ec24m/ec24m_2021-02-...</td>\n",
       "      <td>[0, 0, 0, 0, 0, 0, 0, 0, 0, 0, 0, 0, 0, 0, 0, ...</td>\n",
       "      <td>ec24m</td>\n",
       "      <td>2021-02-03</td>\n",
       "      <td>C</td>\n",
       "    </tr>\n",
       "    <tr>\n",
       "      <th>...</th>\n",
       "      <td>...</td>\n",
       "      <td>...</td>\n",
       "      <td>...</td>\n",
       "      <td>...</td>\n",
       "      <td>...</td>\n",
       "    </tr>\n",
       "    <tr>\n",
       "      <th>6834</th>\n",
       "      <td>../pictures/wo_background/xinlinnn/xinlinnn_20...</td>\n",
       "      <td>[0, 0, 0, 0, 0, 0, 0, 0, 0, 0, 0, 0, 0, 0, 0, ...</td>\n",
       "      <td>xinlinnn</td>\n",
       "      <td>2021-01-15</td>\n",
       "      <td>4</td>\n",
       "    </tr>\n",
       "    <tr>\n",
       "      <th>6835</th>\n",
       "      <td>../pictures/wo_background/xinlinnn/xinlinnn_20...</td>\n",
       "      <td>[0, 0, 0, 0, 0, 0, 0, 0, 0, 0, 0, 0, 0, 0, 0, ...</td>\n",
       "      <td>xinlinnn</td>\n",
       "      <td>2021-03-03</td>\n",
       "      <td>C</td>\n",
       "    </tr>\n",
       "    <tr>\n",
       "      <th>6836</th>\n",
       "      <td>../pictures/wo_background/xinlinnn/xinlinnn_20...</td>\n",
       "      <td>[0, 0, 0, 0, 0, 0, 0, 0, 0, 0, 0, 0, 0, 0, 0, ...</td>\n",
       "      <td>xinlinnn</td>\n",
       "      <td>2021-02-03</td>\n",
       "      <td>C</td>\n",
       "    </tr>\n",
       "    <tr>\n",
       "      <th>6837</th>\n",
       "      <td>../pictures/wo_background/xinlinnn/xinlinnn_20...</td>\n",
       "      <td>[0, 0, 0, 0, 0, 0, 0, 0, 0, 0, 0, 0, 0, 0, 0, ...</td>\n",
       "      <td>xinlinnn</td>\n",
       "      <td>2021-08-18</td>\n",
       "      <td>C</td>\n",
       "    </tr>\n",
       "    <tr>\n",
       "      <th>6838</th>\n",
       "      <td>../pictures/wo_background/xinlinnn/xinlinnn_20...</td>\n",
       "      <td>[0, 0, 0, 0, 0, 0, 0, 0, 0, 0, 0, 0, 0, 0, 0, ...</td>\n",
       "      <td>xinlinnn</td>\n",
       "      <td>2021-01-31</td>\n",
       "      <td>C</td>\n",
       "    </tr>\n",
       "  </tbody>\n",
       "</table>\n",
       "<p>6839 rows × 5 columns</p>\n",
       "</div>"
      ],
      "text/plain": [
       "                                             image_list  \\\n",
       "0     ../pictures/wo_background/ec24m/ec24m_2021-01-...   \n",
       "1     ../pictures/wo_background/ec24m/ec24m_2021-11-...   \n",
       "2     ../pictures/wo_background/ec24m/ec24m_2021-03-...   \n",
       "3     ../pictures/wo_background/ec24m/ec24m_2021-06-...   \n",
       "4     ../pictures/wo_background/ec24m/ec24m_2021-02-...   \n",
       "...                                                 ...   \n",
       "6834  ../pictures/wo_background/xinlinnn/xinlinnn_20...   \n",
       "6835  ../pictures/wo_background/xinlinnn/xinlinnn_20...   \n",
       "6836  ../pictures/wo_background/xinlinnn/xinlinnn_20...   \n",
       "6837  ../pictures/wo_background/xinlinnn/xinlinnn_20...   \n",
       "6838  ../pictures/wo_background/xinlinnn/xinlinnn_20...   \n",
       "\n",
       "                                              rgba_list instagram_handle  \\\n",
       "0     [0, 0, 0, 0, 0, 0, 0, 0, 0, 0, 0, 0, 0, 0, 0, ...            ec24m   \n",
       "1     [0, 0, 0, 0, 0, 0, 0, 0, 0, 0, 0, 0, 0, 0, 0, ...            ec24m   \n",
       "2     [0, 0, 0, 0, 0, 0, 0, 0, 0, 0, 0, 0, 0, 0, 0, ...            ec24m   \n",
       "3     [0, 0, 0, 0, 0, 0, 0, 0, 0, 0, 0, 0, 0, 0, 0, ...            ec24m   \n",
       "4     [0, 0, 0, 0, 0, 0, 0, 0, 0, 0, 0, 0, 0, 0, 0, ...            ec24m   \n",
       "...                                                 ...              ...   \n",
       "6834  [0, 0, 0, 0, 0, 0, 0, 0, 0, 0, 0, 0, 0, 0, 0, ...         xinlinnn   \n",
       "6835  [0, 0, 0, 0, 0, 0, 0, 0, 0, 0, 0, 0, 0, 0, 0, ...         xinlinnn   \n",
       "6836  [0, 0, 0, 0, 0, 0, 0, 0, 0, 0, 0, 0, 0, 0, 0, ...         xinlinnn   \n",
       "6837  [0, 0, 0, 0, 0, 0, 0, 0, 0, 0, 0, 0, 0, 0, 0, ...         xinlinnn   \n",
       "6838  [0, 0, 0, 0, 0, 0, 0, 0, 0, 0, 0, 0, 0, 0, 0, ...         xinlinnn   \n",
       "\n",
       "       date_post seq_post_samedate  \n",
       "0     2021-01-31                 C  \n",
       "1     2021-11-09                 2  \n",
       "2     2021-03-03                 C  \n",
       "3     2021-06-29                 1  \n",
       "4     2021-02-03                 C  \n",
       "...          ...               ...  \n",
       "6834  2021-01-15                 4  \n",
       "6835  2021-03-03                 C  \n",
       "6836  2021-02-03                 C  \n",
       "6837  2021-08-18                 C  \n",
       "6838  2021-01-31                 C  \n",
       "\n",
       "[6839 rows x 5 columns]"
      ]
     },
     "execution_count": 22,
     "metadata": {},
     "output_type": "execute_result"
    }
   ],
   "source": [
    "rgba_df"
   ]
  },
  {
   "cell_type": "code",
   "execution_count": 23,
   "id": "96b5d5c1",
   "metadata": {},
   "outputs": [
    {
     "data": {
      "text/plain": [
       "(6837, 5)"
      ]
     },
     "execution_count": 23,
     "metadata": {},
     "output_type": "execute_result"
    }
   ],
   "source": [
    "#delete corrupted posts that contains .DS\n",
    "rgba_df = rgba_df[~rgba_df.date_post.str.contains('.DS')]\n",
    "rgba_df.shape"
   ]
  },
  {
   "cell_type": "code",
   "execution_count": 24,
   "id": "96517c86",
   "metadata": {},
   "outputs": [
    {
     "data": {
      "text/plain": [
       "1    1933\n",
       "C    1797\n",
       "2    1680\n",
       "3     777\n",
       "4     320\n",
       "5     125\n",
       "6      78\n",
       "7      43\n",
       "8      34\n",
       "9      30\n",
       "0      12\n",
       "c       8\n",
       "Name: seq_post_samedate, dtype: int64"
      ]
     },
     "execution_count": 24,
     "metadata": {},
     "output_type": "execute_result"
    }
   ],
   "source": [
    "#translate seq_post_samedate\n",
    "rgba_df['seq_post_samedate'].value_counts()"
   ]
  },
  {
   "cell_type": "code",
   "execution_count": 25,
   "id": "433049ee",
   "metadata": {},
   "outputs": [
    {
     "name": "stderr",
     "output_type": "stream",
     "text": [
      "<ipython-input-25-706bc5aae8c8>:1: SettingWithCopyWarning: \n",
      "A value is trying to be set on a copy of a slice from a DataFrame.\n",
      "Try using .loc[row_indexer,col_indexer] = value instead\n",
      "\n",
      "See the caveats in the documentation: https://pandas.pydata.org/pandas-docs/stable/user_guide/indexing.html#returning-a-view-versus-a-copy\n",
      "  rgba_df['seq_post_samedate'] = rgba_df['seq_post_samedate']\\\n"
     ]
    },
    {
     "data": {
      "text/plain": [
       "1     1933\n",
       "0     1805\n",
       "2     1680\n",
       "3      777\n",
       "4      320\n",
       "5      125\n",
       "6       78\n",
       "7       43\n",
       "8       34\n",
       "9       30\n",
       "10      12\n",
       "Name: seq_post_samedate, dtype: int64"
      ]
     },
     "execution_count": 25,
     "metadata": {},
     "output_type": "execute_result"
    }
   ],
   "source": [
    "rgba_df['seq_post_samedate'] = rgba_df['seq_post_samedate']\\\n",
    ".map({'C':'0','c':'0','0':'10','1':'1','2':'2','3':'3','4':'4','5':'5','6':'6','7':'7','8':'8','9':'9'})\n",
    "rgba_df['seq_post_samedate'].value_counts()"
   ]
  },
  {
   "cell_type": "code",
   "execution_count": 26,
   "id": "413ccfd9",
   "metadata": {},
   "outputs": [
    {
     "name": "stderr",
     "output_type": "stream",
     "text": [
      "<ipython-input-26-8bfad6c914ef>:1: SettingWithCopyWarning: \n",
      "A value is trying to be set on a copy of a slice from a DataFrame.\n",
      "Try using .loc[row_indexer,col_indexer] = value instead\n",
      "\n",
      "See the caveats in the documentation: https://pandas.pydata.org/pandas-docs/stable/user_guide/indexing.html#returning-a-view-versus-a-copy\n",
      "  rgba_df['date_post'] = pd.to_datetime(rgba_df['date_post'])\n",
      "<ipython-input-26-8bfad6c914ef>:2: SettingWithCopyWarning: \n",
      "A value is trying to be set on a copy of a slice from a DataFrame.\n",
      "Try using .loc[row_indexer,col_indexer] = value instead\n",
      "\n",
      "See the caveats in the documentation: https://pandas.pydata.org/pandas-docs/stable/user_guide/indexing.html#returning-a-view-versus-a-copy\n",
      "  rgba_df['seq_post_samedate'] = rgba_df['seq_post_samedate'].astype(str).astype(int)\n"
     ]
    }
   ],
   "source": [
    "rgba_df['date_post'] = pd.to_datetime(rgba_df['date_post'])\n",
    "rgba_df['seq_post_samedate'] = rgba_df['seq_post_samedate'].astype(str).astype(int)"
   ]
  },
  {
   "cell_type": "code",
   "execution_count": 27,
   "id": "b03469a6",
   "metadata": {},
   "outputs": [
    {
     "data": {
      "text/html": [
       "<div>\n",
       "<style scoped>\n",
       "    .dataframe tbody tr th:only-of-type {\n",
       "        vertical-align: middle;\n",
       "    }\n",
       "\n",
       "    .dataframe tbody tr th {\n",
       "        vertical-align: top;\n",
       "    }\n",
       "\n",
       "    .dataframe thead th {\n",
       "        text-align: right;\n",
       "    }\n",
       "</style>\n",
       "<table border=\"1\" class=\"dataframe\">\n",
       "  <thead>\n",
       "    <tr style=\"text-align: right;\">\n",
       "      <th></th>\n",
       "      <th>image_list</th>\n",
       "      <th>rgba_list</th>\n",
       "      <th>instagram_handle</th>\n",
       "      <th>date_post</th>\n",
       "      <th>seq_post_samedate</th>\n",
       "    </tr>\n",
       "  </thead>\n",
       "  <tbody>\n",
       "    <tr>\n",
       "      <th>0</th>\n",
       "      <td>../pictures/wo_background/ec24m/ec24m_2021-01-...</td>\n",
       "      <td>[0, 0, 0, 0, 0, 0, 0, 0, 0, 0, 0, 0, 0, 0, 0, ...</td>\n",
       "      <td>ec24m</td>\n",
       "      <td>2021-01-31</td>\n",
       "      <td>0</td>\n",
       "    </tr>\n",
       "    <tr>\n",
       "      <th>1</th>\n",
       "      <td>../pictures/wo_background/ec24m/ec24m_2021-11-...</td>\n",
       "      <td>[0, 0, 0, 0, 0, 0, 0, 0, 0, 0, 0, 0, 0, 0, 0, ...</td>\n",
       "      <td>ec24m</td>\n",
       "      <td>2021-11-09</td>\n",
       "      <td>2</td>\n",
       "    </tr>\n",
       "    <tr>\n",
       "      <th>2</th>\n",
       "      <td>../pictures/wo_background/ec24m/ec24m_2021-03-...</td>\n",
       "      <td>[0, 0, 0, 0, 0, 0, 0, 0, 0, 0, 0, 0, 0, 0, 0, ...</td>\n",
       "      <td>ec24m</td>\n",
       "      <td>2021-03-03</td>\n",
       "      <td>0</td>\n",
       "    </tr>\n",
       "    <tr>\n",
       "      <th>3</th>\n",
       "      <td>../pictures/wo_background/ec24m/ec24m_2021-06-...</td>\n",
       "      <td>[0, 0, 0, 0, 0, 0, 0, 0, 0, 0, 0, 0, 0, 0, 0, ...</td>\n",
       "      <td>ec24m</td>\n",
       "      <td>2021-06-29</td>\n",
       "      <td>1</td>\n",
       "    </tr>\n",
       "    <tr>\n",
       "      <th>4</th>\n",
       "      <td>../pictures/wo_background/ec24m/ec24m_2021-02-...</td>\n",
       "      <td>[0, 0, 0, 0, 0, 0, 0, 0, 0, 0, 0, 0, 0, 0, 0, ...</td>\n",
       "      <td>ec24m</td>\n",
       "      <td>2021-02-03</td>\n",
       "      <td>0</td>\n",
       "    </tr>\n",
       "    <tr>\n",
       "      <th>...</th>\n",
       "      <td>...</td>\n",
       "      <td>...</td>\n",
       "      <td>...</td>\n",
       "      <td>...</td>\n",
       "      <td>...</td>\n",
       "    </tr>\n",
       "    <tr>\n",
       "      <th>6834</th>\n",
       "      <td>../pictures/wo_background/xinlinnn/xinlinnn_20...</td>\n",
       "      <td>[0, 0, 0, 0, 0, 0, 0, 0, 0, 0, 0, 0, 0, 0, 0, ...</td>\n",
       "      <td>xinlinnn</td>\n",
       "      <td>2021-01-15</td>\n",
       "      <td>4</td>\n",
       "    </tr>\n",
       "    <tr>\n",
       "      <th>6835</th>\n",
       "      <td>../pictures/wo_background/xinlinnn/xinlinnn_20...</td>\n",
       "      <td>[0, 0, 0, 0, 0, 0, 0, 0, 0, 0, 0, 0, 0, 0, 0, ...</td>\n",
       "      <td>xinlinnn</td>\n",
       "      <td>2021-03-03</td>\n",
       "      <td>0</td>\n",
       "    </tr>\n",
       "    <tr>\n",
       "      <th>6836</th>\n",
       "      <td>../pictures/wo_background/xinlinnn/xinlinnn_20...</td>\n",
       "      <td>[0, 0, 0, 0, 0, 0, 0, 0, 0, 0, 0, 0, 0, 0, 0, ...</td>\n",
       "      <td>xinlinnn</td>\n",
       "      <td>2021-02-03</td>\n",
       "      <td>0</td>\n",
       "    </tr>\n",
       "    <tr>\n",
       "      <th>6837</th>\n",
       "      <td>../pictures/wo_background/xinlinnn/xinlinnn_20...</td>\n",
       "      <td>[0, 0, 0, 0, 0, 0, 0, 0, 0, 0, 0, 0, 0, 0, 0, ...</td>\n",
       "      <td>xinlinnn</td>\n",
       "      <td>2021-08-18</td>\n",
       "      <td>0</td>\n",
       "    </tr>\n",
       "    <tr>\n",
       "      <th>6838</th>\n",
       "      <td>../pictures/wo_background/xinlinnn/xinlinnn_20...</td>\n",
       "      <td>[0, 0, 0, 0, 0, 0, 0, 0, 0, 0, 0, 0, 0, 0, 0, ...</td>\n",
       "      <td>xinlinnn</td>\n",
       "      <td>2021-01-31</td>\n",
       "      <td>0</td>\n",
       "    </tr>\n",
       "  </tbody>\n",
       "</table>\n",
       "<p>6837 rows × 5 columns</p>\n",
       "</div>"
      ],
      "text/plain": [
       "                                             image_list  \\\n",
       "0     ../pictures/wo_background/ec24m/ec24m_2021-01-...   \n",
       "1     ../pictures/wo_background/ec24m/ec24m_2021-11-...   \n",
       "2     ../pictures/wo_background/ec24m/ec24m_2021-03-...   \n",
       "3     ../pictures/wo_background/ec24m/ec24m_2021-06-...   \n",
       "4     ../pictures/wo_background/ec24m/ec24m_2021-02-...   \n",
       "...                                                 ...   \n",
       "6834  ../pictures/wo_background/xinlinnn/xinlinnn_20...   \n",
       "6835  ../pictures/wo_background/xinlinnn/xinlinnn_20...   \n",
       "6836  ../pictures/wo_background/xinlinnn/xinlinnn_20...   \n",
       "6837  ../pictures/wo_background/xinlinnn/xinlinnn_20...   \n",
       "6838  ../pictures/wo_background/xinlinnn/xinlinnn_20...   \n",
       "\n",
       "                                              rgba_list instagram_handle  \\\n",
       "0     [0, 0, 0, 0, 0, 0, 0, 0, 0, 0, 0, 0, 0, 0, 0, ...            ec24m   \n",
       "1     [0, 0, 0, 0, 0, 0, 0, 0, 0, 0, 0, 0, 0, 0, 0, ...            ec24m   \n",
       "2     [0, 0, 0, 0, 0, 0, 0, 0, 0, 0, 0, 0, 0, 0, 0, ...            ec24m   \n",
       "3     [0, 0, 0, 0, 0, 0, 0, 0, 0, 0, 0, 0, 0, 0, 0, ...            ec24m   \n",
       "4     [0, 0, 0, 0, 0, 0, 0, 0, 0, 0, 0, 0, 0, 0, 0, ...            ec24m   \n",
       "...                                                 ...              ...   \n",
       "6834  [0, 0, 0, 0, 0, 0, 0, 0, 0, 0, 0, 0, 0, 0, 0, ...         xinlinnn   \n",
       "6835  [0, 0, 0, 0, 0, 0, 0, 0, 0, 0, 0, 0, 0, 0, 0, ...         xinlinnn   \n",
       "6836  [0, 0, 0, 0, 0, 0, 0, 0, 0, 0, 0, 0, 0, 0, 0, ...         xinlinnn   \n",
       "6837  [0, 0, 0, 0, 0, 0, 0, 0, 0, 0, 0, 0, 0, 0, 0, ...         xinlinnn   \n",
       "6838  [0, 0, 0, 0, 0, 0, 0, 0, 0, 0, 0, 0, 0, 0, 0, ...         xinlinnn   \n",
       "\n",
       "      date_post  seq_post_samedate  \n",
       "0    2021-01-31                  0  \n",
       "1    2021-11-09                  2  \n",
       "2    2021-03-03                  0  \n",
       "3    2021-06-29                  1  \n",
       "4    2021-02-03                  0  \n",
       "...         ...                ...  \n",
       "6834 2021-01-15                  4  \n",
       "6835 2021-03-03                  0  \n",
       "6836 2021-02-03                  0  \n",
       "6837 2021-08-18                  0  \n",
       "6838 2021-01-31                  0  \n",
       "\n",
       "[6837 rows x 5 columns]"
      ]
     },
     "execution_count": 27,
     "metadata": {},
     "output_type": "execute_result"
    }
   ],
   "source": [
    "rgba_df"
   ]
  },
  {
   "cell_type": "code",
   "execution_count": 28,
   "id": "49baf7a8",
   "metadata": {},
   "outputs": [],
   "source": [
    "#extract month\n",
    "def month_extract(x):\n",
    "    month = x.month\n",
    "    return month"
   ]
  },
  {
   "cell_type": "code",
   "execution_count": 29,
   "id": "34ceb076",
   "metadata": {},
   "outputs": [
    {
     "name": "stderr",
     "output_type": "stream",
     "text": [
      "<ipython-input-29-8aca52a00c05>:1: SettingWithCopyWarning: \n",
      "A value is trying to be set on a copy of a slice from a DataFrame.\n",
      "Try using .loc[row_indexer,col_indexer] = value instead\n",
      "\n",
      "See the caveats in the documentation: https://pandas.pydata.org/pandas-docs/stable/user_guide/indexing.html#returning-a-view-versus-a-copy\n",
      "  rgba_df['month'] = rgba_df['date_post'].apply(month_extract)\n"
     ]
    },
    {
     "data": {
      "text/html": [
       "<div>\n",
       "<style scoped>\n",
       "    .dataframe tbody tr th:only-of-type {\n",
       "        vertical-align: middle;\n",
       "    }\n",
       "\n",
       "    .dataframe tbody tr th {\n",
       "        vertical-align: top;\n",
       "    }\n",
       "\n",
       "    .dataframe thead th {\n",
       "        text-align: right;\n",
       "    }\n",
       "</style>\n",
       "<table border=\"1\" class=\"dataframe\">\n",
       "  <thead>\n",
       "    <tr style=\"text-align: right;\">\n",
       "      <th></th>\n",
       "      <th>image_list</th>\n",
       "      <th>rgba_list</th>\n",
       "      <th>instagram_handle</th>\n",
       "      <th>date_post</th>\n",
       "      <th>seq_post_samedate</th>\n",
       "      <th>month</th>\n",
       "    </tr>\n",
       "  </thead>\n",
       "  <tbody>\n",
       "    <tr>\n",
       "      <th>0</th>\n",
       "      <td>../pictures/wo_background/ec24m/ec24m_2021-01-...</td>\n",
       "      <td>[0, 0, 0, 0, 0, 0, 0, 0, 0, 0, 0, 0, 0, 0, 0, ...</td>\n",
       "      <td>ec24m</td>\n",
       "      <td>2021-01-31</td>\n",
       "      <td>0</td>\n",
       "      <td>1</td>\n",
       "    </tr>\n",
       "    <tr>\n",
       "      <th>1</th>\n",
       "      <td>../pictures/wo_background/ec24m/ec24m_2021-11-...</td>\n",
       "      <td>[0, 0, 0, 0, 0, 0, 0, 0, 0, 0, 0, 0, 0, 0, 0, ...</td>\n",
       "      <td>ec24m</td>\n",
       "      <td>2021-11-09</td>\n",
       "      <td>2</td>\n",
       "      <td>11</td>\n",
       "    </tr>\n",
       "    <tr>\n",
       "      <th>2</th>\n",
       "      <td>../pictures/wo_background/ec24m/ec24m_2021-03-...</td>\n",
       "      <td>[0, 0, 0, 0, 0, 0, 0, 0, 0, 0, 0, 0, 0, 0, 0, ...</td>\n",
       "      <td>ec24m</td>\n",
       "      <td>2021-03-03</td>\n",
       "      <td>0</td>\n",
       "      <td>3</td>\n",
       "    </tr>\n",
       "    <tr>\n",
       "      <th>3</th>\n",
       "      <td>../pictures/wo_background/ec24m/ec24m_2021-06-...</td>\n",
       "      <td>[0, 0, 0, 0, 0, 0, 0, 0, 0, 0, 0, 0, 0, 0, 0, ...</td>\n",
       "      <td>ec24m</td>\n",
       "      <td>2021-06-29</td>\n",
       "      <td>1</td>\n",
       "      <td>6</td>\n",
       "    </tr>\n",
       "    <tr>\n",
       "      <th>4</th>\n",
       "      <td>../pictures/wo_background/ec24m/ec24m_2021-02-...</td>\n",
       "      <td>[0, 0, 0, 0, 0, 0, 0, 0, 0, 0, 0, 0, 0, 0, 0, ...</td>\n",
       "      <td>ec24m</td>\n",
       "      <td>2021-02-03</td>\n",
       "      <td>0</td>\n",
       "      <td>2</td>\n",
       "    </tr>\n",
       "    <tr>\n",
       "      <th>...</th>\n",
       "      <td>...</td>\n",
       "      <td>...</td>\n",
       "      <td>...</td>\n",
       "      <td>...</td>\n",
       "      <td>...</td>\n",
       "      <td>...</td>\n",
       "    </tr>\n",
       "    <tr>\n",
       "      <th>6834</th>\n",
       "      <td>../pictures/wo_background/xinlinnn/xinlinnn_20...</td>\n",
       "      <td>[0, 0, 0, 0, 0, 0, 0, 0, 0, 0, 0, 0, 0, 0, 0, ...</td>\n",
       "      <td>xinlinnn</td>\n",
       "      <td>2021-01-15</td>\n",
       "      <td>4</td>\n",
       "      <td>1</td>\n",
       "    </tr>\n",
       "    <tr>\n",
       "      <th>6835</th>\n",
       "      <td>../pictures/wo_background/xinlinnn/xinlinnn_20...</td>\n",
       "      <td>[0, 0, 0, 0, 0, 0, 0, 0, 0, 0, 0, 0, 0, 0, 0, ...</td>\n",
       "      <td>xinlinnn</td>\n",
       "      <td>2021-03-03</td>\n",
       "      <td>0</td>\n",
       "      <td>3</td>\n",
       "    </tr>\n",
       "    <tr>\n",
       "      <th>6836</th>\n",
       "      <td>../pictures/wo_background/xinlinnn/xinlinnn_20...</td>\n",
       "      <td>[0, 0, 0, 0, 0, 0, 0, 0, 0, 0, 0, 0, 0, 0, 0, ...</td>\n",
       "      <td>xinlinnn</td>\n",
       "      <td>2021-02-03</td>\n",
       "      <td>0</td>\n",
       "      <td>2</td>\n",
       "    </tr>\n",
       "    <tr>\n",
       "      <th>6837</th>\n",
       "      <td>../pictures/wo_background/xinlinnn/xinlinnn_20...</td>\n",
       "      <td>[0, 0, 0, 0, 0, 0, 0, 0, 0, 0, 0, 0, 0, 0, 0, ...</td>\n",
       "      <td>xinlinnn</td>\n",
       "      <td>2021-08-18</td>\n",
       "      <td>0</td>\n",
       "      <td>8</td>\n",
       "    </tr>\n",
       "    <tr>\n",
       "      <th>6838</th>\n",
       "      <td>../pictures/wo_background/xinlinnn/xinlinnn_20...</td>\n",
       "      <td>[0, 0, 0, 0, 0, 0, 0, 0, 0, 0, 0, 0, 0, 0, 0, ...</td>\n",
       "      <td>xinlinnn</td>\n",
       "      <td>2021-01-31</td>\n",
       "      <td>0</td>\n",
       "      <td>1</td>\n",
       "    </tr>\n",
       "  </tbody>\n",
       "</table>\n",
       "<p>6837 rows × 6 columns</p>\n",
       "</div>"
      ],
      "text/plain": [
       "                                             image_list  \\\n",
       "0     ../pictures/wo_background/ec24m/ec24m_2021-01-...   \n",
       "1     ../pictures/wo_background/ec24m/ec24m_2021-11-...   \n",
       "2     ../pictures/wo_background/ec24m/ec24m_2021-03-...   \n",
       "3     ../pictures/wo_background/ec24m/ec24m_2021-06-...   \n",
       "4     ../pictures/wo_background/ec24m/ec24m_2021-02-...   \n",
       "...                                                 ...   \n",
       "6834  ../pictures/wo_background/xinlinnn/xinlinnn_20...   \n",
       "6835  ../pictures/wo_background/xinlinnn/xinlinnn_20...   \n",
       "6836  ../pictures/wo_background/xinlinnn/xinlinnn_20...   \n",
       "6837  ../pictures/wo_background/xinlinnn/xinlinnn_20...   \n",
       "6838  ../pictures/wo_background/xinlinnn/xinlinnn_20...   \n",
       "\n",
       "                                              rgba_list instagram_handle  \\\n",
       "0     [0, 0, 0, 0, 0, 0, 0, 0, 0, 0, 0, 0, 0, 0, 0, ...            ec24m   \n",
       "1     [0, 0, 0, 0, 0, 0, 0, 0, 0, 0, 0, 0, 0, 0, 0, ...            ec24m   \n",
       "2     [0, 0, 0, 0, 0, 0, 0, 0, 0, 0, 0, 0, 0, 0, 0, ...            ec24m   \n",
       "3     [0, 0, 0, 0, 0, 0, 0, 0, 0, 0, 0, 0, 0, 0, 0, ...            ec24m   \n",
       "4     [0, 0, 0, 0, 0, 0, 0, 0, 0, 0, 0, 0, 0, 0, 0, ...            ec24m   \n",
       "...                                                 ...              ...   \n",
       "6834  [0, 0, 0, 0, 0, 0, 0, 0, 0, 0, 0, 0, 0, 0, 0, ...         xinlinnn   \n",
       "6835  [0, 0, 0, 0, 0, 0, 0, 0, 0, 0, 0, 0, 0, 0, 0, ...         xinlinnn   \n",
       "6836  [0, 0, 0, 0, 0, 0, 0, 0, 0, 0, 0, 0, 0, 0, 0, ...         xinlinnn   \n",
       "6837  [0, 0, 0, 0, 0, 0, 0, 0, 0, 0, 0, 0, 0, 0, 0, ...         xinlinnn   \n",
       "6838  [0, 0, 0, 0, 0, 0, 0, 0, 0, 0, 0, 0, 0, 0, 0, ...         xinlinnn   \n",
       "\n",
       "      date_post  seq_post_samedate  month  \n",
       "0    2021-01-31                  0      1  \n",
       "1    2021-11-09                  2     11  \n",
       "2    2021-03-03                  0      3  \n",
       "3    2021-06-29                  1      6  \n",
       "4    2021-02-03                  0      2  \n",
       "...         ...                ...    ...  \n",
       "6834 2021-01-15                  4      1  \n",
       "6835 2021-03-03                  0      3  \n",
       "6836 2021-02-03                  0      2  \n",
       "6837 2021-08-18                  0      8  \n",
       "6838 2021-01-31                  0      1  \n",
       "\n",
       "[6837 rows x 6 columns]"
      ]
     },
     "execution_count": 29,
     "metadata": {},
     "output_type": "execute_result"
    }
   ],
   "source": [
    "rgba_df['month'] = rgba_df['date_post'].apply(month_extract)\n",
    "rgba_df"
   ]
  },
  {
   "cell_type": "code",
   "execution_count": 30,
   "id": "51e01321",
   "metadata": {},
   "outputs": [
    {
     "data": {
      "text/plain": [
       "10    709\n",
       "3     687\n",
       "11    679\n",
       "9     639\n",
       "6     620\n",
       "7     614\n",
       "2     600\n",
       "4     571\n",
       "1     567\n",
       "8     565\n",
       "5     550\n",
       "12     36\n",
       "Name: month, dtype: int64"
      ]
     },
     "execution_count": 30,
     "metadata": {},
     "output_type": "execute_result"
    }
   ],
   "source": [
    "#check number of posts per month to see if data is evenly distributed\n",
    "rgba_df['month'].value_counts()"
   ]
  },
  {
   "cell_type": "code",
   "execution_count": 31,
   "id": "c64932f4",
   "metadata": {},
   "outputs": [
    {
     "data": {
      "text/plain": [
       "ec24m               717\n",
       "novitalam           650\n",
       "speishi             451\n",
       "aureliang_          392\n",
       "xinlinnn            385\n",
       "mongabong           383\n",
       "rchlwngxx           309\n",
       "mirchelley          300\n",
       "limrebecca          269\n",
       "ohhowstrange        245\n",
       "soniachew           238\n",
       "fionafussi          219\n",
       "dreachong           196\n",
       "kimlimhl            194\n",
       "carriewst           166\n",
       "katepang311         144\n",
       "zoetay10            140\n",
       "jiaqiwoo            138\n",
       "melissackoh         136\n",
       "honglingg_          135\n",
       "xoxoapo             120\n",
       "julietan_cxq        116\n",
       "saffronsharpe       105\n",
       "nicolekittykatx      91\n",
       "narellekheng         85\n",
       "hayleywoojiayi       77\n",
       "elaineruimin         74\n",
       "yahuiyh              73\n",
       "sheila_sim           67\n",
       "jacelyn_tay          53\n",
       "euniceannabel        47\n",
       "cheyennechesney      46\n",
       "denisesoongeelyn     39\n",
       "xplacidacidx         37\n",
       "Name: instagram_handle, dtype: int64"
      ]
     },
     "execution_count": 31,
     "metadata": {},
     "output_type": "execute_result"
    }
   ],
   "source": [
    "#check posts per influencer\n",
    "rgba_df['instagram_handle'].value_counts()"
   ]
  },
  {
   "cell_type": "code",
   "execution_count": 32,
   "id": "24c7f021",
   "metadata": {},
   "outputs": [],
   "source": [
    "#def function to get arrays for each month\n",
    "def array_month(x):\n",
    "    x_df = rgba_df.loc[rgba_df['month'] == x]\n",
    "    x_df.reset_index(drop=True, inplace = True)\n",
    "    x_array = x_df['rgba_list'][0]\n",
    "    for n in range (1, len(x_df)):\n",
    "        x_array = np.concatenate([x_array, x_df['rgba_list'][n]])\n",
    "    return x_array"
   ]
  },
  {
   "cell_type": "code",
   "execution_count": 51,
   "id": "1dd52283",
   "metadata": {},
   "outputs": [
    {
     "name": "stdout",
     "output_type": "stream",
     "text": [
      "CPU times: user 21.5 s, sys: 1min 5s, total: 1min 27s\n",
      "Wall time: 1min 29s\n"
     ]
    },
    {
     "data": {
      "text/plain": [
       "array([0, 0, 0, ..., 0, 0, 0])"
      ]
     },
     "execution_count": 51,
     "metadata": {},
     "output_type": "execute_result"
    }
   ],
   "source": [
    "%%time\n",
    "jan_array = array_month(1)\n",
    "jan_array"
   ]
  },
  {
   "cell_type": "code",
   "execution_count": 52,
   "id": "da186676",
   "metadata": {},
   "outputs": [
    {
     "name": "stdout",
     "output_type": "stream",
     "text": [
      "CPU times: user 24.1 s, sys: 1min 12s, total: 1min 36s\n",
      "Wall time: 1min 39s\n"
     ]
    },
    {
     "data": {
      "text/plain": [
       "array([0, 0, 0, ..., 0, 0, 3])"
      ]
     },
     "execution_count": 52,
     "metadata": {},
     "output_type": "execute_result"
    }
   ],
   "source": [
    "%%time\n",
    "feb_array = array_month(2)\n",
    "feb_array"
   ]
  },
  {
   "cell_type": "code",
   "execution_count": 53,
   "id": "ecbf929c",
   "metadata": {},
   "outputs": [
    {
     "name": "stdout",
     "output_type": "stream",
     "text": [
      "CPU times: user 31.6 s, sys: 1min 36s, total: 2min 7s\n",
      "Wall time: 2min 10s\n"
     ]
    },
    {
     "data": {
      "text/plain": [
       "array([0, 0, 0, ..., 0, 0, 0])"
      ]
     },
     "execution_count": 53,
     "metadata": {},
     "output_type": "execute_result"
    }
   ],
   "source": [
    "%%time\n",
    "mar_array = array_month(3)\n",
    "mar_array"
   ]
  },
  {
   "cell_type": "code",
   "execution_count": 79,
   "id": "355ef62e",
   "metadata": {},
   "outputs": [
    {
     "name": "stdout",
     "output_type": "stream",
     "text": [
      "CPU times: user 21.7 s, sys: 1min 7s, total: 1min 28s\n",
      "Wall time: 1min 32s\n"
     ]
    },
    {
     "data": {
      "text/plain": [
       "array([0, 0, 0, ..., 0, 0, 0])"
      ]
     },
     "execution_count": 79,
     "metadata": {},
     "output_type": "execute_result"
    }
   ],
   "source": [
    "%%time\n",
    "apr_array = array_month(4)\n",
    "apr_array"
   ]
  },
  {
   "cell_type": "code",
   "execution_count": 83,
   "id": "acc3c460",
   "metadata": {},
   "outputs": [
    {
     "name": "stdout",
     "output_type": "stream",
     "text": [
      "CPU times: user 20.3 s, sys: 1min 3s, total: 1min 23s\n",
      "Wall time: 1min 25s\n"
     ]
    },
    {
     "data": {
      "text/plain": [
       "array([  0,   0,   0, ..., 206, 210, 230])"
      ]
     },
     "execution_count": 83,
     "metadata": {},
     "output_type": "execute_result"
    }
   ],
   "source": [
    "%%time\n",
    "may_array = array_month(5)\n",
    "may_array"
   ]
  },
  {
   "cell_type": "code",
   "execution_count": 85,
   "id": "a12c43b9",
   "metadata": {},
   "outputs": [
    {
     "name": "stdout",
     "output_type": "stream",
     "text": [
      "CPU times: user 25.7 s, sys: 1min 19s, total: 1min 44s\n",
      "Wall time: 1min 47s\n"
     ]
    },
    {
     "data": {
      "text/plain": [
       "array([0, 0, 0, ..., 0, 0, 0])"
      ]
     },
     "execution_count": 85,
     "metadata": {},
     "output_type": "execute_result"
    }
   ],
   "source": [
    "%%time\n",
    "jun_array = array_month(6)\n",
    "jun_array"
   ]
  },
  {
   "cell_type": "code",
   "execution_count": 62,
   "id": "a67c9542",
   "metadata": {},
   "outputs": [],
   "source": [
    "def cluster10_centers(x_array):\n",
    "    x = x_array.reshape(-1, 4)\n",
    "    x = np.array([f for f in x if f[3] !=0], np.uint8)\n",
    "    clt = KMeans(n_clusters = 10, max_iter=500, random_state=5).fit(x)\n",
    "    centers = clt.cluster_centers_\n",
    "    centers = np.uint8(centers)\n",
    "    return centers"
   ]
  },
  {
   "cell_type": "code",
   "execution_count": 65,
   "id": "7070e215",
   "metadata": {},
   "outputs": [],
   "source": [
    "def cluster10_score(x_array):\n",
    "    x = x_array.reshape(-1, 4)\n",
    "    x = np.array([f for f in x if f[3] !=0], np.uint8)\n",
    "    clt = KMeans(n_clusters = 10, max_iter=500, random_state=5).fit(x)\n",
    "    score = silhouette_score(x, clt.labels_, metric='euclidean')\n",
    "    return score"
   ]
  },
  {
   "cell_type": "code",
   "execution_count": 76,
   "id": "1cb76047",
   "metadata": {},
   "outputs": [
    {
     "name": "stdout",
     "output_type": "stream",
     "text": [
      "CPU times: user 9min 46s, sys: 1min 42s, total: 11min 29s\n",
      "Wall time: 1min 46s\n"
     ]
    },
    {
     "data": {
      "text/plain": [
       "array([[218, 210, 209, 253],\n",
       "       [ 26,  19,  20, 250],\n",
       "       [120, 116, 120, 249],\n",
       "       [  4,   3,   3,  12],\n",
       "       [198, 168, 158, 252],\n",
       "       [144,  79,  61, 252],\n",
       "       [105,  91,  86, 139],\n",
       "       [180, 132, 111, 252],\n",
       "       [ 73,  56,  54, 250],\n",
       "       [ 43,  36,  34,  89]], dtype=uint8)"
      ]
     },
     "execution_count": 76,
     "metadata": {},
     "output_type": "execute_result"
    }
   ],
   "source": [
    "%%time\n",
    "jan_centers_10 = cluster10_centers(jan_array)\n",
    "jan_centers_10"
   ]
  },
  {
   "cell_type": "code",
   "execution_count": 67,
   "id": "c02c50d3",
   "metadata": {},
   "outputs": [],
   "source": [
    "# %%time\n",
    "# jan_score_10 = cluster10_score(jan_array)\n",
    "# jan_score_10"
   ]
  },
  {
   "cell_type": "code",
   "execution_count": 68,
   "id": "88fb94ea",
   "metadata": {},
   "outputs": [
    {
     "name": "stdout",
     "output_type": "stream",
     "text": [
      "CPU times: user 8min 27s, sys: 1min 33s, total: 10min 1s\n",
      "Wall time: 1min 35s\n"
     ]
    },
    {
     "data": {
      "text/plain": [
       "array([[134,  93,  76, 249],\n",
       "       [  6,   5,   5,  15],\n",
       "       [123, 131, 142, 242],\n",
       "       [ 75,  58,  55, 250],\n",
       "       [218, 208, 206, 253],\n",
       "       [ 72,  61,  56, 108],\n",
       "       [ 31,  23,  24, 250],\n",
       "       [182, 130, 106, 252],\n",
       "       [200, 168, 155, 252],\n",
       "       [177,  32,  36, 252]], dtype=uint8)"
      ]
     },
     "execution_count": 68,
     "metadata": {},
     "output_type": "execute_result"
    }
   ],
   "source": [
    "%%time\n",
    "feb_centers_10 = cluster10_centers(feb_array)\n",
    "feb_centers_10"
   ]
  },
  {
   "cell_type": "code",
   "execution_count": 69,
   "id": "527c6a51",
   "metadata": {},
   "outputs": [
    {
     "name": "stdout",
     "output_type": "stream",
     "text": [
      "CPU times: user 9min 42s, sys: 1min 45s, total: 11min 28s\n",
      "Wall time: 1min 53s\n"
     ]
    },
    {
     "data": {
      "text/plain": [
       "array([[197, 171, 158, 252],\n",
       "       [ 70,  57,  56, 250],\n",
       "       [  3,   3,   3,  11],\n",
       "       [178, 132, 109, 251],\n",
       "       [135,  87,  69, 252],\n",
       "       [ 27,  22,  24, 250],\n",
       "       [105,  93,  86, 145],\n",
       "       [109, 122, 136, 250],\n",
       "       [219, 212, 211, 253],\n",
       "       [ 45,  40,  36,  88]], dtype=uint8)"
      ]
     },
     "execution_count": 69,
     "metadata": {},
     "output_type": "execute_result"
    }
   ],
   "source": [
    "%%time\n",
    "mar_centers_10 = cluster10_centers(mar_array)\n",
    "mar_centers_10"
   ]
  },
  {
   "cell_type": "code",
   "execution_count": 81,
   "id": "9e58533b",
   "metadata": {},
   "outputs": [
    {
     "name": "stdout",
     "output_type": "stream",
     "text": [
      "CPU times: user 7min 56s, sys: 1min 31s, total: 9min 28s\n",
      "Wall time: 1min 30s\n"
     ]
    },
    {
     "data": {
      "text/plain": [
       "array([[138,  90,  72, 251],\n",
       "       [ 27,  21,  22, 250],\n",
       "       [  3,   3,   3,  11],\n",
       "       [215, 210, 209, 253],\n",
       "       [183, 133, 107, 252],\n",
       "       [104,  93,  88, 144],\n",
       "       [ 46,  39,  37,  88],\n",
       "       [ 73,  57,  56, 250],\n",
       "       [199, 171, 158, 252],\n",
       "       [125, 132, 146, 248]], dtype=uint8)"
      ]
     },
     "execution_count": 81,
     "metadata": {},
     "output_type": "execute_result"
    }
   ],
   "source": [
    "%%time\n",
    "apr_centers_10 = cluster10_centers(apr_array)\n",
    "apr_centers_10"
   ]
  },
  {
   "cell_type": "code",
   "execution_count": 84,
   "id": "e2b2992e",
   "metadata": {},
   "outputs": [
    {
     "name": "stdout",
     "output_type": "stream",
     "text": [
      "CPU times: user 9min 6s, sys: 1min 40s, total: 10min 47s\n",
      "Wall time: 1min 38s\n"
     ]
    },
    {
     "data": {
      "text/plain": [
       "array([[105,  93,  88, 144],\n",
       "       [217, 212, 212, 253],\n",
       "       [ 23,  19,  21, 250],\n",
       "       [133,  90,  72, 251],\n",
       "       [  3,   3,   3,  11],\n",
       "       [200, 171, 158, 252],\n",
       "       [ 66,  54,  56, 250],\n",
       "       [113, 127, 145, 249],\n",
       "       [ 45,  38,  36,  89],\n",
       "       [178, 133, 111, 251]], dtype=uint8)"
      ]
     },
     "execution_count": 84,
     "metadata": {},
     "output_type": "execute_result"
    }
   ],
   "source": [
    "%%time\n",
    "may_centers_10 = cluster10_centers(may_array)\n",
    "may_centers_10"
   ]
  },
  {
   "cell_type": "code",
   "execution_count": 86,
   "id": "2bea2433",
   "metadata": {},
   "outputs": [
    {
     "name": "stdout",
     "output_type": "stream",
     "text": [
      "CPU times: user 11min 16s, sys: 1min 59s, total: 13min 16s\n",
      "Wall time: 2min 2s\n"
     ]
    },
    {
     "data": {
      "text/plain": [
       "array([[ 26,  21,  22, 250],\n",
       "       [132, 136, 144, 242],\n",
       "       [  6,   5,   5,  16],\n",
       "       [194,  38,  43, 251],\n",
       "       [129,  95,  78, 249],\n",
       "       [ 73,  56,  53, 250],\n",
       "       [ 69,  60,  55, 109],\n",
       "       [200, 173, 159, 252],\n",
       "       [222, 213, 208, 253],\n",
       "       [179, 133, 110, 252]], dtype=uint8)"
      ]
     },
     "execution_count": 86,
     "metadata": {},
     "output_type": "execute_result"
    }
   ],
   "source": [
    "%%time\n",
    "jun_centers_10 = cluster10_centers(jun_array)\n",
    "jun_centers_10"
   ]
  },
  {
   "cell_type": "code",
   "execution_count": 70,
   "id": "0ea87fc8",
   "metadata": {},
   "outputs": [],
   "source": [
    "def palette(centers):\n",
    "    height = 50\n",
    "    width = 300\n",
    "    palette = np.zeros((height, width, 4), np.uint8)\n",
    "    steps = width/centers.shape[0]\n",
    "    for idx, centers in enumerate(centers): \n",
    "        palette[:, int(idx*steps):(int((idx+1)*steps)), :] = centers\n",
    "    return palette"
   ]
  },
  {
   "cell_type": "code",
   "execution_count": 71,
   "id": "88811dfc",
   "metadata": {},
   "outputs": [],
   "source": [
    "def show_img_compar(img_1, img_2 ):\n",
    "    f, ax = plt.subplots(1, 2, figsize=(10,10))\n",
    "    ax[0].imshow(img_1)\n",
    "    ax[1].imshow(img_2)\n",
    "    ax[0].axis('off')\n",
    "    ax[1].axis('off')\n",
    "    f.tight_layout()\n",
    "    plt.show()"
   ]
  },
  {
   "cell_type": "code",
   "execution_count": 78,
   "id": "45211667",
   "metadata": {},
   "outputs": [
    {
     "data": {
      "image/png": "[encoded data removed]",
      "text/plain": [
       "<Figure size 720x720 with 2 Axes>"
      ]
     },
     "metadata": {
      "needs_background": "light"
     },
     "output_type": "display_data"
    }
   ],
   "source": [
    "show_img_compar(palette(jan_centers_10), palette(feb_centers_10))"
   ]
  },
  {
   "cell_type": "code",
   "execution_count": 82,
   "id": "66900ba7",
   "metadata": {},
   "outputs": [
    {
     "data": {
      "image/png": "[encoded data removed]",
      "text/plain": [
       "<Figure size 720x720 with 2 Axes>"
      ]
     },
     "metadata": {
      "needs_background": "light"
     },
     "output_type": "display_data"
    }
   ],
   "source": [
    "show_img_compar(palette(mar_centers_10), palette(apr_centers_10))"
   ]
  },
  {
   "cell_type": "code",
   "execution_count": 87,
   "id": "6c3879c5",
   "metadata": {},
   "outputs": [
    {
     "data": {
      "image/png": "[encoded data removed]",
      "text/plain": [
       "<Figure size 720x720 with 2 Axes>"
      ]
     },
     "metadata": {
      "needs_background": "light"
     },
     "output_type": "display_data"
    }
   ],
   "source": [
    "show_img_compar(palette(may_centers_10), palette(jun_centers_10))"
   ]
  },
  {
   "cell_type": "code",
   "execution_count": null,
   "id": "6cce7742",
   "metadata": {},
   "outputs": [],
   "source": []
  }
 ],
 "metadata": {
  "kernelspec": {
   "display_name": "Python 3",
   "language": "python",
   "name": "python3"
  },
  "language_info": {
   "codemirror_mode": {
    "name": "ipython",
    "version": 3
   },
   "file_extension": ".py",
   "mimetype": "text/x-python",
   "name": "python",
   "nbconvert_exporter": "python",
   "pygments_lexer": "ipython3",
   "version": "3.8.8"
  }
 },
 "nbformat": 4,
 "nbformat_minor": 5
}
