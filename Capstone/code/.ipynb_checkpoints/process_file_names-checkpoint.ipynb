{
 "cells": [
  {
   "cell_type": "code",
   "execution_count": 1,
   "id": "03caf8b7",
   "metadata": {},
   "outputs": [],
   "source": [
    "import os\n",
    "import shutil\n",
    "import numpy as np\n",
    "import pandas as pd"
   ]
  },
  {
   "cell_type": "code",
   "execution_count": 2,
   "id": "a3b24e20",
   "metadata": {},
   "outputs": [],
   "source": [
    "# Load list of insta accounts\n",
    "final_acct_df = pd.read_csv('../data/final_acct_df.csv')"
   ]
  },
  {
   "cell_type": "code",
   "execution_count": 3,
   "id": "3d8392c3",
   "metadata": {},
   "outputs": [
    {
     "data": {
      "text/html": [
       "<div>\n",
       "<style scoped>\n",
       "    .dataframe tbody tr th:only-of-type {\n",
       "        vertical-align: middle;\n",
       "    }\n",
       "\n",
       "    .dataframe tbody tr th {\n",
       "        vertical-align: top;\n",
       "    }\n",
       "\n",
       "    .dataframe thead th {\n",
       "        text-align: right;\n",
       "    }\n",
       "</style>\n",
       "<table border=\"1\" class=\"dataframe\">\n",
       "  <thead>\n",
       "    <tr style=\"text-align: right;\">\n",
       "      <th></th>\n",
       "      <th>handle</th>\n",
       "      <th>name</th>\n",
       "      <th>topics</th>\n",
       "      <th>follower_count</th>\n",
       "      <th>to_exclude_pets_food</th>\n",
       "    </tr>\n",
       "  </thead>\n",
       "  <tbody>\n",
       "    <tr>\n",
       "      <th>0</th>\n",
       "      <td>ec24m</td>\n",
       "      <td>Jamie Chua 蔡欣颖</td>\n",
       "      <td>Photography Travel Fashion Design Celebrities</td>\n",
       "      <td>1200000</td>\n",
       "      <td>0</td>\n",
       "    </tr>\n",
       "    <tr>\n",
       "      <th>1</th>\n",
       "      <td>jiaqiwoo</td>\n",
       "      <td>胡佳琪 Jayley Woo</td>\n",
       "      <td>Fashion Styling Lifestyle</td>\n",
       "      <td>409700</td>\n",
       "      <td>0</td>\n",
       "    </tr>\n",
       "    <tr>\n",
       "      <th>2</th>\n",
       "      <td>limrebecca</td>\n",
       "      <td>Rebecca Lim 林慧玲</td>\n",
       "      <td>Actors Fashion Art Modeling</td>\n",
       "      <td>408400</td>\n",
       "      <td>0</td>\n",
       "    </tr>\n",
       "    <tr>\n",
       "      <th>3</th>\n",
       "      <td>speishi</td>\n",
       "      <td>SOH PEI SHI 苏培诗</td>\n",
       "      <td>Fashion Lifestyle Beauty</td>\n",
       "      <td>346800</td>\n",
       "      <td>0</td>\n",
       "    </tr>\n",
       "    <tr>\n",
       "      <th>4</th>\n",
       "      <td>dreachong</td>\n",
       "      <td>Andrea Chong</td>\n",
       "      <td>Fashion Styling Lifestyle</td>\n",
       "      <td>305500</td>\n",
       "      <td>0</td>\n",
       "    </tr>\n",
       "  </tbody>\n",
       "</table>\n",
       "</div>"
      ],
      "text/plain": [
       "       handle             name                                         topics  \\\n",
       "0       ec24m   Jamie Chua 蔡欣颖  Photography Travel Fashion Design Celebrities   \n",
       "1    jiaqiwoo   胡佳琪 Jayley Woo                      Fashion Styling Lifestyle   \n",
       "2  limrebecca  Rebecca Lim 林慧玲                    Actors Fashion Art Modeling   \n",
       "3     speishi  SOH PEI SHI 苏培诗                       Fashion Lifestyle Beauty   \n",
       "4   dreachong     Andrea Chong                      Fashion Styling Lifestyle   \n",
       "\n",
       "   follower_count  to_exclude_pets_food  \n",
       "0         1200000                     0  \n",
       "1          409700                     0  \n",
       "2          408400                     0  \n",
       "3          346800                     0  \n",
       "4          305500                     0  "
      ]
     },
     "execution_count": 3,
     "metadata": {},
     "output_type": "execute_result"
    }
   ],
   "source": [
    "final_acct_df.head()"
   ]
  },
  {
   "cell_type": "code",
   "execution_count": 4,
   "id": "e877ce67",
   "metadata": {},
   "outputs": [
    {
     "data": {
      "text/plain": [
       "['ec24m',\n",
       " 'jiaqiwoo',\n",
       " 'limrebecca',\n",
       " 'speishi',\n",
       " 'dreachong',\n",
       " 'carriewst',\n",
       " 'kimlimhl',\n",
       " 'novitalam',\n",
       " 'julietan_cxq',\n",
       " 'mongabong',\n",
       " 'aureliang_',\n",
       " 'xplacidacidx',\n",
       " 'melissackoh',\n",
       " 'nicolekittykatx',\n",
       " 'zoetay10',\n",
       " 'hayleywoojiayi',\n",
       " 'yahuiyh',\n",
       " 'denisesoongeelyn',\n",
       " 'rchlwngxx',\n",
       " 'saffronsharpe',\n",
       " 'euniceannabel',\n",
       " 'katepang311',\n",
       " 'honglingg_',\n",
       " 'elaineruimin',\n",
       " 'mirchelley',\n",
       " 'sheila_sim',\n",
       " 'fionafussi',\n",
       " 'cheyennechesney',\n",
       " 'soniachew',\n",
       " 'narellekheng',\n",
       " 'ohhowstrange',\n",
       " 'xoxoapo',\n",
       " 'jacelyn_tay',\n",
       " 'xinlinnn']"
      ]
     },
     "execution_count": 4,
     "metadata": {},
     "output_type": "execute_result"
    }
   ],
   "source": [
    "accounts = final_acct_df['handle'].tolist()\n",
    "accounts"
   ]
  },
  {
   "cell_type": "code",
   "execution_count": 5,
   "id": "01e8a928",
   "metadata": {},
   "outputs": [],
   "source": [
    "parent_path = '../pictures/filtered_renamed'"
   ]
  },
  {
   "cell_type": "code",
   "execution_count": 6,
   "id": "e4f6ede1",
   "metadata": {},
   "outputs": [],
   "source": [
    "#remember to delete all DS_Store files (not visible in directory)\n",
    "#just go to terminal, navigate to the right folder, and type \"find . -name \".DS_Store\" -delete\"\n",
    "for account in accounts:\n",
    "    path = parent_path + '/' + account\n",
    "    files = os.listdir(path)\n",
    "    for file in files:\n",
    "        os.rename(os.path.join(path, file), os.path.join(path, account + '_' + file[:10] + '_' + file[-5:-4]) + '.jpg')\n",
    "            "
   ]
  },
  {
   "cell_type": "code",
   "execution_count": 10,
   "id": "5f7a29c5",
   "metadata": {},
   "outputs": [],
   "source": [
    "# #create a copy of filtered_renamed: filtered_renamed_copy just in case\n",
    "# # move all pictures from subfolder of this copy folder, into just one folder\n",
    "# for account in accounts:\n",
    "#     source = parent_path + '_copy/' + account\n",
    "#     destination = \"../pictures/with_background\"\n",
    "#     files_list = os.listdir(source)\n",
    "#     for file in files_list:\n",
    "#         input_path = os.path.join(source, file)\n",
    "#         shutil.copy(input_path, destination)"
   ]
  },
  {
   "cell_type": "code",
   "execution_count": null,
   "id": "3aa5def7",
   "metadata": {},
   "outputs": [],
   "source": []
  }
 ],
 "metadata": {
  "kernelspec": {
   "display_name": "Python 3",
   "language": "python",
   "name": "python3"
  },
  "language_info": {
   "codemirror_mode": {
    "name": "ipython",
    "version": 3
   },
   "file_extension": ".py",
   "mimetype": "text/x-python",
   "name": "python",
   "nbconvert_exporter": "python",
   "pygments_lexer": "ipython3",
   "version": "3.8.8"
  }
 },
 "nbformat": 4,
 "nbformat_minor": 5
}
