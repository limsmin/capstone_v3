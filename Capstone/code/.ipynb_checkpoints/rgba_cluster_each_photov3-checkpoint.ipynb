{
 "cells": [
  {
   "cell_type": "code",
   "execution_count": 1,
   "id": "6a5bc149",
   "metadata": {},
   "outputs": [],
   "source": [
    "import cv2 as cv\n",
    "import numpy as np\n",
    "import matplotlib.pyplot as plt\n",
    "%matplotlib inline\n",
    "import datetime\n",
    "\n",
    "from sklearn.cluster import KMeans\n",
    "from sklearn.metrics import silhouette_score\n",
    "from sklearn.metrics import pairwise_distances\n",
    "from PIL import Image\n",
    "from PIL import ImageFile\n",
    "import os\n",
    "import numpy as np\n",
    "import pandas as pd"
   ]
  },
  {
   "cell_type": "code",
   "execution_count": 2,
   "id": "01c58454",
   "metadata": {},
   "outputs": [],
   "source": [
    "# Load list of top 34 insta accounts\n",
    "final_acct_df = pd.read_csv('../data/final_acct_df.csv')"
   ]
  },
  {
   "cell_type": "code",
   "execution_count": 3,
   "id": "ea228ee4",
   "metadata": {},
   "outputs": [
    {
     "data": {
      "text/plain": [
       "['ec24m',\n",
       " 'jiaqiwoo',\n",
       " 'limrebecca',\n",
       " 'speishi',\n",
       " 'dreachong',\n",
       " 'carriewst',\n",
       " 'kimlimhl',\n",
       " 'novitalam',\n",
       " 'julietan_cxq',\n",
       " 'mongabong',\n",
       " 'aureliang_',\n",
       " 'xplacidacidx',\n",
       " 'melissackoh',\n",
       " 'nicolekittykatx',\n",
       " 'zoetay10',\n",
       " 'hayleywoojiayi',\n",
       " 'yahuiyh',\n",
       " 'denisesoongeelyn',\n",
       " 'rchlwngxx',\n",
       " 'saffronsharpe',\n",
       " 'euniceannabel',\n",
       " 'katepang311',\n",
       " 'honglingg_',\n",
       " 'elaineruimin',\n",
       " 'mirchelley',\n",
       " 'sheila_sim',\n",
       " 'fionafussi',\n",
       " 'cheyennechesney',\n",
       " 'soniachew',\n",
       " 'narellekheng',\n",
       " 'ohhowstrange',\n",
       " 'xoxoapo',\n",
       " 'jacelyn_tay',\n",
       " 'xinlinnn']"
      ]
     },
     "execution_count": 3,
     "metadata": {},
     "output_type": "execute_result"
    }
   ],
   "source": [
    "accounts = final_acct_df['handle'].tolist()\n",
    "accounts"
   ]
  },
  {
   "cell_type": "code",
   "execution_count": 4,
   "id": "9a14eb7d",
   "metadata": {},
   "outputs": [],
   "source": [
    "# #splits accounts list into smaller chunks to make processing more manageable\n",
    "\n",
    "# accounts_list = list()\n",
    "# chunk_size = 5\n",
    "\n",
    "# for i in range(0, len(accounts), chunk_size):\n",
    "#     accounts_list.append(accounts[i:i+chunk_size])\n",
    "    \n",
    "# len(accounts_list)\n"
   ]
  },
  {
   "cell_type": "code",
   "execution_count": 5,
   "id": "78f90d89",
   "metadata": {},
   "outputs": [],
   "source": [
    "#instantiate empty list to append data from each photo\n",
    "rgba_ravel_list = []\n",
    "image_list = []\n",
    "instagram_handle = []\n",
    "date_post = []\n",
    "seq_post_samedate = []"
   ]
  },
  {
   "cell_type": "code",
   "execution_count": 6,
   "id": "a8cb88e0",
   "metadata": {},
   "outputs": [],
   "source": [
    "#set size for resizing each photo so that they are all the same size\n",
    "new_size = (400,400)"
   ]
  },
  {
   "cell_type": "code",
   "execution_count": 7,
   "id": "5eeb7e7f",
   "metadata": {},
   "outputs": [
    {
     "name": "stdout",
     "output_type": "stream",
     "text": [
      "CPU times: user 16min 8s, sys: 5.39 s, total: 16min 14s\n",
      "Wall time: 16min 28s\n"
     ]
    }
   ],
   "source": [
    "%%time\n",
    "#for loop to loop through all photos in the 34 accounts\n",
    "#append rgba information, image path, instagram handle, date of post\n",
    "#and also sequence of post if there are more than one post a day\n",
    "\n",
    "for account in accounts:\n",
    "    in_path ='../pictures/wo_background/' + account\n",
    "    for image_path in os.listdir(in_path):\n",
    "        # image_path contains name of the image \n",
    "        input_path = os.path.join(in_path, image_path)\n",
    "        imgfile = Image.open(input_path)\n",
    "        imgfile = imgfile.resize(new_size)\n",
    "        na = np.array(imgfile.getdata(), np.uint8)\n",
    "        row = na.ravel()\n",
    "\n",
    "        rgba_ravel_list.append(row)\n",
    "        image_list.append(input_path)\n",
    "        instagram_handle.append(account)\n",
    "        date_post.append(image_path[-16:-6])\n",
    "        seq_post_samedate.append(image_path[-5:-4])"
   ]
  },
  {
   "cell_type": "code",
   "execution_count": 8,
   "id": "0f3d9b97",
   "metadata": {},
   "outputs": [
    {
     "data": {
      "text/plain": [
       "(6639, 5)"
      ]
     },
     "execution_count": 8,
     "metadata": {},
     "output_type": "execute_result"
    }
   ],
   "source": [
    "rgba_df = pd.DataFrame(zip(instagram_handle, image_list, date_post, seq_post_samedate, rgba_ravel_list), \\\n",
    "                       columns = ['instagram_handle', 'image_list', 'date_post', 'seq_post_samedate', 'rgba_ravel_list'])\n",
    "rgba_df.shape"
   ]
  },
  {
   "cell_type": "code",
   "execution_count": 9,
   "id": "f6ad4619",
   "metadata": {},
   "outputs": [
    {
     "data": {
      "text/plain": [
       "(6638, 5)"
      ]
     },
     "execution_count": 9,
     "metadata": {},
     "output_type": "execute_result"
    }
   ],
   "source": [
    "#delete corrupted posts that contains .DS\n",
    "rgba_df = rgba_df[~rgba_df.date_post.str.contains('.DS')]\n",
    "rgba_df.shape"
   ]
  },
  {
   "cell_type": "code",
   "execution_count": 10,
   "id": "6e614a70",
   "metadata": {},
   "outputs": [
    {
     "data": {
      "text/plain": [
       "1    1863\n",
       "C    1754\n",
       "2    1621\n",
       "3     758\n",
       "4     316\n",
       "5     124\n",
       "6      77\n",
       "7      43\n",
       "8      33\n",
       "9      29\n",
       "0      12\n",
       "c       8\n",
       "Name: seq_post_samedate, dtype: int64"
      ]
     },
     "execution_count": 10,
     "metadata": {},
     "output_type": "execute_result"
    }
   ],
   "source": [
    "#translate seq_post_samedate\n",
    "rgba_df['seq_post_samedate'].value_counts()"
   ]
  },
  {
   "cell_type": "code",
   "execution_count": 11,
   "id": "20439afc",
   "metadata": {},
   "outputs": [
    {
     "data": {
      "text/plain": [
       "2     1863\n",
       "1     1762\n",
       "3     1621\n",
       "4      758\n",
       "5      316\n",
       "6      124\n",
       "7       77\n",
       "8       43\n",
       "9       33\n",
       "10      29\n",
       "11      12\n",
       "Name: seq_post_samedate, dtype: int64"
      ]
     },
     "execution_count": 11,
     "metadata": {},
     "output_type": "execute_result"
    }
   ],
   "source": [
    "rgba_df['seq_post_samedate'] = rgba_df['seq_post_samedate']\\\n",
    ".map({'C':'1','c':'1','0':'11','1':'2','2':'3','3':'4','4':'5','5':'6','6':'7','7':'8','8':'9','9':'10'})\n",
    "rgba_df['seq_post_samedate'].value_counts()"
   ]
  },
  {
   "cell_type": "code",
   "execution_count": 12,
   "id": "ae483b21",
   "metadata": {},
   "outputs": [],
   "source": [
    "rgba_df['date_post'] = pd.to_datetime(rgba_df['date_post'])\n",
    "rgba_df['seq_post_samedate'] = rgba_df['seq_post_samedate'].astype(str).astype(int)\n",
    "rgba_df.to_csv('../data/accounts_rgba.csv')"
   ]
  },
  {
   "cell_type": "code",
   "execution_count": 13,
   "id": "cd4bc734",
   "metadata": {},
   "outputs": [],
   "source": [
    "def cluster2(x):\n",
    "    x = x.reshape(-1, 4)\n",
    "    x = np.array([f for f in x if f[3] !=0], np.uint8)\n",
    "    clt = KMeans(n_clusters = 2, max_iter=500, random_state=5).fit(x)\n",
    "    centers = clt.cluster_centers_\n",
    "    centers = np.uint8(centers)\n",
    "    centers_ravel = centers.ravel()\n",
    "    return centers_ravel"
   ]
  },
  {
   "cell_type": "code",
   "execution_count": 14,
   "id": "f8b270a4",
   "metadata": {},
   "outputs": [
    {
     "name": "stdout",
     "output_type": "stream",
     "text": [
      "CPU times: user 3h 21min 20s, sys: 34min 20s, total: 3h 55min 41s\n",
      "Wall time: 34min 4s\n"
     ]
    }
   ],
   "source": [
    "%%time\n",
    "rgba_df['rgba_centers_2'] = rgba_df['rgba_ravel_list'].apply(cluster2)"
   ]
  },
  {
   "cell_type": "code",
   "execution_count": 15,
   "id": "b156e214",
   "metadata": {},
   "outputs": [
    {
     "data": {
      "text/html": [
       "<div>\n",
       "<style scoped>\n",
       "    .dataframe tbody tr th:only-of-type {\n",
       "        vertical-align: middle;\n",
       "    }\n",
       "\n",
       "    .dataframe tbody tr th {\n",
       "        vertical-align: top;\n",
       "    }\n",
       "\n",
       "    .dataframe thead th {\n",
       "        text-align: right;\n",
       "    }\n",
       "</style>\n",
       "<table border=\"1\" class=\"dataframe\">\n",
       "  <thead>\n",
       "    <tr style=\"text-align: right;\">\n",
       "      <th></th>\n",
       "      <th>instagram_handle</th>\n",
       "      <th>image_list</th>\n",
       "      <th>date_post</th>\n",
       "      <th>seq_post_samedate</th>\n",
       "      <th>rgba_ravel_list</th>\n",
       "      <th>rgba_centers_2</th>\n",
       "    </tr>\n",
       "  </thead>\n",
       "  <tbody>\n",
       "    <tr>\n",
       "      <th>0</th>\n",
       "      <td>ec24m</td>\n",
       "      <td>../pictures/wo_background/ec24m/ec24m_2021-01-...</td>\n",
       "      <td>2021-01-31</td>\n",
       "      <td>1</td>\n",
       "      <td>[0, 0, 0, 0, 0, 0, 0, 0, 0, 0, 0, 0, 0, 0, 0, ...</td>\n",
       "      <td>[177, 131, 134, 253, 13, 10, 9, 103]</td>\n",
       "    </tr>\n",
       "    <tr>\n",
       "      <th>1</th>\n",
       "      <td>ec24m</td>\n",
       "      <td>../pictures/wo_background/ec24m/ec24m_2021-11-...</td>\n",
       "      <td>2021-11-09</td>\n",
       "      <td>3</td>\n",
       "      <td>[0, 0, 0, 0, 0, 0, 0, 0, 0, 0, 0, 0, 0, 0, 0, ...</td>\n",
       "      <td>[111, 101, 97, 250, 5, 5, 4, 15]</td>\n",
       "    </tr>\n",
       "    <tr>\n",
       "      <th>2</th>\n",
       "      <td>ec24m</td>\n",
       "      <td>../pictures/wo_background/ec24m/ec24m_2021-03-...</td>\n",
       "      <td>2021-03-03</td>\n",
       "      <td>1</td>\n",
       "      <td>[0, 0, 0, 0, 0, 0, 0, 0, 0, 0, 0, 0, 0, 0, 0, ...</td>\n",
       "      <td>[66, 52, 49, 189, 221, 206, 188, 252]</td>\n",
       "    </tr>\n",
       "    <tr>\n",
       "      <th>3</th>\n",
       "      <td>ec24m</td>\n",
       "      <td>../pictures/wo_background/ec24m/ec24m_2021-06-...</td>\n",
       "      <td>2021-06-29</td>\n",
       "      <td>2</td>\n",
       "      <td>[0, 0, 0, 0, 0, 0, 0, 0, 0, 0, 0, 0, 0, 0, 0, ...</td>\n",
       "      <td>[177, 79, 58, 251, 41, 22, 19, 184]</td>\n",
       "    </tr>\n",
       "    <tr>\n",
       "      <th>4</th>\n",
       "      <td>ec24m</td>\n",
       "      <td>../pictures/wo_background/ec24m/ec24m_2021-02-...</td>\n",
       "      <td>2021-02-03</td>\n",
       "      <td>1</td>\n",
       "      <td>[0, 0, 0, 0, 0, 0, 0, 0, 0, 0, 0, 0, 0, 0, 0, ...</td>\n",
       "      <td>[191, 138, 123, 249, 25, 12, 11, 76]</td>\n",
       "    </tr>\n",
       "  </tbody>\n",
       "</table>\n",
       "</div>"
      ],
      "text/plain": [
       "  instagram_handle                                         image_list  \\\n",
       "0            ec24m  ../pictures/wo_background/ec24m/ec24m_2021-01-...   \n",
       "1            ec24m  ../pictures/wo_background/ec24m/ec24m_2021-11-...   \n",
       "2            ec24m  ../pictures/wo_background/ec24m/ec24m_2021-03-...   \n",
       "3            ec24m  ../pictures/wo_background/ec24m/ec24m_2021-06-...   \n",
       "4            ec24m  ../pictures/wo_background/ec24m/ec24m_2021-02-...   \n",
       "\n",
       "   date_post  seq_post_samedate  \\\n",
       "0 2021-01-31                  1   \n",
       "1 2021-11-09                  3   \n",
       "2 2021-03-03                  1   \n",
       "3 2021-06-29                  2   \n",
       "4 2021-02-03                  1   \n",
       "\n",
       "                                     rgba_ravel_list  \\\n",
       "0  [0, 0, 0, 0, 0, 0, 0, 0, 0, 0, 0, 0, 0, 0, 0, ...   \n",
       "1  [0, 0, 0, 0, 0, 0, 0, 0, 0, 0, 0, 0, 0, 0, 0, ...   \n",
       "2  [0, 0, 0, 0, 0, 0, 0, 0, 0, 0, 0, 0, 0, 0, 0, ...   \n",
       "3  [0, 0, 0, 0, 0, 0, 0, 0, 0, 0, 0, 0, 0, 0, 0, ...   \n",
       "4  [0, 0, 0, 0, 0, 0, 0, 0, 0, 0, 0, 0, 0, 0, 0, ...   \n",
       "\n",
       "                          rgba_centers_2  \n",
       "0   [177, 131, 134, 253, 13, 10, 9, 103]  \n",
       "1       [111, 101, 97, 250, 5, 5, 4, 15]  \n",
       "2  [66, 52, 49, 189, 221, 206, 188, 252]  \n",
       "3    [177, 79, 58, 251, 41, 22, 19, 184]  \n",
       "4   [191, 138, 123, 249, 25, 12, 11, 76]  "
      ]
     },
     "execution_count": 15,
     "metadata": {},
     "output_type": "execute_result"
    }
   ],
   "source": [
    "rgba_df.head()"
   ]
  },
  {
   "cell_type": "code",
   "execution_count": 16,
   "id": "b56fd141",
   "metadata": {
    "scrolled": true
   },
   "outputs": [
    {
     "data": {
      "text/html": [
       "<div>\n",
       "<style scoped>\n",
       "    .dataframe tbody tr th:only-of-type {\n",
       "        vertical-align: middle;\n",
       "    }\n",
       "\n",
       "    .dataframe tbody tr th {\n",
       "        vertical-align: top;\n",
       "    }\n",
       "\n",
       "    .dataframe thead th {\n",
       "        text-align: right;\n",
       "    }\n",
       "</style>\n",
       "<table border=\"1\" class=\"dataframe\">\n",
       "  <thead>\n",
       "    <tr style=\"text-align: right;\">\n",
       "      <th></th>\n",
       "      <th>instagram_handle</th>\n",
       "      <th>image_list</th>\n",
       "      <th>date_post</th>\n",
       "      <th>seq_post_samedate</th>\n",
       "      <th>rgba_ravel_list</th>\n",
       "      <th>rgba_centers_2</th>\n",
       "    </tr>\n",
       "  </thead>\n",
       "  <tbody>\n",
       "    <tr>\n",
       "      <th>6634</th>\n",
       "      <td>xinlinnn</td>\n",
       "      <td>../pictures/wo_background/xinlinnn/xinlinnn_20...</td>\n",
       "      <td>2021-01-15</td>\n",
       "      <td>5</td>\n",
       "      <td>[0, 0, 0, 0, 0, 0, 0, 0, 0, 0, 0, 0, 0, 0, 0, ...</td>\n",
       "      <td>[6, 4, 4, 20, 112, 91, 87, 229]</td>\n",
       "    </tr>\n",
       "    <tr>\n",
       "      <th>6635</th>\n",
       "      <td>xinlinnn</td>\n",
       "      <td>../pictures/wo_background/xinlinnn/xinlinnn_20...</td>\n",
       "      <td>2021-03-03</td>\n",
       "      <td>1</td>\n",
       "      <td>[0, 0, 0, 0, 0, 0, 0, 0, 0, 0, 0, 0, 0, 0, 0, ...</td>\n",
       "      <td>[168, 148, 143, 251, 42, 30, 25, 215]</td>\n",
       "    </tr>\n",
       "    <tr>\n",
       "      <th>6636</th>\n",
       "      <td>xinlinnn</td>\n",
       "      <td>../pictures/wo_background/xinlinnn/xinlinnn_20...</td>\n",
       "      <td>2021-02-03</td>\n",
       "      <td>1</td>\n",
       "      <td>[0, 0, 0, 0, 0, 0, 0, 0, 0, 0, 0, 0, 0, 0, 0, ...</td>\n",
       "      <td>[17, 4, 4, 32, 170, 91, 78, 243]</td>\n",
       "    </tr>\n",
       "    <tr>\n",
       "      <th>6637</th>\n",
       "      <td>xinlinnn</td>\n",
       "      <td>../pictures/wo_background/xinlinnn/xinlinnn_20...</td>\n",
       "      <td>2021-08-18</td>\n",
       "      <td>1</td>\n",
       "      <td>[0, 0, 0, 0, 0, 0, 0, 0, 0, 0, 0, 0, 0, 0, 0, ...</td>\n",
       "      <td>[192, 164, 157, 253, 50, 38, 35, 210]</td>\n",
       "    </tr>\n",
       "    <tr>\n",
       "      <th>6638</th>\n",
       "      <td>xinlinnn</td>\n",
       "      <td>../pictures/wo_background/xinlinnn/xinlinnn_20...</td>\n",
       "      <td>2021-01-31</td>\n",
       "      <td>1</td>\n",
       "      <td>[0, 0, 0, 0, 0, 0, 0, 0, 0, 0, 0, 0, 0, 0, 0, ...</td>\n",
       "      <td>[36, 29, 28, 96, 193, 172, 169, 250]</td>\n",
       "    </tr>\n",
       "  </tbody>\n",
       "</table>\n",
       "</div>"
      ],
      "text/plain": [
       "     instagram_handle                                         image_list  \\\n",
       "6634         xinlinnn  ../pictures/wo_background/xinlinnn/xinlinnn_20...   \n",
       "6635         xinlinnn  ../pictures/wo_background/xinlinnn/xinlinnn_20...   \n",
       "6636         xinlinnn  ../pictures/wo_background/xinlinnn/xinlinnn_20...   \n",
       "6637         xinlinnn  ../pictures/wo_background/xinlinnn/xinlinnn_20...   \n",
       "6638         xinlinnn  ../pictures/wo_background/xinlinnn/xinlinnn_20...   \n",
       "\n",
       "      date_post  seq_post_samedate  \\\n",
       "6634 2021-01-15                  5   \n",
       "6635 2021-03-03                  1   \n",
       "6636 2021-02-03                  1   \n",
       "6637 2021-08-18                  1   \n",
       "6638 2021-01-31                  1   \n",
       "\n",
       "                                        rgba_ravel_list  \\\n",
       "6634  [0, 0, 0, 0, 0, 0, 0, 0, 0, 0, 0, 0, 0, 0, 0, ...   \n",
       "6635  [0, 0, 0, 0, 0, 0, 0, 0, 0, 0, 0, 0, 0, 0, 0, ...   \n",
       "6636  [0, 0, 0, 0, 0, 0, 0, 0, 0, 0, 0, 0, 0, 0, 0, ...   \n",
       "6637  [0, 0, 0, 0, 0, 0, 0, 0, 0, 0, 0, 0, 0, 0, 0, ...   \n",
       "6638  [0, 0, 0, 0, 0, 0, 0, 0, 0, 0, 0, 0, 0, 0, 0, ...   \n",
       "\n",
       "                             rgba_centers_2  \n",
       "6634        [6, 4, 4, 20, 112, 91, 87, 229]  \n",
       "6635  [168, 148, 143, 251, 42, 30, 25, 215]  \n",
       "6636       [17, 4, 4, 32, 170, 91, 78, 243]  \n",
       "6637  [192, 164, 157, 253, 50, 38, 35, 210]  \n",
       "6638   [36, 29, 28, 96, 193, 172, 169, 250]  "
      ]
     },
     "execution_count": 16,
     "metadata": {},
     "output_type": "execute_result"
    }
   ],
   "source": [
    "rgba_df.tail()"
   ]
  },
  {
   "cell_type": "code",
   "execution_count": 17,
   "id": "29a7b5e5",
   "metadata": {},
   "outputs": [],
   "source": [
    "rgba_df.to_csv('../data/accounts_rgba_cluster.csv')"
   ]
  },
  {
   "cell_type": "code",
   "execution_count": 18,
   "id": "239cdc2a",
   "metadata": {},
   "outputs": [],
   "source": [
    "def cluster3(x):\n",
    "    x = x.reshape(-1, 4)\n",
    "    x = np.array([f for f in x if f[3] !=0], np.uint8)\n",
    "    clt = KMeans(n_clusters = 3, max_iter=500, random_state=5).fit(x)\n",
    "    centers = clt.cluster_centers_\n",
    "    centers = np.uint8(centers)\n",
    "    centers_ravel = centers.ravel()\n",
    "    return centers_ravel"
   ]
  },
  {
   "cell_type": "code",
   "execution_count": 19,
   "id": "b528c77d",
   "metadata": {},
   "outputs": [
    {
     "name": "stdout",
     "output_type": "stream",
     "text": [
      "CPU times: user 3h 44min 34s, sys: 39min 42s, total: 4h 24min 17s\n",
      "Wall time: 38min 29s\n"
     ]
    }
   ],
   "source": [
    "%%time\n",
    "rgba_df['rgba_centers_3'] = rgba_df['rgba_ravel_list'].apply(cluster3)"
   ]
  },
  {
   "cell_type": "code",
   "execution_count": 20,
   "id": "9ac7e5c9",
   "metadata": {},
   "outputs": [],
   "source": [
    "rgba_df.to_csv('../data/accounts_rgba_cluster_3.csv')"
   ]
  },
  {
   "cell_type": "code",
   "execution_count": 21,
   "id": "5e4d037d",
   "metadata": {},
   "outputs": [],
   "source": [
    "def cluster4(x):\n",
    "    x = x.reshape(-1, 4)\n",
    "    x = np.array([f for f in x if f[3] !=0], np.uint8)\n",
    "    clt = KMeans(n_clusters = 4, max_iter=500, random_state=5).fit(x)\n",
    "    centers = clt.cluster_centers_\n",
    "    centers = np.uint8(centers)\n",
    "    centers_ravel = centers.ravel()\n",
    "    return centers_ravel"
   ]
  },
  {
   "cell_type": "code",
   "execution_count": 22,
   "id": "c132f125",
   "metadata": {},
   "outputs": [
    {
     "name": "stdout",
     "output_type": "stream",
     "text": [
      "CPU times: user 4h 26min 41s, sys: 48min 17s, total: 5h 14min 58s\n",
      "Wall time: 45min 57s\n"
     ]
    }
   ],
   "source": [
    "%%time\n",
    "rgba_df['rgba_centers_4'] = rgba_df['rgba_ravel_list'].apply(cluster4)\n",
    "rgba_df.to_csv('../data/accounts_rgba_cluster_4.csv')"
   ]
  },
  {
   "cell_type": "code",
   "execution_count": 1,
   "id": "b7c3b7e9",
   "metadata": {},
   "outputs": [
    {
     "ename": "NameError",
     "evalue": "name 'rgba_df' is not defined",
     "output_type": "error",
     "traceback": [
      "\u001b[0;31m---------------------------------------------------------------------------\u001b[0m",
      "\u001b[0;31mNameError\u001b[0m                                 Traceback (most recent call last)",
      "\u001b[0;32m<ipython-input-1-691cca9e5b5a>\u001b[0m in \u001b[0;36m<module>\u001b[0;34m\u001b[0m\n\u001b[0;32m----> 1\u001b[0;31m \u001b[0mrgba_df\u001b[0m\u001b[0;34m\u001b[0m\u001b[0;34m\u001b[0m\u001b[0m\n\u001b[0m",
      "\u001b[0;31mNameError\u001b[0m: name 'rgba_df' is not defined"
     ]
    }
   ],
   "source": [
    "rgba_df"
   ]
  },
  {
   "cell_type": "code",
   "execution_count": null,
   "id": "0a008316",
   "metadata": {},
   "outputs": [],
   "source": []
  }
 ],
 "metadata": {
  "kernelspec": {
   "display_name": "Python 3",
   "language": "python",
   "name": "python3"
  },
  "language_info": {
   "codemirror_mode": {
    "name": "ipython",
    "version": 3
   },
   "file_extension": ".py",
   "mimetype": "text/x-python",
   "name": "python",
   "nbconvert_exporter": "python",
   "pygments_lexer": "ipython3",
   "version": "3.8.8"
  }
 },
 "nbformat": 4,
 "nbformat_minor": 5
}
