{
 "cells": [
  {
   "cell_type": "code",
   "execution_count": 2,
   "id": "36af129c",
   "metadata": {},
   "outputs": [],
   "source": [
    "import numpy as np\n",
    "import pandas as pd\n",
    "import ast\n",
    "import numpy as np\n",
    "import os\n",
    "import datetime\n",
    "\n",
    "from sklearn.cluster import KMeans\n",
    "from sklearn.metrics import silhouette_score\n",
    "from sklearn.metrics import pairwise_distances\n",
    "from PIL import Image\n",
    "from PIL import ImageFile"
   ]
  },
  {
   "cell_type": "code",
   "execution_count": 3,
   "id": "68b9b582",
   "metadata": {},
   "outputs": [],
   "source": [
    "def from_np_array(array_string):\n",
    "    array_string = ','.join(array_string.replace('[ ', '[').split())\n",
    "    return np.array(ast.literal_eval(array_string))"
   ]
  },
  {
   "cell_type": "code",
   "execution_count": 4,
   "id": "0ff6b737",
   "metadata": {},
   "outputs": [],
   "source": [
    "rgba_clusters = pd.read_csv('../data/accounts_rgba_cluster_4.csv')"
   ]
  },
  {
   "cell_type": "code",
   "execution_count": 5,
   "id": "d385cf42",
   "metadata": {},
   "outputs": [],
   "source": [
    "def converter(instr):\n",
    "    return np.fromstring(instr[1:-1],dtype=int,sep=' ')"
   ]
  },
  {
   "cell_type": "code",
   "execution_count": 6,
   "id": "a8a02109",
   "metadata": {},
   "outputs": [],
   "source": [
    "rgba_clusters=pd.read_csv('../data/accounts_rgba_cluster_4.csv',converters={'rgba_centers_2':converter, 'rgba_centers_3':converter, 'rgba_centers_4':converter})"
   ]
  },
  {
   "cell_type": "code",
   "execution_count": 7,
   "id": "1d283201",
   "metadata": {},
   "outputs": [
    {
     "data": {
      "text/html": [
       "<div>\n",
       "<style scoped>\n",
       "    .dataframe tbody tr th:only-of-type {\n",
       "        vertical-align: middle;\n",
       "    }\n",
       "\n",
       "    .dataframe tbody tr th {\n",
       "        vertical-align: top;\n",
       "    }\n",
       "\n",
       "    .dataframe thead th {\n",
       "        text-align: right;\n",
       "    }\n",
       "</style>\n",
       "<table border=\"1\" class=\"dataframe\">\n",
       "  <thead>\n",
       "    <tr style=\"text-align: right;\">\n",
       "      <th></th>\n",
       "      <th>Unnamed: 0</th>\n",
       "      <th>instagram_handle</th>\n",
       "      <th>image_list</th>\n",
       "      <th>date_post</th>\n",
       "      <th>seq_post_samedate</th>\n",
       "      <th>rgba_ravel_list</th>\n",
       "      <th>rgba_centers_2</th>\n",
       "      <th>rgba_centers_3</th>\n",
       "      <th>rgba_centers_4</th>\n",
       "    </tr>\n",
       "  </thead>\n",
       "  <tbody>\n",
       "    <tr>\n",
       "      <th>0</th>\n",
       "      <td>0</td>\n",
       "      <td>ec24m</td>\n",
       "      <td>../pictures/wo_background/ec24m/ec24m_2021-01-...</td>\n",
       "      <td>2021-01-31</td>\n",
       "      <td>1</td>\n",
       "      <td>[  0   0   0 ...  80  98 181]</td>\n",
       "      <td>[177, 131, 134, 253, 13, 10, 9, 103]</td>\n",
       "      <td>[152, 97, 97, 251, 11, 8, 8, 98, 193, 155, 159...</td>\n",
       "      <td>[19, 14, 13, 143, 194, 156, 160, 253, 155, 99,...</td>\n",
       "    </tr>\n",
       "    <tr>\n",
       "      <th>1</th>\n",
       "      <td>1</td>\n",
       "      <td>ec24m</td>\n",
       "      <td>../pictures/wo_background/ec24m/ec24m_2021-11-...</td>\n",
       "      <td>2021-11-09</td>\n",
       "      <td>3</td>\n",
       "      <td>[0 0 0 ... 0 0 0]</td>\n",
       "      <td>[111, 101, 97, 250, 5, 5, 4, 15]</td>\n",
       "      <td>[51, 49, 51, 243, 146, 132, 124, 252, 5, 4, 4,...</td>\n",
       "      <td>[146, 132, 124, 252, 3, 3, 3, 11, 50, 48, 51, ...</td>\n",
       "    </tr>\n",
       "    <tr>\n",
       "      <th>2</th>\n",
       "      <td>2</td>\n",
       "      <td>ec24m</td>\n",
       "      <td>../pictures/wo_background/ec24m/ec24m_2021-03-...</td>\n",
       "      <td>2021-03-03</td>\n",
       "      <td>1</td>\n",
       "      <td>[0 0 0 ... 0 0 0]</td>\n",
       "      <td>[66, 52, 49, 189, 221, 206, 188, 252]</td>\n",
       "      <td>[12, 12, 10, 18, 226, 211, 194, 252, 93, 75, 6...</td>\n",
       "      <td>[178, 155, 130, 249, 72, 55, 54, 247, 13, 12, ...</td>\n",
       "    </tr>\n",
       "    <tr>\n",
       "      <th>3</th>\n",
       "      <td>3</td>\n",
       "      <td>ec24m</td>\n",
       "      <td>../pictures/wo_background/ec24m/ec24m_2021-06-...</td>\n",
       "      <td>2021-06-29</td>\n",
       "      <td>2</td>\n",
       "      <td>[ 0  0  0 ...  9  9 28]</td>\n",
       "      <td>[177, 79, 58, 251, 41, 22, 19, 184]</td>\n",
       "      <td>[182, 85, 62, 250, 65, 25, 20, 250, 20, 18, 16...</td>\n",
       "      <td>[210, 50, 22, 252, 61, 25, 20, 250, 20, 18, 16...</td>\n",
       "    </tr>\n",
       "    <tr>\n",
       "      <th>4</th>\n",
       "      <td>4</td>\n",
       "      <td>ec24m</td>\n",
       "      <td>../pictures/wo_background/ec24m/ec24m_2021-02-...</td>\n",
       "      <td>2021-02-03</td>\n",
       "      <td>1</td>\n",
       "      <td>[0 0 0 ... 0 0 2]</td>\n",
       "      <td>[191, 138, 123, 249, 25, 12, 11, 76]</td>\n",
       "      <td>[208, 172, 150, 250, 13, 6, 7, 22, 125, 52, 49...</td>\n",
       "      <td>[193, 83, 66, 248, 11, 5, 6, 18, 209, 180, 161...</td>\n",
       "    </tr>\n",
       "  </tbody>\n",
       "</table>\n",
       "</div>"
      ],
      "text/plain": [
       "   Unnamed: 0 instagram_handle  \\\n",
       "0           0            ec24m   \n",
       "1           1            ec24m   \n",
       "2           2            ec24m   \n",
       "3           3            ec24m   \n",
       "4           4            ec24m   \n",
       "\n",
       "                                          image_list   date_post  \\\n",
       "0  ../pictures/wo_background/ec24m/ec24m_2021-01-...  2021-01-31   \n",
       "1  ../pictures/wo_background/ec24m/ec24m_2021-11-...  2021-11-09   \n",
       "2  ../pictures/wo_background/ec24m/ec24m_2021-03-...  2021-03-03   \n",
       "3  ../pictures/wo_background/ec24m/ec24m_2021-06-...  2021-06-29   \n",
       "4  ../pictures/wo_background/ec24m/ec24m_2021-02-...  2021-02-03   \n",
       "\n",
       "   seq_post_samedate                rgba_ravel_list  \\\n",
       "0                  1  [  0   0   0 ...  80  98 181]   \n",
       "1                  3              [0 0 0 ... 0 0 0]   \n",
       "2                  1              [0 0 0 ... 0 0 0]   \n",
       "3                  2        [ 0  0  0 ...  9  9 28]   \n",
       "4                  1              [0 0 0 ... 0 0 2]   \n",
       "\n",
       "                          rgba_centers_2  \\\n",
       "0   [177, 131, 134, 253, 13, 10, 9, 103]   \n",
       "1       [111, 101, 97, 250, 5, 5, 4, 15]   \n",
       "2  [66, 52, 49, 189, 221, 206, 188, 252]   \n",
       "3    [177, 79, 58, 251, 41, 22, 19, 184]   \n",
       "4   [191, 138, 123, 249, 25, 12, 11, 76]   \n",
       "\n",
       "                                      rgba_centers_3  \\\n",
       "0  [152, 97, 97, 251, 11, 8, 8, 98, 193, 155, 159...   \n",
       "1  [51, 49, 51, 243, 146, 132, 124, 252, 5, 4, 4,...   \n",
       "2  [12, 12, 10, 18, 226, 211, 194, 252, 93, 75, 6...   \n",
       "3  [182, 85, 62, 250, 65, 25, 20, 250, 20, 18, 16...   \n",
       "4  [208, 172, 150, 250, 13, 6, 7, 22, 125, 52, 49...   \n",
       "\n",
       "                                      rgba_centers_4  \n",
       "0  [19, 14, 13, 143, 194, 156, 160, 253, 155, 99,...  \n",
       "1  [146, 132, 124, 252, 3, 3, 3, 11, 50, 48, 51, ...  \n",
       "2  [178, 155, 130, 249, 72, 55, 54, 247, 13, 12, ...  \n",
       "3  [210, 50, 22, 252, 61, 25, 20, 250, 20, 18, 16...  \n",
       "4  [193, 83, 66, 248, 11, 5, 6, 18, 209, 180, 161...  "
      ]
     },
     "execution_count": 7,
     "metadata": {},
     "output_type": "execute_result"
    }
   ],
   "source": [
    "rgba_clusters.head()"
   ]
  },
  {
   "cell_type": "code",
   "execution_count": 8,
   "id": "b19cea5a",
   "metadata": {},
   "outputs": [],
   "source": [
    "#rgba_ravel_list is too long to be stored in csv. will have to rerun rgba function everytime this notebook is run"
   ]
  },
  {
   "cell_type": "code",
   "execution_count": 9,
   "id": "71075da0",
   "metadata": {},
   "outputs": [],
   "source": [
    "# Load list of top 34 insta accounts\n",
    "final_acct_df = pd.read_csv('../data/final_acct_df.csv')\n",
    "accounts = final_acct_df['handle'].tolist()"
   ]
  },
  {
   "cell_type": "code",
   "execution_count": 10,
   "id": "d7b12f36",
   "metadata": {},
   "outputs": [],
   "source": [
    "#instantiate empty list to append data from each photo\n",
    "rgba_ravel_list = []\n",
    "image_list = []"
   ]
  },
  {
   "cell_type": "code",
   "execution_count": 11,
   "id": "6d190dec",
   "metadata": {},
   "outputs": [],
   "source": [
    "#set size for resizing each photo so that they are all the same size\n",
    "#have to make it smaller at 200x200 to save run time\n",
    "#clusters for each image was previously done on 400x400, but it should not make too much of a difference\n",
    "new_size = (200,200)"
   ]
  },
  {
   "cell_type": "code",
   "execution_count": 12,
   "id": "02e2deba",
   "metadata": {},
   "outputs": [
    {
     "name": "stdout",
     "output_type": "stream",
     "text": [
      "CPU times: user 8min 33s, sys: 3.76 s, total: 8min 37s\n",
      "Wall time: 8min 50s\n"
     ]
    }
   ],
   "source": [
    "%%time\n",
    "#for loop to loop through all photos in the 34 accounts\n",
    "#append rgba information, image path, instagram handle, date of post\n",
    "#and also sequence of post if there are more than one post a day\n",
    "\n",
    "for account in accounts:\n",
    "    in_path ='../pictures/wo_background/' + account\n",
    "    for image_path in os.listdir(in_path):\n",
    "        # image_path contains name of the image \n",
    "        input_path = os.path.join(in_path, image_path)\n",
    "        imgfile = Image.open(input_path)\n",
    "        imgfile = imgfile.resize(new_size)\n",
    "        na = np.array(imgfile.getdata(), np.uint8)\n",
    "        row = na.ravel()\n",
    "\n",
    "        rgba_ravel_list.append(row)\n",
    "        image_list.append(input_path)"
   ]
  },
  {
   "cell_type": "code",
   "execution_count": 13,
   "id": "3f3da6f1",
   "metadata": {},
   "outputs": [
    {
     "data": {
      "text/plain": [
       "6639"
      ]
     },
     "execution_count": 13,
     "metadata": {},
     "output_type": "execute_result"
    }
   ],
   "source": [
    "len(rgba_ravel_list)"
   ]
  },
  {
   "cell_type": "code",
   "execution_count": 42,
   "id": "3928ce2a",
   "metadata": {},
   "outputs": [
    {
     "name": "stdout",
     "output_type": "stream",
     "text": [
      "batch 0 done\n",
      "batch 1 done\n",
      "batch 2 done\n",
      "batch 3 done\n",
      "batch 4 done\n",
      "batch 5 done\n",
      "batch 6 done\n",
      "batch 7 done\n",
      "batch 8 done\n",
      "batch 9 done\n",
      "batch 10 done\n",
      "batch 11 done\n",
      "batch 12 done\n",
      "batch 13 done\n",
      "batch 14 done\n",
      "batch 15 done\n",
      "batch 16 done\n",
      "batch 17 done\n",
      "batch 18 done\n",
      "batch 19 done\n",
      "batch 20 done\n",
      "batch 21 done\n",
      "batch 22 done\n",
      "batch 23 done\n",
      "batch 24 done\n",
      "batch 25 done\n",
      "batch 26 done\n",
      "batch 27 done\n",
      "batch 28 done\n",
      "batch 29 done\n",
      "batch 30 done\n",
      "batch 31 done\n",
      "batch 32 done\n",
      "CPU times: user 8min 20s, sys: 17 s, total: 8min 37s\n",
      "Wall time: 9min 1s\n"
     ]
    }
   ],
   "source": [
    "%%time\n",
    "## do in batches of 200 x 33 to prevent crashing\n",
    "#remaining 39 photos to be done in cell below\n",
    "for n in range(33):\n",
    "    start_row = 200*(n)\n",
    "    end_row = 200*(n+1)\n",
    "    rgba = pd.DataFrame(rgba_ravel_list[start_row:end_row])\n",
    "    rgba = rgba.T\n",
    "    rgba.columns = image_list[start_row:end_row]\n",
    "    path = '../data/rgba/rgba_' + str(n) + '.csv'\n",
    "    rgba.to_csv(path, index = False)\n",
    "    print('batch ' + str(n)+' done')"
   ]
  },
  {
   "cell_type": "code",
   "execution_count": 44,
   "id": "bda17c68",
   "metadata": {},
   "outputs": [],
   "source": [
    "start_row = 6600\n",
    "end_row = len(rgba_ravel_list)\n",
    "rgba = pd.DataFrame(rgba_ravel_list[start_row:end_row])\n",
    "rgba = rgba.T\n",
    "rgba.columns = image_list[start_row:end_row]\n",
    "path = '../data/rgba/rgba_33.csv'\n",
    "rgba.to_csv(path, index = False)"
   ]
  },
  {
   "cell_type": "code",
   "execution_count": 33,
   "id": "f1a6ff24",
   "metadata": {},
   "outputs": [],
   "source": [
    "#split ravel_list into 10000 parts for storage in csv\n",
    "def rgba_parts(x):\n",
    "    x = np.array_split(x, 10000)\n",
    "    return x"
   ]
  },
  {
   "cell_type": "code",
   "execution_count": 35,
   "id": "ae139176",
   "metadata": {},
   "outputs": [
    {
     "name": "stdout",
     "output_type": "stream",
     "text": [
      "CPU times: user 1min 11s, sys: 2.69 s, total: 1min 14s\n",
      "Wall time: 1min 14s\n"
     ]
    }
   ],
   "source": [
    "%%time\n",
    "rgba_ravel_df['rgba_ravel_list_v3'] = rgba_ravel_df['rgba_ravel_list_v2'].apply(rgba_parts)"
   ]
  },
  {
   "cell_type": "code",
   "execution_count": 36,
   "id": "27a0fcc0",
   "metadata": {},
   "outputs": [
    {
     "data": {
      "text/html": [
       "<div>\n",
       "<style scoped>\n",
       "    .dataframe tbody tr th:only-of-type {\n",
       "        vertical-align: middle;\n",
       "    }\n",
       "\n",
       "    .dataframe tbody tr th {\n",
       "        vertical-align: top;\n",
       "    }\n",
       "\n",
       "    .dataframe thead th {\n",
       "        text-align: right;\n",
       "    }\n",
       "</style>\n",
       "<table border=\"1\" class=\"dataframe\">\n",
       "  <thead>\n",
       "    <tr style=\"text-align: right;\">\n",
       "      <th></th>\n",
       "      <th>image_list</th>\n",
       "      <th>rgba_ravel_list_v2</th>\n",
       "      <th>rgba_ravel_list_v3</th>\n",
       "    </tr>\n",
       "  </thead>\n",
       "  <tbody>\n",
       "    <tr>\n",
       "      <th>0</th>\n",
       "      <td>../pictures/wo_background/ec24m/ec24m_2021-01-...</td>\n",
       "      <td>[0, 0, 0, 0, 0, 0, 0, 0, 0, 0, 0, 0, 0, 0, 0, ...</td>\n",
       "      <td>[[0, 0, 0, 0, 0, 0, 0, 0, 0, 0, 0, 0, 0, 0, 0,...</td>\n",
       "    </tr>\n",
       "    <tr>\n",
       "      <th>1</th>\n",
       "      <td>../pictures/wo_background/ec24m/ec24m_2021-11-...</td>\n",
       "      <td>[0, 0, 0, 0, 0, 0, 0, 0, 0, 0, 0, 0, 0, 0, 0, ...</td>\n",
       "      <td>[[0, 0, 0, 0, 0, 0, 0, 0, 0, 0, 0, 0, 0, 0, 0,...</td>\n",
       "    </tr>\n",
       "    <tr>\n",
       "      <th>2</th>\n",
       "      <td>../pictures/wo_background/ec24m/ec24m_2021-03-...</td>\n",
       "      <td>[0, 0, 0, 0, 0, 0, 0, 0, 0, 0, 0, 0, 0, 0, 0, ...</td>\n",
       "      <td>[[0, 0, 0, 0, 0, 0, 0, 0, 0, 0, 0, 0, 0, 0, 0,...</td>\n",
       "    </tr>\n",
       "    <tr>\n",
       "      <th>3</th>\n",
       "      <td>../pictures/wo_background/ec24m/ec24m_2021-06-...</td>\n",
       "      <td>[0, 0, 0, 0, 0, 0, 0, 0, 0, 0, 0, 0, 0, 0, 0, ...</td>\n",
       "      <td>[[0, 0, 0, 0, 0, 0, 0, 0, 0, 0, 0, 0, 0, 0, 0,...</td>\n",
       "    </tr>\n",
       "    <tr>\n",
       "      <th>4</th>\n",
       "      <td>../pictures/wo_background/ec24m/ec24m_2021-02-...</td>\n",
       "      <td>[0, 0, 0, 0, 0, 0, 0, 0, 0, 0, 0, 0, 0, 0, 0, ...</td>\n",
       "      <td>[[0, 0, 0, 0, 0, 0, 0, 0, 0, 0, 0, 0, 0, 0, 0,...</td>\n",
       "    </tr>\n",
       "  </tbody>\n",
       "</table>\n",
       "</div>"
      ],
      "text/plain": [
       "                                          image_list  \\\n",
       "0  ../pictures/wo_background/ec24m/ec24m_2021-01-...   \n",
       "1  ../pictures/wo_background/ec24m/ec24m_2021-11-...   \n",
       "2  ../pictures/wo_background/ec24m/ec24m_2021-03-...   \n",
       "3  ../pictures/wo_background/ec24m/ec24m_2021-06-...   \n",
       "4  ../pictures/wo_background/ec24m/ec24m_2021-02-...   \n",
       "\n",
       "                                  rgba_ravel_list_v2  \\\n",
       "0  [0, 0, 0, 0, 0, 0, 0, 0, 0, 0, 0, 0, 0, 0, 0, ...   \n",
       "1  [0, 0, 0, 0, 0, 0, 0, 0, 0, 0, 0, 0, 0, 0, 0, ...   \n",
       "2  [0, 0, 0, 0, 0, 0, 0, 0, 0, 0, 0, 0, 0, 0, 0, ...   \n",
       "3  [0, 0, 0, 0, 0, 0, 0, 0, 0, 0, 0, 0, 0, 0, 0, ...   \n",
       "4  [0, 0, 0, 0, 0, 0, 0, 0, 0, 0, 0, 0, 0, 0, 0, ...   \n",
       "\n",
       "                                  rgba_ravel_list_v3  \n",
       "0  [[0, 0, 0, 0, 0, 0, 0, 0, 0, 0, 0, 0, 0, 0, 0,...  \n",
       "1  [[0, 0, 0, 0, 0, 0, 0, 0, 0, 0, 0, 0, 0, 0, 0,...  \n",
       "2  [[0, 0, 0, 0, 0, 0, 0, 0, 0, 0, 0, 0, 0, 0, 0,...  \n",
       "3  [[0, 0, 0, 0, 0, 0, 0, 0, 0, 0, 0, 0, 0, 0, 0,...  \n",
       "4  [[0, 0, 0, 0, 0, 0, 0, 0, 0, 0, 0, 0, 0, 0, 0,...  "
      ]
     },
     "execution_count": 36,
     "metadata": {},
     "output_type": "execute_result"
    }
   ],
   "source": [
    "rgba_ravel_df.head()"
   ]
  }
 ],
 "metadata": {
  "kernelspec": {
   "display_name": "Python 3",
   "language": "python",
   "name": "python3"
  },
  "language_info": {
   "codemirror_mode": {
    "name": "ipython",
    "version": 3
   },
   "file_extension": ".py",
   "mimetype": "text/x-python",
   "name": "python",
   "nbconvert_exporter": "python",
   "pygments_lexer": "ipython3",
   "version": "3.8.8"
  }
 },
 "nbformat": 4,
 "nbformat_minor": 5
}
