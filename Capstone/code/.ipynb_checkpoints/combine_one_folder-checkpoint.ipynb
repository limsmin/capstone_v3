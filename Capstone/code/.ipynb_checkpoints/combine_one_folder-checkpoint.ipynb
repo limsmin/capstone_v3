{
 "cells": [
  {
   "cell_type": "code",
   "execution_count": 1,
   "id": "73878dd6",
   "metadata": {},
   "outputs": [],
   "source": [
    "import os\n",
    "import shutil\n",
    "import numpy as np\n",
    "import pandas as pd"
   ]
  },
  {
   "cell_type": "code",
   "execution_count": 6,
   "id": "facfe138",
   "metadata": {},
   "outputs": [
    {
     "data": {
      "text/plain": [
       "['ec24m',\n",
       " 'jiaqiwoo',\n",
       " 'limrebecca',\n",
       " 'speishi',\n",
       " 'dreachong',\n",
       " 'carriewst',\n",
       " 'kimlimhl',\n",
       " 'novitalam',\n",
       " 'julietan_cxq',\n",
       " 'mongabong',\n",
       " 'aureliang_',\n",
       " 'xplacidacidx',\n",
       " 'melissackoh',\n",
       " 'nicolekittykatx',\n",
       " 'zoetay10',\n",
       " 'hayleywoojiayi',\n",
       " 'yahuiyh',\n",
       " 'denisesoongeelyn',\n",
       " 'rchlwngxx',\n",
       " 'saffronsharpe',\n",
       " 'euniceannabel',\n",
       " 'katepang311',\n",
       " 'honglingg_',\n",
       " 'elaineruimin',\n",
       " 'mirchelley',\n",
       " 'sheila_sim',\n",
       " 'fionafussi',\n",
       " 'cheyennechesney',\n",
       " 'soniachew',\n",
       " 'narellekheng',\n",
       " 'ohhowstrange',\n",
       " 'xoxoapo',\n",
       " 'jacelyn_tay',\n",
       " 'xinlinnn']"
      ]
     },
     "execution_count": 6,
     "metadata": {},
     "output_type": "execute_result"
    }
   ],
   "source": [
    "# Load list of insta accounts\n",
    "final_acct_df = pd.read_csv('../data/final_acct_df.csv')\n",
    "accounts = final_acct_df['handle'].tolist()\n",
    "accounts"
   ]
  },
  {
   "cell_type": "code",
   "execution_count": 7,
   "id": "3a1f325d",
   "metadata": {},
   "outputs": [],
   "source": [
    "parent_path = \"../pictures/wo_background_copy/\""
   ]
  },
  {
   "cell_type": "code",
   "execution_count": 34,
   "id": "dd9fa9ef",
   "metadata": {},
   "outputs": [],
   "source": [
    "# move all pictures from subfolder of this copy folder, into just one folder\n",
    "for account in accounts:\n",
    "    source = parent_path + account\n",
    "    destination = \"../pictures/consol_wo_background\"\n",
    "    files_list = os.listdir(source)\n",
    "    for file in files_list:\n",
    "        input_path = os.path.join(source, file)\n",
    "        shutil.copy(input_path, destination)"
   ]
  },
  {
   "cell_type": "code",
   "execution_count": 35,
   "id": "e17e2582",
   "metadata": {},
   "outputs": [],
   "source": [
    "path = \"../pictures/consol_wo_background\"\n",
    "files = os.listdir(destination)\n",
    "for file in files: \n",
    "    os.rename(os.path.join(path, file), os.path.join(path, file[-16:-4] + '_' + file[:-17])+'.png')\n",
    "            "
   ]
  },
  {
   "cell_type": "code",
   "execution_count": null,
   "id": "a88818e3",
   "metadata": {},
   "outputs": [],
   "source": []
  }
 ],
 "metadata": {
  "kernelspec": {
   "display_name": "Python 3",
   "language": "python",
   "name": "python3"
  },
  "language_info": {
   "codemirror_mode": {
    "name": "ipython",
    "version": 3
   },
   "file_extension": ".py",
   "mimetype": "text/x-python",
   "name": "python",
   "nbconvert_exporter": "python",
   "pygments_lexer": "ipython3",
   "version": "3.8.8"
  }
 },
 "nbformat": 4,
 "nbformat_minor": 5
}
