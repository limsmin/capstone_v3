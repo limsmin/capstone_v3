{
 "cells": [
  {
   "cell_type": "markdown",
   "id": "a585e263",
   "metadata": {},
   "source": [
    "# 1. Install Libraries"
   ]
  },
  {
   "cell_type": "code",
   "execution_count": 1,
   "id": "b4aea5ee",
   "metadata": {},
   "outputs": [],
   "source": [
    "#pip3 install instaloader on terminal"
   ]
  },
  {
   "cell_type": "code",
   "execution_count": 34,
   "id": "7f3d54ad",
   "metadata": {},
   "outputs": [],
   "source": [
    "# from datetime import datetime\n",
    "# from itertools import dropwhile, takewhile\n",
    "import instaloader\n",
    "import time\n",
    "import numpy as np\n",
    "import pandas as pd"
   ]
  },
  {
   "cell_type": "code",
   "execution_count": 20,
   "id": "9c90afb3",
   "metadata": {},
   "outputs": [
    {
     "name": "stdout",
     "output_type": "stream",
     "text": [
      "Enter Instagram password for sadmouse248: ········\n"
     ]
    }
   ],
   "source": [
    "#create an instance\n",
    "# Use parameters to save diffrent metadata; chose to omit videos\n",
    "dl = instaloader.Instaloader(download_videos=False)\n",
    "\n",
    "# Optionally, login or load session\n",
    "# test.login('USER', 'PASSWORD')        # (static login)\n",
    "dl.interactive_login('sadmouse248') "
   ]
  },
  {
   "cell_type": "markdown",
   "id": "0f387749",
   "metadata": {},
   "source": [
    "# 2. Download Instagram Data"
   ]
  },
  {
   "cell_type": "code",
   "execution_count": 40,
   "id": "2148a0d8",
   "metadata": {},
   "outputs": [],
   "source": [
    "# Load list of insta accounts\n",
    "insta_acc = pd.read_csv('../data/instagram_handles.csv')"
   ]
  },
  {
   "cell_type": "code",
   "execution_count": 41,
   "id": "3f3aa704",
   "metadata": {},
   "outputs": [
    {
     "data": {
      "text/html": [
       "<div>\n",
       "<style scoped>\n",
       "    .dataframe tbody tr th:only-of-type {\n",
       "        vertical-align: middle;\n",
       "    }\n",
       "\n",
       "    .dataframe tbody tr th {\n",
       "        vertical-align: top;\n",
       "    }\n",
       "\n",
       "    .dataframe thead th {\n",
       "        text-align: right;\n",
       "    }\n",
       "</style>\n",
       "<table border=\"1\" class=\"dataframe\">\n",
       "  <thead>\n",
       "    <tr style=\"text-align: right;\">\n",
       "      <th></th>\n",
       "      <th>name</th>\n",
       "      <th>handle</th>\n",
       "      <th>topics</th>\n",
       "      <th>follower_count</th>\n",
       "      <th>to_exclude_pets_food</th>\n",
       "    </tr>\n",
       "  </thead>\n",
       "  <tbody>\n",
       "    <tr>\n",
       "      <th>0</th>\n",
       "      <td>Jamie Chua 蔡欣颖</td>\n",
       "      <td>ec24m</td>\n",
       "      <td>Photography Travel Fashion Design Celebrities</td>\n",
       "      <td>1200000</td>\n",
       "      <td>0</td>\n",
       "    </tr>\n",
       "    <tr>\n",
       "      <th>1</th>\n",
       "      <td>Diya Vj</td>\n",
       "      <td>diya_menon_official</td>\n",
       "      <td>Modeling Fashion Photography</td>\n",
       "      <td>600900</td>\n",
       "      <td>0</td>\n",
       "    </tr>\n",
       "    <tr>\n",
       "      <th>2</th>\n",
       "      <td>Jeanette Aw 欧萱</td>\n",
       "      <td>jeanetteaw</td>\n",
       "      <td>Food Fashion Lifestyle</td>\n",
       "      <td>413300</td>\n",
       "      <td>1</td>\n",
       "    </tr>\n",
       "    <tr>\n",
       "      <th>3</th>\n",
       "      <td>胡佳琪 Jayley Woo</td>\n",
       "      <td>jiaqiwoo</td>\n",
       "      <td>Fashion Styling Lifestyle</td>\n",
       "      <td>409700</td>\n",
       "      <td>0</td>\n",
       "    </tr>\n",
       "    <tr>\n",
       "      <th>4</th>\n",
       "      <td>Rebecca Lim 林慧玲</td>\n",
       "      <td>limrebecca</td>\n",
       "      <td>Actors Fashion Art Modeling</td>\n",
       "      <td>408400</td>\n",
       "      <td>0</td>\n",
       "    </tr>\n",
       "  </tbody>\n",
       "</table>\n",
       "</div>"
      ],
      "text/plain": [
       "              name               handle  \\\n",
       "0   Jamie Chua 蔡欣颖                ec24m   \n",
       "1          Diya Vj  diya_menon_official   \n",
       "2   Jeanette Aw 欧萱           jeanetteaw   \n",
       "3   胡佳琪 Jayley Woo             jiaqiwoo   \n",
       "4  Rebecca Lim 林慧玲           limrebecca   \n",
       "\n",
       "                                          topics  follower_count  \\\n",
       "0  Photography Travel Fashion Design Celebrities         1200000   \n",
       "1                   Modeling Fashion Photography          600900   \n",
       "2                         Food Fashion Lifestyle          413300   \n",
       "3                      Fashion Styling Lifestyle          409700   \n",
       "4                    Actors Fashion Art Modeling          408400   \n",
       "\n",
       "   to_exclude_pets_food  \n",
       "0                     0  \n",
       "1                     0  \n",
       "2                     1  \n",
       "3                     0  \n",
       "4                     0  "
      ]
     },
     "execution_count": 41,
     "metadata": {},
     "output_type": "execute_result"
    }
   ],
   "source": [
    "insta_acc.head()"
   ]
  },
  {
   "cell_type": "code",
   "execution_count": 46,
   "id": "007b4de0",
   "metadata": {},
   "outputs": [
    {
     "data": {
      "text/plain": [
       "(76, 5)"
      ]
     },
     "execution_count": 46,
     "metadata": {},
     "output_type": "execute_result"
    }
   ],
   "source": [
    "insta_acc.shape"
   ]
  },
  {
   "cell_type": "code",
   "execution_count": 45,
   "id": "2ad1de12",
   "metadata": {},
   "outputs": [
    {
     "data": {
      "text/plain": [
       "(76, 5)"
      ]
     },
     "execution_count": 45,
     "metadata": {},
     "output_type": "execute_result"
    }
   ],
   "source": [
    "#keep only influencers that do not post about pets or food\n",
    "#this is because it might affect the results if their posts are on food or pets, which is unrelated to fashion\n",
    "#there is already a column to_exclude_pets_food that we can use\n",
    "\n",
    "insta_acc = insta_acc.loc[insta_acc['to_exclude_pets_food'] == 0]\n",
    "insta_acc.shape"
   ]
  },
  {
   "cell_type": "code",
   "execution_count": 47,
   "id": "6428e2d6",
   "metadata": {},
   "outputs": [
    {
     "data": {
      "text/plain": [
       "['ec24m',\n",
       " 'diya_menon_official',\n",
       " 'jiaqiwoo',\n",
       " 'limrebecca',\n",
       " 'taufikbatisah',\n",
       " 'speishi',\n",
       " 'gourmetartistry',\n",
       " 'dreachong',\n",
       " 'carriewst',\n",
       " 'kimlimhl',\n",
       " 'novitalam',\n",
       " 'julietan_cxq',\n",
       " 'mongabong',\n",
       " 'aureliang_',\n",
       " 'xplacidacidx',\n",
       " 'melissackoh',\n",
       " 'katherinaolivia',\n",
       " 'nicolekittykatx',\n",
       " 'sylsylnoc',\n",
       " 'elegantstylesfashion',\n",
       " 'zoetay10',\n",
       " 'xubin_',\n",
       " 'hayleywoojiayi',\n",
       " 'yahuiyh',\n",
       " 'denisesoongeelyn',\n",
       " 'rchlwngxx',\n",
       " 'saffronsharpe',\n",
       " 'euniceannabel',\n",
       " 'katepang311',\n",
       " 'honglingg_',\n",
       " 'norfasarie',\n",
       " 'elaineruimin',\n",
       " 'trishachatterjee09',\n",
       " 'mirchelley',\n",
       " 'sleepy.tofu',\n",
       " 'sheila_sim',\n",
       " 'shanepowxp',\n",
       " 'milapanpinij',\n",
       " 'fionafussi',\n",
       " 'cheyennechesney',\n",
       " 'soniachew',\n",
       " 'narellekheng',\n",
       " 'ohhowstrange',\n",
       " 'andeecys',\n",
       " 'garimpandodicas',\n",
       " 'xoxoapo',\n",
       " 'jacelyn_tay',\n",
       " 'xinlinnn',\n",
       " 'kym_ng',\n",
       " 'sophiachong',\n",
       " 'alluradesign',\n",
       " 'theeditorsmarket',\n",
       " 'jeanettewn',\n",
       " 'graceyuki',\n",
       " 'ms_rach',\n",
       " 'martinapagani',\n",
       " 'anna_en',\n",
       " 'theclosetlover',\n",
       " 'jamiepang',\n",
       " 'mingbridges',\n",
       " 'charlottelum',\n",
       " 'polkadope',\n",
       " 'aimeechengbradshaw',\n",
       " 'pxdkitty',\n",
       " 'esh_wari',\n",
       " 'tippytapp',\n",
       " 'berlin.ng',\n",
       " 'dj.shinigami',\n",
       " 'prisceliachan',\n",
       " 'slavagee',\n",
       " 'trumpster.d',\n",
       " 'gnitil',\n",
       " 'symoneoei',\n",
       " 'felixgerlach',\n",
       " 's_f_y_96',\n",
       " 'celestechen']"
      ]
     },
     "execution_count": 47,
     "metadata": {},
     "output_type": "execute_result"
    }
   ],
   "source": [
    "#create target accounts for download\n",
    "accounts = insta_acc['handle'].tolist()\n",
    "accounts"
   ]
  },
  {
   "cell_type": "code",
   "execution_count": 48,
   "id": "d98f5b66",
   "metadata": {},
   "outputs": [
    {
     "data": {
      "text/plain": [
       "['gourmetartistry', 'martinapagani', 'theeditorsmarket', 'theclosetlover']"
      ]
     },
     "execution_count": 48,
     "metadata": {},
     "output_type": "execute_result"
    }
   ],
   "source": [
    "#manually identify some that do not seem to be tagged correctly to fashion\n",
    "#also remove blogshops and influencers that do not seem to be correctly tagged to Singapore\n",
    "wrong_tag = ['gourmetartistry','martinapagani',]\n",
    "blogshops = ['theeditorsmarket','theclosetlover']\n",
    "to_remove = wrong_tag + blogshops\n",
    "to_remove"
   ]
  },
  {
   "cell_type": "code",
   "execution_count": 51,
   "id": "867b7f7a",
   "metadata": {},
   "outputs": [
    {
     "data": {
      "text/plain": [
       "['ec24m',\n",
       " 'diya_menon_official',\n",
       " 'jiaqiwoo',\n",
       " 'limrebecca',\n",
       " 'taufikbatisah',\n",
       " 'speishi',\n",
       " 'dreachong',\n",
       " 'carriewst',\n",
       " 'kimlimhl',\n",
       " 'novitalam',\n",
       " 'julietan_cxq',\n",
       " 'mongabong',\n",
       " 'aureliang_',\n",
       " 'xplacidacidx',\n",
       " 'melissackoh',\n",
       " 'katherinaolivia',\n",
       " 'nicolekittykatx',\n",
       " 'sylsylnoc',\n",
       " 'elegantstylesfashion',\n",
       " 'zoetay10',\n",
       " 'xubin_',\n",
       " 'hayleywoojiayi',\n",
       " 'yahuiyh',\n",
       " 'denisesoongeelyn',\n",
       " 'rchlwngxx',\n",
       " 'saffronsharpe',\n",
       " 'euniceannabel',\n",
       " 'katepang311',\n",
       " 'honglingg_',\n",
       " 'norfasarie',\n",
       " 'elaineruimin',\n",
       " 'trishachatterjee09',\n",
       " 'mirchelley',\n",
       " 'sleepy.tofu',\n",
       " 'sheila_sim',\n",
       " 'shanepowxp',\n",
       " 'milapanpinij',\n",
       " 'fionafussi',\n",
       " 'cheyennechesney',\n",
       " 'soniachew',\n",
       " 'narellekheng',\n",
       " 'ohhowstrange',\n",
       " 'andeecys',\n",
       " 'garimpandodicas',\n",
       " 'xoxoapo',\n",
       " 'jacelyn_tay',\n",
       " 'xinlinnn',\n",
       " 'kym_ng',\n",
       " 'sophiachong',\n",
       " 'alluradesign',\n",
       " 'jeanettewn',\n",
       " 'graceyuki',\n",
       " 'ms_rach',\n",
       " 'anna_en',\n",
       " 'jamiepang',\n",
       " 'mingbridges',\n",
       " 'charlottelum',\n",
       " 'polkadope',\n",
       " 'aimeechengbradshaw',\n",
       " 'pxdkitty',\n",
       " 'esh_wari',\n",
       " 'tippytapp',\n",
       " 'berlin.ng',\n",
       " 'dj.shinigami',\n",
       " 'prisceliachan',\n",
       " 'slavagee',\n",
       " 'trumpster.d',\n",
       " 'gnitil',\n",
       " 'symoneoei',\n",
       " 'felixgerlach',\n",
       " 's_f_y_96',\n",
       " 'celestechen']"
      ]
     },
     "execution_count": 51,
     "metadata": {},
     "output_type": "execute_result"
    }
   ],
   "source": [
    "# final list of accounts\n",
    "for acc in to_remove:\n",
    "    if acc in accounts:\n",
    "        accounts.remove(acc)\n",
    "\n",
    "accounts"
   ]
  },
  {
   "cell_type": "code",
   "execution_count": 32,
   "id": "51898e15",
   "metadata": {},
   "outputs": [
    {
     "name": "stdout",
     "output_type": "stream",
     "text": [
      "Stored ID 4487106 for profile melissackoh.\n",
      "melissackoh/2021-10-10_03-41-59_UTC_profile_pic.jpg \n",
      "profile melissackoh could also be downloaded anonymously.\n",
      "Retrieving posts from profile melissackoh.\n",
      "[   1/5859] melissackoh/2021-11-30_02-50-46_UTC_1.jpg melissackoh/2021-11-30_02-50-46_UTC_2.jpg [I choose organic when I can. …] json \n",
      "[   2/5859] melissackoh/2021-11-27_12-20-28_UTC.jpg [<#12mellydaysofchristmas GIVE…] json \n",
      "[   3/5859] melissackoh/2021-11-27_07-09-00_UTC.jpg [Life is gold ✨ The @diorbeaut…] json \n",
      "[   4/5859] melissackoh/2021-11-21_13-38-03_UTC.jpg [Baby Asher is the luckiest to…] json \n",
      "[   5/5859] melissackoh/2021-11-20_12-11-15_UTC.jpg [Scalp care is as important as…] json \n",
      "[   6/5859] melissackoh/2021-11-18_09-37-19_UTC_1.jpg melissackoh/2021-11-18_09-37-19_UTC_2.jpg [I’ve found a solution to keep…] json \n",
      "[   7/5859] melissackoh/2021-11-18_03-13-59_UTC.jpg [Celebrating our belated anniv…] json \n",
      "[   8/5859] melissackoh/2021-11-17_14-21-08_UTC.jpg [Exactly 5 months ago, I gave …] json \n",
      "[   9/5859] melissackoh/2021-11-16_12-46-03_UTC.jpg [Everywhere’s my runway with @…] json \n",
      "[  10/5859] melissackoh/2021-11-15_14-08-19_UTC.jpg [Always a fun party with #Maje…] json \n",
      "[  11/5859] melissackoh/2021-11-15_09-18-14_UTC.jpg [My partner through every suns…] json \n",
      "[  12/5859] melissackoh/2021-11-14_02-35-23_UTC.jpg [The latest eco-friendly lifes…] json \n",
      "[  13/5859] melissackoh/2021-11-11_11-22-13_UTC.jpg [Wearing the perfect sparkling…] json \n",
      "[  14/5859] melissackoh/2021-11-11_07-24-08_UTC_1.jpg melissackoh/2021-11-11_07-24-08_UTC_2.jpg [The Cricut Joy is an absolute…] json \n",
      "[  15/5859] melissackoh/2021-11-11_05-12-03_UTC_1.jpg melissackoh/2021-11-11_05-12-03_UTC_2.jpg [Score super good deals🎁🥳 (up …] json \n",
      "[  16/5859] melissackoh/2021-11-11_02-16-48_UTC.jpg [<GIVEAWAY> Celebrating Vestia…] json \n",
      "[  17/5859] melissackoh/2021-11-10_11-00-06_UTC_1.jpg melissackoh/2021-11-10_11-00-06_UTC_2.jpg [Skincare is my favourite kind…] json \n",
      "[  18/5859] melissackoh/2021-11-10_10-05-01_UTC.jpg [I’M IN LOVEEEE! 🤩💖  I got the…] json \n",
      "[  19/5859] melissackoh/2021-11-10_02-19-29_UTC_1.jpg melissackoh/2021-11-10_02-19-29_UTC_2.jpg melissackoh/2021-11-10_02-19-29_UTC_3.jpg [The Philips Premium Sonicare …] json \n",
      "[  20/5859] melissackoh/2021-11-09_13-53-01_UTC.jpg [When life kicks me, I kick it…] json \n",
      "[  21/5859] melissackoh/2021-11-08_12-07-45_UTC_1.jpg melissackoh/2021-11-08_12-07-45_UTC_2.jpg [My skin tends to be dull and …] json \n",
      "[  22/5859] melissackoh/2021-11-07_12-25-16_UTC_1.jpg melissackoh/2021-11-07_12-25-16_UTC_2.jpg [The spirit of Christmas is in…] json \n",
      "[  23/5859] melissackoh/2021-11-07_01-32-27_UTC_1.jpg melissackoh/2021-11-07_01-32-27_UTC_2.jpg melissackoh/2021-11-07_01-32-27_UTC_3.jpg [Just about month back, we col…] json \n",
      "[  24/5859] melissackoh/2021-11-06_03-56-04_UTC.jpg [Here are my morning habits to…] json \n",
      "[  25/5859] melissackoh/2021-11-05_13-16-22_UTC.jpg [It’s haul time! I recently sh…] json \n",
      "[  26/5859] melissackoh/2021-11-04_09-59-56_UTC.jpg [🎄GIVEAWAY🎄  My favourite time…] json \n",
      "[  27/5859] melissackoh/2021-11-03_04-14-03_UTC_1.jpg melissackoh/2021-11-03_04-14-03_UTC_2.jpg melissackoh/2021-11-03_04-14-03_UTC_3.jpg melissackoh/2021-11-03_04-14-03_UTC_4.jpg [Saving up for my family needs…] json \n",
      "[  28/5859] melissackoh/2021-10-31_10-05-54_UTC.jpg [Playing dress up and goofing …] json \n",
      "[  29/5859] melissackoh/2021-10-30_11-19-35_UTC_1.jpg melissackoh/2021-10-30_11-19-35_UTC_2.jpg melissackoh/2021-10-30_11-19-35_UTC_3.jpg melissackoh/2021-10-30_11-19-35_UTC_4.jpg melissackoh/2021-10-30_11-19-35_UTC_5.jpg melissackoh/2021-10-30_11-19-35_UTC_6.jpg melissackoh/2021-10-30_11-19-35_UTC_7.jpg [Doing married life with @Jame…] json \n",
      "[  30/5859] melissackoh/2021-10-29_13-06-57_UTC.jpg [You can mess with me, but don…] json \n",
      "[  31/5859] melissackoh/2021-10-29_10-40-51_UTC.jpg [I am always irked when I see …] json \n",
      "[  32/5859] melissackoh/2021-10-29_02-43-02_UTC.jpg [Self-care is so important for…] json \n",
      "[  33/5859] melissackoh/2021-10-28_11-22-32_UTC.jpg [Riding into my first reel ✌🏼] json \n",
      "[  34/5859] melissackoh/2021-10-27_07-10-09_UTC_1.jpg melissackoh/2021-10-27_07-10-09_UTC_2.jpg [Aside from working hard to pr…] json \n",
      "[  35/5859] melissackoh/2021-10-25_02-37-42_UTC_1.jpg melissackoh/2021-10-25_02-37-42_UTC_2.jpg [Ever since my second pregnanc…] json \n",
      "[  36/5859] melissackoh/2021-10-24_10-23-38_UTC_1.jpg melissackoh/2021-10-24_10-23-38_UTC_2.jpg melissackoh/2021-10-24_10-23-38_UTC_3.jpg [My better half ♥️ #mrandmrsba…] json \n",
      "[  37/5859] melissackoh/2021-10-22_13-15-31_UTC.jpg [Great shoes make me feel 💥  #…] json \n",
      "[  38/5859] melissackoh/2021-10-21_10-04-18_UTC.jpg [Noah says “Let’s go to nai na…] json \n",
      "[  39/5859] melissackoh/2021-10-20_03-37-30_UTC.jpg [Keep cool and refreshed with …] json \n",
      "[  40/5859] melissackoh/2021-10-19_12-31-05_UTC_1.jpg melissackoh/2021-10-19_12-31-05_UTC_2.jpg [Sunset light this evening was…] json \n",
      "[  41/5859] melissackoh/2021-10-18_10-01-57_UTC_1.jpg melissackoh/2021-10-18_10-01-57_UTC_2.jpg [<GIVEAWAY> Hey pleasure seeke…] json \n",
      "[  42/5859] melissackoh/2021-10-17_12-41-57_UTC.jpg [Life has thrown you so many l…] json \n",
      "[  43/5859] melissackoh/2021-10-16_12-19-45_UTC_1.jpg melissackoh/2021-10-16_12-19-45_UTC_2.jpg melissackoh/2021-10-16_12-19-45_UTC_3.jpg [Beautiful resort wear feels l…] json \n",
      "[  44/5859] melissackoh/2021-10-15_12-20-59_UTC_1.jpg melissackoh/2021-10-15_12-20-59_UTC_2.jpg melissackoh/2021-10-15_12-20-59_UTC_3.jpg melissackoh/2021-10-15_12-20-59_UTC_4.jpg melissackoh/2021-10-15_12-20-59_UTC_5.jpg melissackoh/2021-10-15_12-20-59_UTC_6.jpg [Twinning with my first born i…] json \n",
      "[  45/5859] melissackoh/2021-10-14_11-48-49_UTC.jpg [Paying for my rides have been…] json \n",
      "[  46/5859] melissackoh/2021-10-14_07-09-26_UTC.jpg [Come with me as I take you be…] json \n",
      "[  47/5859] melissackoh/2021-10-12_12-29-59_UTC_1.jpg melissackoh/2021-10-12_12-29-59_UTC_2.jpg [Dreaming of my next getaway i…] json \n",
      "[  48/5859] melissackoh/2021-10-11_07-26-53_UTC.jpg [Still dreaming of breakfast i…] json \n",
      "[  49/5859] melissackoh/2021-10-10_10-59-44_UTC_1.jpg melissackoh/2021-10-10_10-59-44_UTC_2.jpg melissackoh/2021-10-10_10-59-44_UTC_3.jpg melissackoh/2021-10-10_10-59-44_UTC_4.jpg melissackoh/2021-10-10_10-59-44_UTC_5.jpg melissackoh/2021-10-10_10-59-44_UTC_6.jpg melissackoh/2021-10-10_10-59-44_UTC_7.jpg melissackoh/2021-10-10_10-59-44_UTC_8.jpg melissackoh/2021-10-10_10-59-44_UTC_9.jpg melissackoh/2021-10-10_10-59-44_UTC_10.jpg [Throwback to the most blessed…] json \n",
      "[  50/5859] melissackoh/2021-10-10_02-13-33_UTC.jpg [Ever since we got the Philips…] json \n",
      "[  51/5859] melissackoh/2021-10-07_10-27-10_UTC.jpg [I love things that give me cl…] json \n",
      "[  52/5859] melissackoh/2021-10-04_08-51-49_UTC.jpg [We are #StrongerEveryday.   F…] json \n",
      "[  53/5859] melissackoh/2021-10-03_10-34-40_UTC_1.jpg melissackoh/2021-10-03_10-34-40_UTC_2.jpg melissackoh/2021-10-03_10-34-40_UTC_3.jpg [<GIVEAWAY> My day is better w…] json \n",
      "[  54/5859] melissackoh/2021-10-03_07-49-50_UTC.jpg [I miss you so much, @noahtobi…] json \n",
      "[  55/5859] melissackoh/2021-10-01_11-21-42_UTC.jpg [Enjoying cafe-style, quality …] json \n",
      "[  56/5859] melissackoh/2021-10-01_06-25-52_UTC_1.jpg melissackoh/2021-10-01_06-25-52_UTC_2.jpg [Styling Furla’s Sirena hobo b…] json \n",
      "[  57/5859] melissackoh/2021-09-30_13-21-43_UTC.jpg [Reset.] json \n",
      "[  58/5859] melissackoh/2021-09-30_10-02-59_UTC.jpg [On a pool-side date with @noa…] json \n",
      "[  59/5859] melissackoh/2021-09-30_03-26-04_UTC.jpg [A little tropical getaway🌴  O…] json \n",
      "[  60/5859] melissackoh/2021-09-29_13-11-35_UTC.jpg [Presenting: #washnotwipe, in …] json \n",
      "[  61/5859] melissackoh/2021-09-29_10-01-50_UTC.jpg [Caption this 😎👆🏻  Checking in…] json \n",
      "[  62/5859] melissackoh/2021-09-28_12-56-49_UTC_1.jpg melissackoh/2021-09-28_12-56-49_UTC_2.jpg [They say to shine from within…] json \n",
      "[  63/5859] melissackoh/2021-09-26_01-32-59_UTC.jpg [Today’s forecast: florals and…] json \n",
      "[  64/5859] melissackoh/2021-09-24_10-51-09_UTC_1.jpg melissackoh/2021-09-24_10-51-09_UTC_2.jpg [I’m here at Esso Toa Payoh Lo…] json \n",
      "[  65/5859] melissackoh/2021-09-24_10-00-19_UTC.jpg [It’s official handover day. 🔑…] json \n",
      "[  66/5859] melissackoh/2021-09-24_04-04-11_UTC_1.jpg melissackoh/2021-09-24_04-04-11_UTC_2.jpg melissackoh/2021-09-24_04-04-11_UTC_3.jpg [#ClarksxMel is now launched o…] json \n",
      "[  67/5859] melissackoh/2021-09-23_12-26-08_UTC_1.jpg melissackoh/2021-09-23_12-26-08_UTC_2.jpg [Say hi to my arm candy for to…] json \n",
      "[  68/5859] melissackoh/2021-09-23_10-11-03_UTC.jpg [Ensuring that I have #EveryDa…] json \n",
      "[  69/5859] melissackoh/2021-09-22_13-24-02_UTC_1.jpg melissackoh/2021-09-22_13-24-02_UTC_2.jpg melissackoh/2021-09-22_13-24-02_UTC_3.jpg [So the countdown to #ClarksxM…] json \n",
      "[  70/5859] melissackoh/2021-09-21_10-22-36_UTC.jpg [In life, we need to unwind an…] json \n",
      "[  71/5859] melissackoh/2021-09-20_12-34-33_UTC.jpg [Hello everyone! Today I’m sha…] json \n",
      "[  72/5859] melissackoh/2021-09-17_02-59-11_UTC.jpg [Here’s my daily morning skinc…] json \n",
      "[  73/5859] melissackoh/2021-09-16_11-21-41_UTC.jpg [My life, as of late, revolves…] json \n",
      "[  74/5859] melissackoh/2021-09-15_03-32-25_UTC_1.jpg melissackoh/2021-09-15_03-32-25_UTC_2.jpg [Confession: I haven’t had uni…] json \n",
      "[  75/5859] melissackoh/2021-09-14_13-16-21_UTC.jpg [Reached another life mileston…] json \n",
      "[  76/5859] melissackoh/2021-09-14_09-49-15_UTC.jpg [They say ‘you can never leave…] json \n",
      "[  77/5859] melissackoh/2021-09-13_10-06-53_UTC.jpg [God knew my heart needed you,…] json \n",
      "[  78/5859] melissackoh/2021-09-11_05-16-32_UTC_1.jpg melissackoh/2021-09-11_05-16-32_UTC_2.jpg [Starting my weekend with a ho…] json \n",
      "[  79/5859] melissackoh/2021-09-10_12-26-46_UTC_1.jpg melissackoh/2021-09-10_12-26-46_UTC_2.jpg [I really enjoy the convenienc…] json \n",
      "[  80/5859] melissackoh/2021-09-09_12-32-30_UTC.jpg [My whole world right here ♥️ …] json \n",
      "[  81/5859] melissackoh/2021-09-08_13-24-07_UTC.jpg [Gingham love! Dressed in @sho…] json \n",
      "[  82/5859] melissackoh/2021-09-08_04-36-07_UTC_1.jpg melissackoh/2021-09-08_04-36-07_UTC_2.jpg [Hitched a ride this morning f…] json \n",
      "[  83/5859] melissackoh/2021-09-03_01-45-42_UTC_1.jpg melissackoh/2021-09-03_01-45-42_UTC_2.jpg melissackoh/2021-09-03_01-45-42_UTC_3.jpg [Putting together a semi-causa…] json \n",
      "[  84/5859] melissackoh/2021-09-02_10-51-51_UTC.jpg [SHE is confident and free-spi…] json \n",
      "[  85/5859] melissackoh/2021-08-31_13-19-52_UTC_1.jpg melissackoh/2021-08-31_13-19-52_UTC_2.jpg [Breastfeeding moms, I 100% re…] json \n",
      "[  86/5859] melissackoh/2021-08-30_12-00-18_UTC_1.jpg melissackoh/2021-08-30_12-00-18_UTC_2.jpg [Ordering Mooncakes for your f…] json \n",
      "[  87/5859] melissackoh/2021-08-29_10-08-43_UTC_1.jpg melissackoh/2021-08-29_10-08-43_UTC_2.jpg melissackoh/2021-08-29_10-08-43_UTC_3.jpg [<GIVEAWAY> For me, efficiency…] json \n",
      "[  88/5859] melissackoh/2021-08-29_03-36-04_UTC.jpg [so new, yet so familiar. and …] json \n",
      "[  89/5859] melissackoh/2021-08-28_07-54-49_UTC.jpg [With you, in good times & bad…] json \n",
      "[  90/5859] melissackoh/2021-08-26_11-16-44_UTC_1.jpg melissackoh/2021-08-26_11-16-44_UTC_2.jpg [The new @Guerlain Abeille Roy…] json \n",
      "[  91/5859] melissackoh/2021-08-26_03-35-13_UTC.jpg [Motherhood can be scary, over…] json \n",
      "[  92/5859] melissackoh/2021-08-25_12-46-29_UTC.jpg [Currently decluttering my phy…] json \n",
      "[  93/5859] melissackoh/2021-08-23_12-03-57_UTC_1.jpg melissackoh/2021-08-23_12-03-57_UTC_2.jpg melissackoh/2021-08-23_12-03-57_UTC_3.jpg [Ever since Asher came home, I…] json \n",
      "[  94/5859] melissackoh/2021-08-21_01-21-31_UTC_1.jpg melissackoh/2021-08-21_01-21-31_UTC_2.jpg [[GIVEAWAY] ✨ 100% loving the …] json \n",
      "[  95/5859] melissackoh/2021-08-20_13-38-43_UTC.jpg [I have been trying to spend e…] json \n",
      "[  96/5859] melissackoh/2021-08-18_15-04-08_UTC_1.jpg melissackoh/2021-08-18_15-04-08_UTC_2.jpg [Most blessed birthday to the …] json \n",
      "[  97/5859] melissackoh/2021-08-17_11-59-52_UTC_1.jpg melissackoh/2021-08-17_11-59-52_UTC_2.jpg [The moon danced with stars on…] json \n",
      "[  98/5859] melissackoh/2021-08-17_08-09-37_UTC_1.jpg melissackoh/2021-08-17_08-09-37_UTC_2.jpg [What’s for lunch today? ",
      "We or…] json \n",
      "[  99/5859] melissackoh/2021-08-16_14-10-59_UTC_1.jpg melissackoh/2021-08-16_14-10-59_UTC_2.jpg [Feeling so grateful for time …] json \n",
      "[ 100/5859] melissackoh/2021-08-14_07-21-20_UTC.jpg [Old is gold 💫  Remember, we s…] json \n",
      "[ 101/5859] melissackoh/2021-08-12_03-44-22_UTC.jpg [Happy 4th Wedding Anniversary…] json \n",
      "[ 102/5859] melissackoh/2021-08-10_13-21-43_UTC_1.jpg melissackoh/2021-08-10_13-21-43_UTC_2.jpg melissackoh/2021-08-10_13-21-43_UTC_3.jpg melissackoh/2021-08-10_13-21-43_UTC_4.jpg melissackoh/2021-08-10_13-21-43_UTC_5.jpg [My whole world right here 😭♥️…] json \n",
      "[ 103/5859] melissackoh/2021-08-09_11-18-37_UTC_1.jpg melissackoh/2021-08-09_11-18-37_UTC_2.jpg [Noah must have picked this up…] json \n",
      "[ 104/5859] melissackoh/2021-08-09_05-29-54_UTC_1.jpg melissackoh/2021-08-09_05-29-54_UTC_2.jpg melissackoh/2021-08-09_05-29-54_UTC_3.jpg [This is home, our safe haven.…] json \n",
      "[ 105/5859] melissackoh/2021-08-08_14-26-16_UTC.jpg [I love that you are my person…] json \n",
      "[ 106/5859] melissackoh/2021-08-06_07-34-05_UTC.jpg [First look at his baby brothe…] json \n",
      "[ 107/5859] melissackoh/2021-08-05_11-07-35_UTC_1.jpg melissackoh/2021-08-05_11-07-35_UTC_2.jpg melissackoh/2021-08-05_11-07-35_UTC_3.jpg melissackoh/2021-08-05_11-07-35_UTC_4.jpg melissackoh/2021-08-05_11-07-35_UTC_5.jpg melissackoh/2021-08-05_11-07-35_UTC_6.jpg melissackoh/2021-08-05_11-07-35_UTC_7.jpg [Welcoming my sweetest miracle…] json \n",
      "[ 108/5859] melissackoh/2021-07-30_13-30-58_UTC.jpg [I truly miss those traveling …] json \n",
      "[ 109/5859] melissackoh/2021-07-29_13-10-12_UTC.jpg [So glad that you got the oppo…] json \n",
      "[ 110/5859] melissackoh/2021-07-27_05-19-31_UTC_1.jpg melissackoh/2021-07-27_05-19-31_UTC_2.jpg melissackoh/2021-07-27_05-19-31_UTC_3.jpg melissackoh/2021-07-27_05-19-31_UTC_4.jpg [<Save this post>  ",
      "We love bon…] json \n",
      "[ 111/5859] melissackoh/2021-07-17_10-30-04_UTC_1.jpg melissackoh/2021-07-17_10-30-04_UTC_2.jpg melissackoh/2021-07-17_10-30-04_UTC_3.jpg melissackoh/2021-07-17_10-30-04_UTC_4.jpg [Today, baby @ashermatthiasche…] json \n",
      "[ 112/5859] melissackoh/2021-07-16_12-24-48_UTC_1.jpg melissackoh/2021-07-16_12-24-48_UTC_2.jpg [<GIVEAWAY> Aesthetic meets fu…] json \n",
      "[ 113/5859] melissackoh/2021-07-15_03-39-41_UTC_1.jpg melissackoh/2021-07-15_03-39-41_UTC_2.jpg melissackoh/2021-07-15_03-39-41_UTC_3.jpg melissackoh/2021-07-15_03-39-41_UTC_4.jpg melissackoh/2021-07-15_03-39-41_UTC_5.jpg [New day, new graces ✨  @strat…] json \n",
      "[ 114/5859] melissackoh/2021-07-11_12-22-20_UTC.jpg [A precious milestone for keep…] json \n",
      "[ 115/5859] melissackoh/2021-07-08_12-23-17_UTC.jpg [Even though I’m physically an…] json \n",
      "[ 116/5859] melissackoh/2021-07-07_12-26-25_UTC_1.jpg melissackoh/2021-07-07_12-26-25_UTC_2.jpg [Hold your loved ones extra ti…] json \n",
      "[ 117/5859] melissackoh/2021-07-03_02-00-30_UTC.jpg [Easy breezy weekend outfit fr…] json \n",
      "[ 118/5859] melissackoh/2021-07-01_12-00-02_UTC.jpg [@ashermatthiaschen greeted us…] json \n",
      "[ 119/5859] melissackoh/2021-06-30_10-01-23_UTC.jpg [Spicy Sesame Soba Noodles wit…] json \n",
      "[ 120/5859] melissackoh/2021-06-29_10-00-08_UTC.jpg [Breastfeeding is a challengin…] json \n",
      "[ 121/5859] melissackoh/2021-06-29_03-39-55_UTC_1.jpg melissackoh/2021-06-29_03-39-55_UTC_2.jpg [As I decided to postpone my n…] json \n",
      "[ 122/5859] \n",
      "Saved resume information to melissackoh/iterator_0JTNzOVW.json.xz.\n"
     ]
    },
    {
     "ename": "KeyboardInterrupt",
     "evalue": "",
     "output_type": "error",
     "traceback": [
      "\u001b[0;31m---------------------------------------------------------------------------\u001b[0m",
      "\u001b[0;31mKeyboardInterrupt\u001b[0m                         Traceback (most recent call last)",
      "\u001b[0;32m<ipython-input-32-3deccdacf8f7>\u001b[0m in \u001b[0;36m<module>\u001b[0;34m\u001b[0m\n\u001b[1;32m      5\u001b[0m         \u001b[0mtime\u001b[0m\u001b[0;34m.\u001b[0m\u001b[0msleep\u001b[0m\u001b[0;34m(\u001b[0m\u001b[0msleeptime\u001b[0m\u001b[0;34m)\u001b[0m\u001b[0;34m\u001b[0m\u001b[0;34m\u001b[0m\u001b[0m\n\u001b[1;32m      6\u001b[0m     \u001b[0mstarttime\u001b[0m \u001b[0;34m=\u001b[0m \u001b[0mtime\u001b[0m\u001b[0;34m.\u001b[0m\u001b[0mtime\u001b[0m\u001b[0;34m(\u001b[0m\u001b[0;34m)\u001b[0m\u001b[0;34m\u001b[0m\u001b[0;34m\u001b[0m\u001b[0m\n\u001b[0;32m----> 7\u001b[0;31m     \u001b[0mdl\u001b[0m\u001b[0;34m.\u001b[0m\u001b[0mdownload_profile\u001b[0m\u001b[0;34m(\u001b[0m\u001b[0macc\u001b[0m\u001b[0;34m)\u001b[0m\u001b[0;34m\u001b[0m\u001b[0;34m\u001b[0m\u001b[0m\n\u001b[0m\u001b[1;32m      8\u001b[0m \u001b[0;34m\u001b[0m\u001b[0m\n\u001b[1;32m      9\u001b[0m \u001b[0;31m# #record diff between end and start time\u001b[0m\u001b[0;34m\u001b[0m\u001b[0;34m\u001b[0m\u001b[0;34m\u001b[0m\u001b[0m\n",
      "\u001b[0;32m~/opt/anaconda3/lib/python3.8/site-packages/instaloader/instaloader.py\u001b[0m in \u001b[0;36mdownload_profile\u001b[0;34m(self, profile_name, profile_pic, profile_pic_only, fast_update, download_stories, download_stories_only, download_tagged, download_tagged_only, post_filter, storyitem_filter)\u001b[0m\n\u001b[1;32m   1511\u001b[0m         \u001b[0;31m# Iterate over pictures and download them\u001b[0m\u001b[0;34m\u001b[0m\u001b[0;34m\u001b[0m\u001b[0;34m\u001b[0m\u001b[0m\n\u001b[1;32m   1512\u001b[0m         \u001b[0mself\u001b[0m\u001b[0;34m.\u001b[0m\u001b[0mcontext\u001b[0m\u001b[0;34m.\u001b[0m\u001b[0mlog\u001b[0m\u001b[0;34m(\u001b[0m\u001b[0;34m\"Retrieving posts from profile {}.\"\u001b[0m\u001b[0;34m.\u001b[0m\u001b[0mformat\u001b[0m\u001b[0;34m(\u001b[0m\u001b[0mprofile_name\u001b[0m\u001b[0;34m)\u001b[0m\u001b[0;34m)\u001b[0m\u001b[0;34m\u001b[0m\u001b[0;34m\u001b[0m\u001b[0m\n\u001b[0;32m-> 1513\u001b[0;31m         self.posts_download_loop(profile.get_posts(), profile_name, fast_update, post_filter,\n\u001b[0m\u001b[1;32m   1514\u001b[0m                                  total_count=profile.mediacount, owner_profile=profile)\n\u001b[1;32m   1515\u001b[0m \u001b[0;34m\u001b[0m\u001b[0m\n",
      "\u001b[0;32m~/opt/anaconda3/lib/python3.8/site-packages/instaloader/instaloader.py\u001b[0m in \u001b[0;36mposts_download_loop\u001b[0;34m(self, posts, target, fast_update, post_filter, max_count, total_count, owner_profile, takewhile)\u001b[0m\n\u001b[1;32m   1000\u001b[0m                     \u001b[0;32mwhile\u001b[0m \u001b[0;32mTrue\u001b[0m\u001b[0;34m:\u001b[0m\u001b[0;34m\u001b[0m\u001b[0;34m\u001b[0m\u001b[0m\n\u001b[1;32m   1001\u001b[0m                         \u001b[0;32mtry\u001b[0m\u001b[0;34m:\u001b[0m\u001b[0;34m\u001b[0m\u001b[0;34m\u001b[0m\u001b[0m\n\u001b[0;32m-> 1002\u001b[0;31m                             \u001b[0mdownloaded\u001b[0m \u001b[0;34m=\u001b[0m \u001b[0mself\u001b[0m\u001b[0;34m.\u001b[0m\u001b[0mdownload_post\u001b[0m\u001b[0;34m(\u001b[0m\u001b[0mpost\u001b[0m\u001b[0;34m,\u001b[0m \u001b[0mtarget\u001b[0m\u001b[0;34m=\u001b[0m\u001b[0mtarget\u001b[0m\u001b[0;34m)\u001b[0m\u001b[0;34m\u001b[0m\u001b[0;34m\u001b[0m\u001b[0m\n\u001b[0m\u001b[1;32m   1003\u001b[0m                             \u001b[0;32mbreak\u001b[0m\u001b[0;34m\u001b[0m\u001b[0;34m\u001b[0m\u001b[0m\n\u001b[1;32m   1004\u001b[0m                         \u001b[0;32mexcept\u001b[0m \u001b[0mPostChangedException\u001b[0m\u001b[0;34m:\u001b[0m\u001b[0;34m\u001b[0m\u001b[0;34m\u001b[0m\u001b[0m\n",
      "\u001b[0;32m~/opt/anaconda3/lib/python3.8/site-packages/instaloader/instaloader.py\u001b[0m in \u001b[0;36mdownload_post\u001b[0;34m(self, post, target)\u001b[0m\n\u001b[1;32m    673\u001b[0m                         )\n\u001b[1;32m    674\u001b[0m                 ):\n\u001b[0;32m--> 675\u001b[0;31m                     for edge_number, sidecar_node in enumerate(\n\u001b[0m\u001b[1;32m    676\u001b[0m                             \u001b[0mpost\u001b[0m\u001b[0;34m.\u001b[0m\u001b[0mget_sidecar_nodes\u001b[0m\u001b[0;34m(\u001b[0m\u001b[0mself\u001b[0m\u001b[0;34m.\u001b[0m\u001b[0mslide_start\u001b[0m\u001b[0;34m,\u001b[0m \u001b[0mself\u001b[0m\u001b[0;34m.\u001b[0m\u001b[0mslide_end\u001b[0m\u001b[0;34m)\u001b[0m\u001b[0;34m,\u001b[0m\u001b[0;34m\u001b[0m\u001b[0;34m\u001b[0m\u001b[0m\n\u001b[1;32m    677\u001b[0m                             \u001b[0mstart\u001b[0m\u001b[0;34m=\u001b[0m\u001b[0mself\u001b[0m\u001b[0;34m.\u001b[0m\u001b[0mslide_start\u001b[0m \u001b[0;34m%\u001b[0m \u001b[0mpost\u001b[0m\u001b[0;34m.\u001b[0m\u001b[0mmediacount\u001b[0m \u001b[0;34m+\u001b[0m \u001b[0;36m1\u001b[0m\u001b[0;34m\u001b[0m\u001b[0;34m\u001b[0m\u001b[0m\n",
      "\u001b[0;32m~/opt/anaconda3/lib/python3.8/site-packages/instaloader/structures.py\u001b[0m in \u001b[0;36mget_sidecar_nodes\u001b[0;34m(self, start, end)\u001b[0m\n\u001b[1;32m    310\u001b[0m                     \u001b[0;32mif\u001b[0m \u001b[0;32mnot\u001b[0m \u001b[0mis_video\u001b[0m \u001b[0;32mand\u001b[0m \u001b[0mself\u001b[0m\u001b[0;34m.\u001b[0m\u001b[0m_context\u001b[0m\u001b[0;34m.\u001b[0m\u001b[0miphone_support\u001b[0m \u001b[0;32mand\u001b[0m \u001b[0mself\u001b[0m\u001b[0;34m.\u001b[0m\u001b[0m_context\u001b[0m\u001b[0;34m.\u001b[0m\u001b[0mis_logged_in\u001b[0m\u001b[0;34m:\u001b[0m\u001b[0;34m\u001b[0m\u001b[0;34m\u001b[0m\u001b[0m\n\u001b[1;32m    311\u001b[0m                         \u001b[0;32mtry\u001b[0m\u001b[0;34m:\u001b[0m\u001b[0;34m\u001b[0m\u001b[0;34m\u001b[0m\u001b[0m\n\u001b[0;32m--> 312\u001b[0;31m                             \u001b[0mcarousel_media\u001b[0m \u001b[0;34m=\u001b[0m \u001b[0mself\u001b[0m\u001b[0;34m.\u001b[0m\u001b[0m_iphone_struct\u001b[0m\u001b[0;34m[\u001b[0m\u001b[0;34m'carousel_media'\u001b[0m\u001b[0;34m]\u001b[0m\u001b[0;34m\u001b[0m\u001b[0;34m\u001b[0m\u001b[0m\n\u001b[0m\u001b[1;32m    313\u001b[0m                             \u001b[0morig_url\u001b[0m \u001b[0;34m=\u001b[0m \u001b[0mcarousel_media\u001b[0m\u001b[0;34m[\u001b[0m\u001b[0midx\u001b[0m\u001b[0;34m]\u001b[0m\u001b[0;34m[\u001b[0m\u001b[0;34m'image_versions2'\u001b[0m\u001b[0;34m]\u001b[0m\u001b[0;34m[\u001b[0m\u001b[0;34m'candidates'\u001b[0m\u001b[0;34m]\u001b[0m\u001b[0;34m[\u001b[0m\u001b[0;36m0\u001b[0m\u001b[0;34m]\u001b[0m\u001b[0;34m[\u001b[0m\u001b[0;34m'url'\u001b[0m\u001b[0;34m]\u001b[0m\u001b[0;34m\u001b[0m\u001b[0;34m\u001b[0m\u001b[0m\n\u001b[1;32m    314\u001b[0m                             \u001b[0mdisplay_url\u001b[0m \u001b[0;34m=\u001b[0m \u001b[0mre\u001b[0m\u001b[0;34m.\u001b[0m\u001b[0msub\u001b[0m\u001b[0;34m(\u001b[0m\u001b[0;34mr'([?&])se=\\d+&?'\u001b[0m\u001b[0;34m,\u001b[0m \u001b[0;34mr'\\1'\u001b[0m\u001b[0;34m,\u001b[0m \u001b[0morig_url\u001b[0m\u001b[0;34m)\u001b[0m\u001b[0;34m.\u001b[0m\u001b[0mrstrip\u001b[0m\u001b[0;34m(\u001b[0m\u001b[0;34m'&'\u001b[0m\u001b[0;34m)\u001b[0m\u001b[0;34m\u001b[0m\u001b[0;34m\u001b[0m\u001b[0m\n",
      "\u001b[0;32m~/opt/anaconda3/lib/python3.8/site-packages/instaloader/structures.py\u001b[0m in \u001b[0;36m_iphone_struct\u001b[0;34m(self)\u001b[0m\n\u001b[1;32m    175\u001b[0m             \u001b[0;32mraise\u001b[0m \u001b[0mLoginRequiredException\u001b[0m\u001b[0;34m(\u001b[0m\u001b[0;34m\"--login required to access iPhone media info endpoint.\"\u001b[0m\u001b[0;34m)\u001b[0m\u001b[0;34m\u001b[0m\u001b[0;34m\u001b[0m\u001b[0m\n\u001b[1;32m    176\u001b[0m         \u001b[0;32mif\u001b[0m \u001b[0;32mnot\u001b[0m \u001b[0mself\u001b[0m\u001b[0;34m.\u001b[0m\u001b[0m_iphone_struct_\u001b[0m\u001b[0;34m:\u001b[0m\u001b[0;34m\u001b[0m\u001b[0;34m\u001b[0m\u001b[0m\n\u001b[0;32m--> 177\u001b[0;31m             \u001b[0mdata\u001b[0m \u001b[0;34m=\u001b[0m \u001b[0mself\u001b[0m\u001b[0;34m.\u001b[0m\u001b[0m_context\u001b[0m\u001b[0;34m.\u001b[0m\u001b[0mget_iphone_json\u001b[0m\u001b[0;34m(\u001b[0m\u001b[0mpath\u001b[0m\u001b[0;34m=\u001b[0m\u001b[0;34m'api/v1/media/{}/info/'\u001b[0m\u001b[0;34m.\u001b[0m\u001b[0mformat\u001b[0m\u001b[0;34m(\u001b[0m\u001b[0mself\u001b[0m\u001b[0;34m.\u001b[0m\u001b[0mmediaid\u001b[0m\u001b[0;34m)\u001b[0m\u001b[0;34m,\u001b[0m \u001b[0mparams\u001b[0m\u001b[0;34m=\u001b[0m\u001b[0;34m{\u001b[0m\u001b[0;34m}\u001b[0m\u001b[0;34m)\u001b[0m\u001b[0;34m\u001b[0m\u001b[0;34m\u001b[0m\u001b[0m\n\u001b[0m\u001b[1;32m    178\u001b[0m             \u001b[0mself\u001b[0m\u001b[0;34m.\u001b[0m\u001b[0m_iphone_struct_\u001b[0m \u001b[0;34m=\u001b[0m \u001b[0mdata\u001b[0m\u001b[0;34m[\u001b[0m\u001b[0;34m'items'\u001b[0m\u001b[0;34m]\u001b[0m\u001b[0;34m[\u001b[0m\u001b[0;36m0\u001b[0m\u001b[0;34m]\u001b[0m\u001b[0;34m\u001b[0m\u001b[0;34m\u001b[0m\u001b[0m\n\u001b[1;32m    179\u001b[0m         \u001b[0;32mreturn\u001b[0m \u001b[0mself\u001b[0m\u001b[0;34m.\u001b[0m\u001b[0m_iphone_struct_\u001b[0m\u001b[0;34m\u001b[0m\u001b[0;34m\u001b[0m\u001b[0m\n",
      "\u001b[0;32m~/opt/anaconda3/lib/python3.8/site-packages/instaloader/instaloadercontext.py\u001b[0m in \u001b[0;36mget_iphone_json\u001b[0;34m(self, path, params)\u001b[0m\n\u001b[1;32m    486\u001b[0m             \u001b[0;32mfor\u001b[0m \u001b[0mheader\u001b[0m \u001b[0;32min\u001b[0m \u001b[0;34m[\u001b[0m\u001b[0;34m'Host'\u001b[0m\u001b[0;34m,\u001b[0m \u001b[0;34m'Origin'\u001b[0m\u001b[0;34m,\u001b[0m \u001b[0;34m'X-Instagram-AJAX'\u001b[0m\u001b[0;34m,\u001b[0m \u001b[0;34m'X-Requested-With'\u001b[0m\u001b[0;34m]\u001b[0m\u001b[0;34m:\u001b[0m\u001b[0;34m\u001b[0m\u001b[0;34m\u001b[0m\u001b[0m\n\u001b[1;32m    487\u001b[0m                 \u001b[0mtempsession\u001b[0m\u001b[0;34m.\u001b[0m\u001b[0mheaders\u001b[0m\u001b[0;34m.\u001b[0m\u001b[0mpop\u001b[0m\u001b[0;34m(\u001b[0m\u001b[0mheader\u001b[0m\u001b[0;34m,\u001b[0m \u001b[0;32mNone\u001b[0m\u001b[0;34m)\u001b[0m\u001b[0;34m\u001b[0m\u001b[0;34m\u001b[0m\u001b[0m\n\u001b[0;32m--> 488\u001b[0;31m             \u001b[0;32mreturn\u001b[0m \u001b[0mself\u001b[0m\u001b[0;34m.\u001b[0m\u001b[0mget_json\u001b[0m\u001b[0;34m(\u001b[0m\u001b[0mpath\u001b[0m\u001b[0;34m,\u001b[0m \u001b[0mparams\u001b[0m\u001b[0;34m,\u001b[0m \u001b[0;34m'i.instagram.com'\u001b[0m\u001b[0;34m,\u001b[0m \u001b[0mtempsession\u001b[0m\u001b[0;34m)\u001b[0m\u001b[0;34m\u001b[0m\u001b[0;34m\u001b[0m\u001b[0m\n\u001b[0m\u001b[1;32m    489\u001b[0m \u001b[0;34m\u001b[0m\u001b[0m\n\u001b[1;32m    490\u001b[0m     \u001b[0;32mdef\u001b[0m \u001b[0mwrite_raw\u001b[0m\u001b[0;34m(\u001b[0m\u001b[0mself\u001b[0m\u001b[0;34m,\u001b[0m \u001b[0mresp\u001b[0m\u001b[0;34m:\u001b[0m \u001b[0mUnion\u001b[0m\u001b[0;34m[\u001b[0m\u001b[0mbytes\u001b[0m\u001b[0;34m,\u001b[0m \u001b[0mrequests\u001b[0m\u001b[0;34m.\u001b[0m\u001b[0mResponse\u001b[0m\u001b[0;34m]\u001b[0m\u001b[0;34m,\u001b[0m \u001b[0mfilename\u001b[0m\u001b[0;34m:\u001b[0m \u001b[0mstr\u001b[0m\u001b[0;34m)\u001b[0m \u001b[0;34m->\u001b[0m \u001b[0;32mNone\u001b[0m\u001b[0;34m:\u001b[0m\u001b[0;34m\u001b[0m\u001b[0;34m\u001b[0m\u001b[0m\n",
      "\u001b[0;32m~/opt/anaconda3/lib/python3.8/site-packages/instaloader/instaloadercontext.py\u001b[0m in \u001b[0;36mget_json\u001b[0;34m(self, path, params, host, session, _attempt)\u001b[0m\n\u001b[1;32m    316\u001b[0m         \u001b[0msess\u001b[0m \u001b[0;34m=\u001b[0m \u001b[0msession\u001b[0m \u001b[0;32mif\u001b[0m \u001b[0msession\u001b[0m \u001b[0;32melse\u001b[0m \u001b[0mself\u001b[0m\u001b[0;34m.\u001b[0m\u001b[0m_session\u001b[0m\u001b[0;34m\u001b[0m\u001b[0;34m\u001b[0m\u001b[0m\n\u001b[1;32m    317\u001b[0m         \u001b[0;32mtry\u001b[0m\u001b[0;34m:\u001b[0m\u001b[0;34m\u001b[0m\u001b[0;34m\u001b[0m\u001b[0m\n\u001b[0;32m--> 318\u001b[0;31m             \u001b[0mself\u001b[0m\u001b[0;34m.\u001b[0m\u001b[0mdo_sleep\u001b[0m\u001b[0;34m(\u001b[0m\u001b[0;34m)\u001b[0m\u001b[0;34m\u001b[0m\u001b[0;34m\u001b[0m\u001b[0m\n\u001b[0m\u001b[1;32m    319\u001b[0m             \u001b[0;32mif\u001b[0m \u001b[0mis_graphql_query\u001b[0m\u001b[0;34m:\u001b[0m\u001b[0;34m\u001b[0m\u001b[0;34m\u001b[0m\u001b[0m\n\u001b[1;32m    320\u001b[0m                 \u001b[0mself\u001b[0m\u001b[0;34m.\u001b[0m\u001b[0m_rate_controller\u001b[0m\u001b[0;34m.\u001b[0m\u001b[0mwait_before_query\u001b[0m\u001b[0;34m(\u001b[0m\u001b[0mparams\u001b[0m\u001b[0;34m[\u001b[0m\u001b[0;34m'query_hash'\u001b[0m\u001b[0;34m]\u001b[0m\u001b[0;34m)\u001b[0m\u001b[0;34m\u001b[0m\u001b[0;34m\u001b[0m\u001b[0m\n",
      "\u001b[0;32m~/opt/anaconda3/lib/python3.8/site-packages/instaloader/instaloadercontext.py\u001b[0m in \u001b[0;36mdo_sleep\u001b[0;34m(self)\u001b[0m\n\u001b[1;32m    296\u001b[0m         \u001b[0;34m\"\"\"Sleep a short time if self.sleep is set. Called before each request to instagram.com.\"\"\"\u001b[0m\u001b[0;34m\u001b[0m\u001b[0;34m\u001b[0m\u001b[0m\n\u001b[1;32m    297\u001b[0m         \u001b[0;32mif\u001b[0m \u001b[0mself\u001b[0m\u001b[0;34m.\u001b[0m\u001b[0msleep\u001b[0m\u001b[0;34m:\u001b[0m\u001b[0;34m\u001b[0m\u001b[0;34m\u001b[0m\u001b[0m\n\u001b[0;32m--> 298\u001b[0;31m             \u001b[0mtime\u001b[0m\u001b[0;34m.\u001b[0m\u001b[0msleep\u001b[0m\u001b[0;34m(\u001b[0m\u001b[0mmin\u001b[0m\u001b[0;34m(\u001b[0m\u001b[0mrandom\u001b[0m\u001b[0;34m.\u001b[0m\u001b[0mexpovariate\u001b[0m\u001b[0;34m(\u001b[0m\u001b[0;36m0.6\u001b[0m\u001b[0;34m)\u001b[0m\u001b[0;34m,\u001b[0m \u001b[0;36m15.0\u001b[0m\u001b[0;34m)\u001b[0m\u001b[0;34m)\u001b[0m\u001b[0;34m\u001b[0m\u001b[0;34m\u001b[0m\u001b[0m\n\u001b[0m\u001b[1;32m    299\u001b[0m \u001b[0;34m\u001b[0m\u001b[0m\n\u001b[1;32m    300\u001b[0m     def get_json(self, path: str, params: Dict[str, Any], host: str = 'www.instagram.com',\n",
      "\u001b[0;31mKeyboardInterrupt\u001b[0m: "
     ]
    }
   ],
   "source": [
    "# for acc in accounts:\n",
    "#     starttime = time.time()\n",
    "#     sleeptime =starttime + 60 - time.time()\n",
    "#     if sleeptime > 0:\n",
    "#         time.sleep(sleeptime)\n",
    "#     starttime = time.time()\n",
    "#     dl.download_profile(acc)\n",
    "\n",
    "\n",
    "for acc in accounts:\n",
    "    t_end = time.time() + 60\n",
    "    while time.time() < t_end:\n",
    "        dl.download_profile(acc)\n",
    "\n",
    "# #record diff between end and start time\n",
    "# executionTime = (time.time() - startTime)\n",
    "# print('Execution time in seconds: ' + str(executionTime))"
   ]
  },
  {
   "cell_type": "code",
   "execution_count": null,
   "id": "df413b6e",
   "metadata": {},
   "outputs": [],
   "source": []
  }
 ],
 "metadata": {
  "kernelspec": {
   "display_name": "Python 3",
   "language": "python",
   "name": "python3"
  },
  "language_info": {
   "codemirror_mode": {
    "name": "ipython",
    "version": 3
   },
   "file_extension": ".py",
   "mimetype": "text/x-python",
   "name": "python",
   "nbconvert_exporter": "python",
   "pygments_lexer": "ipython3",
   "version": "3.8.8"
  }
 },
 "nbformat": 4,
 "nbformat_minor": 5
}
