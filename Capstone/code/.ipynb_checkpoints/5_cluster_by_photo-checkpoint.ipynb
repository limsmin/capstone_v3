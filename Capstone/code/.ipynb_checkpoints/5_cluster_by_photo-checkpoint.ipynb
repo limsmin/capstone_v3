{
 "cells": [
  {
   "cell_type": "markdown",
   "id": "00e17588",
   "metadata": {},
   "source": [
    "# 1. Install and import libraries"
   ]
  },
  {
   "cell_type": "code",
   "execution_count": 2,
   "id": "3a859bfd",
   "metadata": {},
   "outputs": [],
   "source": [
    "import pandas as pd\n",
    "from pathlib import Path\n",
    "import re\n",
    "import datetime\n",
    "import numpy as np\n",
    "from sklearn.cluster import KMeans\n",
    "from sklearn.metrics import silhouette_score\n",
    "from sklearn.metrics import pairwise_distances\n",
    "from PIL import Image\n",
    "from PIL import ImageFile\n",
    "import matplotlib.pyplot as plt\n",
    "%matplotlib inline\n",
    "import random\n",
    "import statistics"
   ]
  },
  {
   "cell_type": "markdown",
   "id": "5d2ee64b",
   "metadata": {},
   "source": [
    "# 2. Read multiple rgba csv to form dataframe"
   ]
  },
  {
   "cell_type": "code",
   "execution_count": 3,
   "id": "1232fd2f",
   "metadata": {},
   "outputs": [
    {
     "data": {
      "text/html": [
       "<div>\n",
       "<style scoped>\n",
       "    .dataframe tbody tr th:only-of-type {\n",
       "        vertical-align: middle;\n",
       "    }\n",
       "\n",
       "    .dataframe tbody tr th {\n",
       "        vertical-align: top;\n",
       "    }\n",
       "\n",
       "    .dataframe thead th {\n",
       "        text-align: right;\n",
       "    }\n",
       "</style>\n",
       "<table border=\"1\" class=\"dataframe\">\n",
       "  <thead>\n",
       "    <tr style=\"text-align: right;\">\n",
       "      <th></th>\n",
       "      <th>image_list</th>\n",
       "      <th>rgba_list</th>\n",
       "    </tr>\n",
       "  </thead>\n",
       "  <tbody>\n",
       "    <tr>\n",
       "      <th>0</th>\n",
       "      <td>../pictures/wo_background/ec24m/ec24m_2021-01-...</td>\n",
       "      <td>[0, 0, 0, 0, 0, 0, 0, 0, 0, 0, 0, 0, 0, 0, 0, ...</td>\n",
       "    </tr>\n",
       "    <tr>\n",
       "      <th>1</th>\n",
       "      <td>../pictures/wo_background/ec24m/ec24m_2021-11-...</td>\n",
       "      <td>[0, 0, 0, 0, 0, 0, 0, 0, 0, 0, 0, 0, 0, 0, 0, ...</td>\n",
       "    </tr>\n",
       "    <tr>\n",
       "      <th>2</th>\n",
       "      <td>../pictures/wo_background/ec24m/ec24m_2021-03-...</td>\n",
       "      <td>[0, 0, 0, 0, 0, 0, 0, 0, 0, 0, 0, 0, 0, 0, 0, ...</td>\n",
       "    </tr>\n",
       "    <tr>\n",
       "      <th>3</th>\n",
       "      <td>../pictures/wo_background/ec24m/ec24m_2021-06-...</td>\n",
       "      <td>[0, 0, 0, 0, 0, 0, 0, 0, 0, 0, 0, 0, 0, 0, 0, ...</td>\n",
       "    </tr>\n",
       "    <tr>\n",
       "      <th>4</th>\n",
       "      <td>../pictures/wo_background/ec24m/ec24m_2021-02-...</td>\n",
       "      <td>[0, 0, 0, 0, 0, 0, 0, 0, 0, 0, 0, 0, 0, 0, 0, ...</td>\n",
       "    </tr>\n",
       "    <tr>\n",
       "      <th>...</th>\n",
       "      <td>...</td>\n",
       "      <td>...</td>\n",
       "    </tr>\n",
       "    <tr>\n",
       "      <th>195</th>\n",
       "      <td>../pictures/wo_background/ec24m/ec24m_2021-12-...</td>\n",
       "      <td>[0, 0, 0, 0, 0, 0, 0, 0, 0, 0, 0, 0, 0, 0, 0, ...</td>\n",
       "    </tr>\n",
       "    <tr>\n",
       "      <th>196</th>\n",
       "      <td>../pictures/wo_background/ec24m/ec24m_2021-11-...</td>\n",
       "      <td>[0, 0, 0, 0, 0, 0, 0, 0, 0, 0, 0, 0, 0, 0, 0, ...</td>\n",
       "    </tr>\n",
       "    <tr>\n",
       "      <th>197</th>\n",
       "      <td>../pictures/wo_background/ec24m/ec24m_2021-08-...</td>\n",
       "      <td>[0, 0, 0, 0, 0, 0, 0, 0, 0, 0, 0, 0, 0, 0, 0, ...</td>\n",
       "    </tr>\n",
       "    <tr>\n",
       "      <th>198</th>\n",
       "      <td>../pictures/wo_background/ec24m/ec24m_2021-09-...</td>\n",
       "      <td>[0, 0, 0, 0, 0, 0, 0, 0, 0, 0, 0, 0, 0, 0, 0, ...</td>\n",
       "    </tr>\n",
       "    <tr>\n",
       "      <th>199</th>\n",
       "      <td>../pictures/wo_background/ec24m/ec24m_2021-08-...</td>\n",
       "      <td>[0, 0, 0, 0, 0, 0, 0, 0, 0, 0, 0, 0, 0, 0, 0, ...</td>\n",
       "    </tr>\n",
       "  </tbody>\n",
       "</table>\n",
       "<p>200 rows × 2 columns</p>\n",
       "</div>"
      ],
      "text/plain": [
       "                                            image_list  \\\n",
       "0    ../pictures/wo_background/ec24m/ec24m_2021-01-...   \n",
       "1    ../pictures/wo_background/ec24m/ec24m_2021-11-...   \n",
       "2    ../pictures/wo_background/ec24m/ec24m_2021-03-...   \n",
       "3    ../pictures/wo_background/ec24m/ec24m_2021-06-...   \n",
       "4    ../pictures/wo_background/ec24m/ec24m_2021-02-...   \n",
       "..                                                 ...   \n",
       "195  ../pictures/wo_background/ec24m/ec24m_2021-12-...   \n",
       "196  ../pictures/wo_background/ec24m/ec24m_2021-11-...   \n",
       "197  ../pictures/wo_background/ec24m/ec24m_2021-08-...   \n",
       "198  ../pictures/wo_background/ec24m/ec24m_2021-09-...   \n",
       "199  ../pictures/wo_background/ec24m/ec24m_2021-08-...   \n",
       "\n",
       "                                             rgba_list  \n",
       "0    [0, 0, 0, 0, 0, 0, 0, 0, 0, 0, 0, 0, 0, 0, 0, ...  \n",
       "1    [0, 0, 0, 0, 0, 0, 0, 0, 0, 0, 0, 0, 0, 0, 0, ...  \n",
       "2    [0, 0, 0, 0, 0, 0, 0, 0, 0, 0, 0, 0, 0, 0, 0, ...  \n",
       "3    [0, 0, 0, 0, 0, 0, 0, 0, 0, 0, 0, 0, 0, 0, 0, ...  \n",
       "4    [0, 0, 0, 0, 0, 0, 0, 0, 0, 0, 0, 0, 0, 0, 0, ...  \n",
       "..                                                 ...  \n",
       "195  [0, 0, 0, 0, 0, 0, 0, 0, 0, 0, 0, 0, 0, 0, 0, ...  \n",
       "196  [0, 0, 0, 0, 0, 0, 0, 0, 0, 0, 0, 0, 0, 0, 0, ...  \n",
       "197  [0, 0, 0, 0, 0, 0, 0, 0, 0, 0, 0, 0, 0, 0, 0, ...  \n",
       "198  [0, 0, 0, 0, 0, 0, 0, 0, 0, 0, 0, 0, 0, 0, 0, ...  \n",
       "199  [0, 0, 0, 0, 0, 0, 0, 0, 0, 0, 0, 0, 0, 0, 0, ...  \n",
       "\n",
       "[200 rows x 2 columns]"
      ]
     },
     "execution_count": 3,
     "metadata": {},
     "output_type": "execute_result"
    }
   ],
   "source": [
    "#set instance of dataframe using rgba_0.csv\n",
    "rgba = pd.read_csv('../data/rgba/rgba_0.csv')\n",
    "rgba = rgba.T\n",
    "image_list = list(rgba.index)\n",
    "rgba_array = rgba.to_numpy()\n",
    "\n",
    "rgba_df = pd.DataFrame(zip(image_list, rgba_array), columns = ['image_list', 'rgba_list'])\n",
    "rgba_df"
   ]
  },
  {
   "cell_type": "code",
   "execution_count": 4,
   "id": "1d23de48",
   "metadata": {},
   "outputs": [
    {
     "name": "stdout",
     "output_type": "stream",
     "text": [
      "CPU times: user 32.8 s, sys: 5.04 s, total: 37.8 s\n",
      "Wall time: 38.8 s\n"
     ]
    }
   ],
   "source": [
    "%%time\n",
    "#loop through all 33 csvs to form complete dataframe of rgba for all 6000+ photos\n",
    "for n in range(34):\n",
    "    rgba = pd.read_csv('../data/rgba/rgba_'+str(n)+'.csv')\n",
    "    rgba = rgba.T\n",
    "    image_path = list(rgba.index)\n",
    "    rgba_array = rgba.to_numpy()\n",
    "    df = pd.DataFrame(zip(image_path, rgba_array), columns = ['image_list', 'rgba_list'])\n",
    "    rgba_df = pd.concat([rgba_df,df])"
   ]
  },
  {
   "cell_type": "code",
   "execution_count": 5,
   "id": "3e41b45b",
   "metadata": {},
   "outputs": [
    {
     "data": {
      "text/html": [
       "<div>\n",
       "<style scoped>\n",
       "    .dataframe tbody tr th:only-of-type {\n",
       "        vertical-align: middle;\n",
       "    }\n",
       "\n",
       "    .dataframe tbody tr th {\n",
       "        vertical-align: top;\n",
       "    }\n",
       "\n",
       "    .dataframe thead th {\n",
       "        text-align: right;\n",
       "    }\n",
       "</style>\n",
       "<table border=\"1\" class=\"dataframe\">\n",
       "  <thead>\n",
       "    <tr style=\"text-align: right;\">\n",
       "      <th></th>\n",
       "      <th>image_list</th>\n",
       "      <th>rgba_list</th>\n",
       "    </tr>\n",
       "  </thead>\n",
       "  <tbody>\n",
       "    <tr>\n",
       "      <th>0</th>\n",
       "      <td>../pictures/wo_background/ec24m/ec24m_2021-01-...</td>\n",
       "      <td>[0, 0, 0, 0, 0, 0, 0, 0, 0, 0, 0, 0, 0, 0, 0, ...</td>\n",
       "    </tr>\n",
       "    <tr>\n",
       "      <th>1</th>\n",
       "      <td>../pictures/wo_background/ec24m/ec24m_2021-11-...</td>\n",
       "      <td>[0, 0, 0, 0, 0, 0, 0, 0, 0, 0, 0, 0, 0, 0, 0, ...</td>\n",
       "    </tr>\n",
       "    <tr>\n",
       "      <th>2</th>\n",
       "      <td>../pictures/wo_background/ec24m/ec24m_2021-03-...</td>\n",
       "      <td>[0, 0, 0, 0, 0, 0, 0, 0, 0, 0, 0, 0, 0, 0, 0, ...</td>\n",
       "    </tr>\n",
       "    <tr>\n",
       "      <th>3</th>\n",
       "      <td>../pictures/wo_background/ec24m/ec24m_2021-06-...</td>\n",
       "      <td>[0, 0, 0, 0, 0, 0, 0, 0, 0, 0, 0, 0, 0, 0, 0, ...</td>\n",
       "    </tr>\n",
       "    <tr>\n",
       "      <th>4</th>\n",
       "      <td>../pictures/wo_background/ec24m/ec24m_2021-02-...</td>\n",
       "      <td>[0, 0, 0, 0, 0, 0, 0, 0, 0, 0, 0, 0, 0, 0, 0, ...</td>\n",
       "    </tr>\n",
       "    <tr>\n",
       "      <th>...</th>\n",
       "      <td>...</td>\n",
       "      <td>...</td>\n",
       "    </tr>\n",
       "    <tr>\n",
       "      <th>6834</th>\n",
       "      <td>../pictures/wo_background/xinlinnn/xinlinnn_20...</td>\n",
       "      <td>[0, 0, 0, 0, 0, 0, 0, 0, 0, 0, 0, 0, 0, 0, 0, ...</td>\n",
       "    </tr>\n",
       "    <tr>\n",
       "      <th>6835</th>\n",
       "      <td>../pictures/wo_background/xinlinnn/xinlinnn_20...</td>\n",
       "      <td>[0, 0, 0, 0, 0, 0, 0, 0, 0, 0, 0, 0, 0, 0, 0, ...</td>\n",
       "    </tr>\n",
       "    <tr>\n",
       "      <th>6836</th>\n",
       "      <td>../pictures/wo_background/xinlinnn/xinlinnn_20...</td>\n",
       "      <td>[0, 0, 0, 0, 0, 0, 0, 0, 0, 0, 0, 0, 0, 0, 0, ...</td>\n",
       "    </tr>\n",
       "    <tr>\n",
       "      <th>6837</th>\n",
       "      <td>../pictures/wo_background/xinlinnn/xinlinnn_20...</td>\n",
       "      <td>[0, 0, 0, 0, 0, 0, 0, 0, 0, 0, 0, 0, 0, 0, 0, ...</td>\n",
       "    </tr>\n",
       "    <tr>\n",
       "      <th>6838</th>\n",
       "      <td>../pictures/wo_background/xinlinnn/xinlinnn_20...</td>\n",
       "      <td>[0, 0, 0, 0, 0, 0, 0, 0, 0, 0, 0, 0, 0, 0, 0, ...</td>\n",
       "    </tr>\n",
       "  </tbody>\n",
       "</table>\n",
       "<p>6839 rows × 2 columns</p>\n",
       "</div>"
      ],
      "text/plain": [
       "                                             image_list  \\\n",
       "0     ../pictures/wo_background/ec24m/ec24m_2021-01-...   \n",
       "1     ../pictures/wo_background/ec24m/ec24m_2021-11-...   \n",
       "2     ../pictures/wo_background/ec24m/ec24m_2021-03-...   \n",
       "3     ../pictures/wo_background/ec24m/ec24m_2021-06-...   \n",
       "4     ../pictures/wo_background/ec24m/ec24m_2021-02-...   \n",
       "...                                                 ...   \n",
       "6834  ../pictures/wo_background/xinlinnn/xinlinnn_20...   \n",
       "6835  ../pictures/wo_background/xinlinnn/xinlinnn_20...   \n",
       "6836  ../pictures/wo_background/xinlinnn/xinlinnn_20...   \n",
       "6837  ../pictures/wo_background/xinlinnn/xinlinnn_20...   \n",
       "6838  ../pictures/wo_background/xinlinnn/xinlinnn_20...   \n",
       "\n",
       "                                              rgba_list  \n",
       "0     [0, 0, 0, 0, 0, 0, 0, 0, 0, 0, 0, 0, 0, 0, 0, ...  \n",
       "1     [0, 0, 0, 0, 0, 0, 0, 0, 0, 0, 0, 0, 0, 0, 0, ...  \n",
       "2     [0, 0, 0, 0, 0, 0, 0, 0, 0, 0, 0, 0, 0, 0, 0, ...  \n",
       "3     [0, 0, 0, 0, 0, 0, 0, 0, 0, 0, 0, 0, 0, 0, 0, ...  \n",
       "4     [0, 0, 0, 0, 0, 0, 0, 0, 0, 0, 0, 0, 0, 0, 0, ...  \n",
       "...                                                 ...  \n",
       "6834  [0, 0, 0, 0, 0, 0, 0, 0, 0, 0, 0, 0, 0, 0, 0, ...  \n",
       "6835  [0, 0, 0, 0, 0, 0, 0, 0, 0, 0, 0, 0, 0, 0, 0, ...  \n",
       "6836  [0, 0, 0, 0, 0, 0, 0, 0, 0, 0, 0, 0, 0, 0, 0, ...  \n",
       "6837  [0, 0, 0, 0, 0, 0, 0, 0, 0, 0, 0, 0, 0, 0, 0, ...  \n",
       "6838  [0, 0, 0, 0, 0, 0, 0, 0, 0, 0, 0, 0, 0, 0, 0, ...  \n",
       "\n",
       "[6839 rows x 2 columns]"
      ]
     },
     "execution_count": 5,
     "metadata": {},
     "output_type": "execute_result"
    }
   ],
   "source": [
    "#reset index of rgba_df\n",
    "rgba_df.reset_index(drop=True, inplace = True)\n",
    "rgba_df"
   ]
  },
  {
   "cell_type": "markdown",
   "id": "5254d051",
   "metadata": {},
   "source": [
    "# 3. Add columns of information to rgba_df"
   ]
  },
  {
   "cell_type": "code",
   "execution_count": 6,
   "id": "ec8e622b",
   "metadata": {},
   "outputs": [],
   "source": [
    "#information such as instagram handle, date of post, and sequence were lost in the rgba csv\n",
    "#hence need to add these back into the datafram\n",
    "\n",
    "image_list = rgba_df['image_list']\n",
    "instagram_handle = []\n",
    "date_post = []\n",
    "seq_post_samedate = []\n",
    "\n",
    "for image in image_list:\n",
    "    handle = re.search('wo_background/(.*)/', image).group(1)\n",
    "    instagram_handle.append(handle)\n",
    "    date_post.append(image[-16:-6])\n",
    "    seq_post_samedate.append(image[-5:-4])"
   ]
  },
  {
   "cell_type": "code",
   "execution_count": 7,
   "id": "03881e5d",
   "metadata": {},
   "outputs": [],
   "source": [
    "rgba_df['instagram_handle'] = instagram_handle\n",
    "rgba_df['date_post'] = date_post\n",
    "rgba_df['seq_post_samedate'] = seq_post_samedate"
   ]
  },
  {
   "cell_type": "code",
   "execution_count": 8,
   "id": "2bec3ee1",
   "metadata": {},
   "outputs": [
    {
     "data": {
      "text/plain": [
       "(6837, 5)"
      ]
     },
     "execution_count": 8,
     "metadata": {},
     "output_type": "execute_result"
    }
   ],
   "source": [
    "#delete corrupted posts that contains .DS\n",
    "rgba_df = rgba_df[~rgba_df.date_post.str.contains('.DS')]\n",
    "rgba_df.shape"
   ]
  },
  {
   "cell_type": "code",
   "execution_count": 9,
   "id": "53df1cc5",
   "metadata": {},
   "outputs": [
    {
     "name": "stderr",
     "output_type": "stream",
     "text": [
      "<ipython-input-9-706bc5aae8c8>:1: SettingWithCopyWarning: \n",
      "A value is trying to be set on a copy of a slice from a DataFrame.\n",
      "Try using .loc[row_indexer,col_indexer] = value instead\n",
      "\n",
      "See the caveats in the documentation: https://pandas.pydata.org/pandas-docs/stable/user_guide/indexing.html#returning-a-view-versus-a-copy\n",
      "  rgba_df['seq_post_samedate'] = rgba_df['seq_post_samedate']\\\n"
     ]
    },
    {
     "data": {
      "text/plain": [
       "1     1933\n",
       "0     1805\n",
       "2     1680\n",
       "3      777\n",
       "4      320\n",
       "5      125\n",
       "6       78\n",
       "7       43\n",
       "8       34\n",
       "9       30\n",
       "10      12\n",
       "Name: seq_post_samedate, dtype: int64"
      ]
     },
     "execution_count": 9,
     "metadata": {},
     "output_type": "execute_result"
    }
   ],
   "source": [
    "rgba_df['seq_post_samedate'] = rgba_df['seq_post_samedate']\\\n",
    ".map({'C':'0','c':'0','0':'10','1':'1','2':'2','3':'3','4':'4','5':'5','6':'6','7':'7','8':'8','9':'9'})\n",
    "rgba_df['seq_post_samedate'].value_counts()"
   ]
  },
  {
   "cell_type": "code",
   "execution_count": 10,
   "id": "275721eb",
   "metadata": {},
   "outputs": [
    {
     "name": "stderr",
     "output_type": "stream",
     "text": [
      "<ipython-input-10-8bfad6c914ef>:1: SettingWithCopyWarning: \n",
      "A value is trying to be set on a copy of a slice from a DataFrame.\n",
      "Try using .loc[row_indexer,col_indexer] = value instead\n",
      "\n",
      "See the caveats in the documentation: https://pandas.pydata.org/pandas-docs/stable/user_guide/indexing.html#returning-a-view-versus-a-copy\n",
      "  rgba_df['date_post'] = pd.to_datetime(rgba_df['date_post'])\n",
      "<ipython-input-10-8bfad6c914ef>:2: SettingWithCopyWarning: \n",
      "A value is trying to be set on a copy of a slice from a DataFrame.\n",
      "Try using .loc[row_indexer,col_indexer] = value instead\n",
      "\n",
      "See the caveats in the documentation: https://pandas.pydata.org/pandas-docs/stable/user_guide/indexing.html#returning-a-view-versus-a-copy\n",
      "  rgba_df['seq_post_samedate'] = rgba_df['seq_post_samedate'].astype(str).astype(int)\n"
     ]
    }
   ],
   "source": [
    "rgba_df['date_post'] = pd.to_datetime(rgba_df['date_post'])\n",
    "rgba_df['seq_post_samedate'] = rgba_df['seq_post_samedate'].astype(str).astype(int)"
   ]
  },
  {
   "cell_type": "code",
   "execution_count": 11,
   "id": "d9b33ebc",
   "metadata": {},
   "outputs": [],
   "source": [
    "#extract month\n",
    "def month_extract(x):\n",
    "    month = x.month\n",
    "    return month"
   ]
  },
  {
   "cell_type": "code",
   "execution_count": 12,
   "id": "a96518e0",
   "metadata": {},
   "outputs": [
    {
     "name": "stderr",
     "output_type": "stream",
     "text": [
      "<ipython-input-12-8aca52a00c05>:1: SettingWithCopyWarning: \n",
      "A value is trying to be set on a copy of a slice from a DataFrame.\n",
      "Try using .loc[row_indexer,col_indexer] = value instead\n",
      "\n",
      "See the caveats in the documentation: https://pandas.pydata.org/pandas-docs/stable/user_guide/indexing.html#returning-a-view-versus-a-copy\n",
      "  rgba_df['month'] = rgba_df['date_post'].apply(month_extract)\n"
     ]
    },
    {
     "data": {
      "text/html": [
       "<div>\n",
       "<style scoped>\n",
       "    .dataframe tbody tr th:only-of-type {\n",
       "        vertical-align: middle;\n",
       "    }\n",
       "\n",
       "    .dataframe tbody tr th {\n",
       "        vertical-align: top;\n",
       "    }\n",
       "\n",
       "    .dataframe thead th {\n",
       "        text-align: right;\n",
       "    }\n",
       "</style>\n",
       "<table border=\"1\" class=\"dataframe\">\n",
       "  <thead>\n",
       "    <tr style=\"text-align: right;\">\n",
       "      <th></th>\n",
       "      <th>image_list</th>\n",
       "      <th>rgba_list</th>\n",
       "      <th>instagram_handle</th>\n",
       "      <th>date_post</th>\n",
       "      <th>seq_post_samedate</th>\n",
       "      <th>month</th>\n",
       "    </tr>\n",
       "  </thead>\n",
       "  <tbody>\n",
       "    <tr>\n",
       "      <th>0</th>\n",
       "      <td>../pictures/wo_background/ec24m/ec24m_2021-01-...</td>\n",
       "      <td>[0, 0, 0, 0, 0, 0, 0, 0, 0, 0, 0, 0, 0, 0, 0, ...</td>\n",
       "      <td>ec24m</td>\n",
       "      <td>2021-01-31</td>\n",
       "      <td>0</td>\n",
       "      <td>1</td>\n",
       "    </tr>\n",
       "    <tr>\n",
       "      <th>1</th>\n",
       "      <td>../pictures/wo_background/ec24m/ec24m_2021-11-...</td>\n",
       "      <td>[0, 0, 0, 0, 0, 0, 0, 0, 0, 0, 0, 0, 0, 0, 0, ...</td>\n",
       "      <td>ec24m</td>\n",
       "      <td>2021-11-09</td>\n",
       "      <td>2</td>\n",
       "      <td>11</td>\n",
       "    </tr>\n",
       "    <tr>\n",
       "      <th>2</th>\n",
       "      <td>../pictures/wo_background/ec24m/ec24m_2021-03-...</td>\n",
       "      <td>[0, 0, 0, 0, 0, 0, 0, 0, 0, 0, 0, 0, 0, 0, 0, ...</td>\n",
       "      <td>ec24m</td>\n",
       "      <td>2021-03-03</td>\n",
       "      <td>0</td>\n",
       "      <td>3</td>\n",
       "    </tr>\n",
       "    <tr>\n",
       "      <th>3</th>\n",
       "      <td>../pictures/wo_background/ec24m/ec24m_2021-06-...</td>\n",
       "      <td>[0, 0, 0, 0, 0, 0, 0, 0, 0, 0, 0, 0, 0, 0, 0, ...</td>\n",
       "      <td>ec24m</td>\n",
       "      <td>2021-06-29</td>\n",
       "      <td>1</td>\n",
       "      <td>6</td>\n",
       "    </tr>\n",
       "    <tr>\n",
       "      <th>4</th>\n",
       "      <td>../pictures/wo_background/ec24m/ec24m_2021-02-...</td>\n",
       "      <td>[0, 0, 0, 0, 0, 0, 0, 0, 0, 0, 0, 0, 0, 0, 0, ...</td>\n",
       "      <td>ec24m</td>\n",
       "      <td>2021-02-03</td>\n",
       "      <td>0</td>\n",
       "      <td>2</td>\n",
       "    </tr>\n",
       "    <tr>\n",
       "      <th>...</th>\n",
       "      <td>...</td>\n",
       "      <td>...</td>\n",
       "      <td>...</td>\n",
       "      <td>...</td>\n",
       "      <td>...</td>\n",
       "      <td>...</td>\n",
       "    </tr>\n",
       "    <tr>\n",
       "      <th>6834</th>\n",
       "      <td>../pictures/wo_background/xinlinnn/xinlinnn_20...</td>\n",
       "      <td>[0, 0, 0, 0, 0, 0, 0, 0, 0, 0, 0, 0, 0, 0, 0, ...</td>\n",
       "      <td>xinlinnn</td>\n",
       "      <td>2021-01-15</td>\n",
       "      <td>4</td>\n",
       "      <td>1</td>\n",
       "    </tr>\n",
       "    <tr>\n",
       "      <th>6835</th>\n",
       "      <td>../pictures/wo_background/xinlinnn/xinlinnn_20...</td>\n",
       "      <td>[0, 0, 0, 0, 0, 0, 0, 0, 0, 0, 0, 0, 0, 0, 0, ...</td>\n",
       "      <td>xinlinnn</td>\n",
       "      <td>2021-03-03</td>\n",
       "      <td>0</td>\n",
       "      <td>3</td>\n",
       "    </tr>\n",
       "    <tr>\n",
       "      <th>6836</th>\n",
       "      <td>../pictures/wo_background/xinlinnn/xinlinnn_20...</td>\n",
       "      <td>[0, 0, 0, 0, 0, 0, 0, 0, 0, 0, 0, 0, 0, 0, 0, ...</td>\n",
       "      <td>xinlinnn</td>\n",
       "      <td>2021-02-03</td>\n",
       "      <td>0</td>\n",
       "      <td>2</td>\n",
       "    </tr>\n",
       "    <tr>\n",
       "      <th>6837</th>\n",
       "      <td>../pictures/wo_background/xinlinnn/xinlinnn_20...</td>\n",
       "      <td>[0, 0, 0, 0, 0, 0, 0, 0, 0, 0, 0, 0, 0, 0, 0, ...</td>\n",
       "      <td>xinlinnn</td>\n",
       "      <td>2021-08-18</td>\n",
       "      <td>0</td>\n",
       "      <td>8</td>\n",
       "    </tr>\n",
       "    <tr>\n",
       "      <th>6838</th>\n",
       "      <td>../pictures/wo_background/xinlinnn/xinlinnn_20...</td>\n",
       "      <td>[0, 0, 0, 0, 0, 0, 0, 0, 0, 0, 0, 0, 0, 0, 0, ...</td>\n",
       "      <td>xinlinnn</td>\n",
       "      <td>2021-01-31</td>\n",
       "      <td>0</td>\n",
       "      <td>1</td>\n",
       "    </tr>\n",
       "  </tbody>\n",
       "</table>\n",
       "<p>6837 rows × 6 columns</p>\n",
       "</div>"
      ],
      "text/plain": [
       "                                             image_list  \\\n",
       "0     ../pictures/wo_background/ec24m/ec24m_2021-01-...   \n",
       "1     ../pictures/wo_background/ec24m/ec24m_2021-11-...   \n",
       "2     ../pictures/wo_background/ec24m/ec24m_2021-03-...   \n",
       "3     ../pictures/wo_background/ec24m/ec24m_2021-06-...   \n",
       "4     ../pictures/wo_background/ec24m/ec24m_2021-02-...   \n",
       "...                                                 ...   \n",
       "6834  ../pictures/wo_background/xinlinnn/xinlinnn_20...   \n",
       "6835  ../pictures/wo_background/xinlinnn/xinlinnn_20...   \n",
       "6836  ../pictures/wo_background/xinlinnn/xinlinnn_20...   \n",
       "6837  ../pictures/wo_background/xinlinnn/xinlinnn_20...   \n",
       "6838  ../pictures/wo_background/xinlinnn/xinlinnn_20...   \n",
       "\n",
       "                                              rgba_list instagram_handle  \\\n",
       "0     [0, 0, 0, 0, 0, 0, 0, 0, 0, 0, 0, 0, 0, 0, 0, ...            ec24m   \n",
       "1     [0, 0, 0, 0, 0, 0, 0, 0, 0, 0, 0, 0, 0, 0, 0, ...            ec24m   \n",
       "2     [0, 0, 0, 0, 0, 0, 0, 0, 0, 0, 0, 0, 0, 0, 0, ...            ec24m   \n",
       "3     [0, 0, 0, 0, 0, 0, 0, 0, 0, 0, 0, 0, 0, 0, 0, ...            ec24m   \n",
       "4     [0, 0, 0, 0, 0, 0, 0, 0, 0, 0, 0, 0, 0, 0, 0, ...            ec24m   \n",
       "...                                                 ...              ...   \n",
       "6834  [0, 0, 0, 0, 0, 0, 0, 0, 0, 0, 0, 0, 0, 0, 0, ...         xinlinnn   \n",
       "6835  [0, 0, 0, 0, 0, 0, 0, 0, 0, 0, 0, 0, 0, 0, 0, ...         xinlinnn   \n",
       "6836  [0, 0, 0, 0, 0, 0, 0, 0, 0, 0, 0, 0, 0, 0, 0, ...         xinlinnn   \n",
       "6837  [0, 0, 0, 0, 0, 0, 0, 0, 0, 0, 0, 0, 0, 0, 0, ...         xinlinnn   \n",
       "6838  [0, 0, 0, 0, 0, 0, 0, 0, 0, 0, 0, 0, 0, 0, 0, ...         xinlinnn   \n",
       "\n",
       "      date_post  seq_post_samedate  month  \n",
       "0    2021-01-31                  0      1  \n",
       "1    2021-11-09                  2     11  \n",
       "2    2021-03-03                  0      3  \n",
       "3    2021-06-29                  1      6  \n",
       "4    2021-02-03                  0      2  \n",
       "...         ...                ...    ...  \n",
       "6834 2021-01-15                  4      1  \n",
       "6835 2021-03-03                  0      3  \n",
       "6836 2021-02-03                  0      2  \n",
       "6837 2021-08-18                  0      8  \n",
       "6838 2021-01-31                  0      1  \n",
       "\n",
       "[6837 rows x 6 columns]"
      ]
     },
     "execution_count": 12,
     "metadata": {},
     "output_type": "execute_result"
    }
   ],
   "source": [
    "rgba_df['month'] = rgba_df['date_post'].apply(month_extract)\n",
    "rgba_df"
   ]
  },
  {
   "cell_type": "markdown",
   "id": "f6b6f866",
   "metadata": {},
   "source": [
    "# 4. Apply k-means clustering for each photo"
   ]
  },
  {
   "cell_type": "code",
   "execution_count": 12,
   "id": "078c0c05",
   "metadata": {},
   "outputs": [],
   "source": [
    "#function for k-means clustering where k=2\n",
    "#returns the center of the clusters\n",
    "def cluster2(x):\n",
    "    x = x.reshape(-1, 4)\n",
    "    x = np.array([f for f in x if f[3] >200], np.uint8)\n",
    "    clt = KMeans(n_clusters = 2, max_iter=500, random_state=5).fit(x)\n",
    "    centers = clt.cluster_centers_\n",
    "    centers = np.uint8(centers)\n",
    "    centers_ravel = centers.ravel()\n",
    "    return centers_ravel"
   ]
  },
  {
   "cell_type": "code",
   "execution_count": 13,
   "id": "a1770b73",
   "metadata": {},
   "outputs": [],
   "source": [
    "#function for k-means clustering where k=3\n",
    "#returns the center of the clusters\n",
    "def cluster3(x):\n",
    "    x = x.reshape(-1, 4)\n",
    "    x = np.array([f for f in x if f[3] >200], np.uint8)\n",
    "    clt = KMeans(n_clusters = 3, max_iter=500, random_state=5).fit(x)\n",
    "    centers = clt.cluster_centers_\n",
    "    centers = np.uint8(centers)\n",
    "    centers_ravel = centers.ravel()\n",
    "    return centers_ravel"
   ]
  },
  {
   "cell_type": "code",
   "execution_count": 14,
   "id": "5cdf0cfb",
   "metadata": {},
   "outputs": [],
   "source": [
    "#function for k-means clustering where k=4\n",
    "#returns the center of the clusters\n",
    "def cluster4(x):\n",
    "    x = x.reshape(-1, 4)\n",
    "    x = np.array([f for f in x if f[3] >200], np.uint8)\n",
    "    clt = KMeans(n_clusters = 4, max_iter=500, random_state=5).fit(x)\n",
    "    centers = clt.cluster_centers_\n",
    "    centers = np.uint8(centers)\n",
    "    centers_ravel = centers.ravel()\n",
    "    return centers_ravel"
   ]
  },
  {
   "cell_type": "markdown",
   "id": "fe9c7616",
   "metadata": {},
   "source": [
    "Tried with 5 clusters and some photos could not be processed, an indication that 5 clusters is probably too many for each photo. Just a quick eyeball scan on the photos also reveals that most photos do not have that many color themes going on, hence stopping at 4 clusters seem appropriate"
   ]
  },
  {
   "cell_type": "code",
   "execution_count": 16,
   "id": "848c6352",
   "metadata": {},
   "outputs": [
    {
     "name": "stdout",
     "output_type": "stream",
     "text": [
      "CPU times: user 33min 4s, sys: 9min 4s, total: 42min 9s\n",
      "Wall time: 7min\n"
     ]
    },
    {
     "name": "stderr",
     "output_type": "stream",
     "text": [
      "<timed exec>:1: SettingWithCopyWarning: \n",
      "A value is trying to be set on a copy of a slice from a DataFrame.\n",
      "Try using .loc[row_indexer,col_indexer] = value instead\n",
      "\n",
      "See the caveats in the documentation: https://pandas.pydata.org/pandas-docs/stable/user_guide/indexing.html#returning-a-view-versus-a-copy\n"
     ]
    }
   ],
   "source": [
    "%%time\n",
    "#creating a column to house the centers of the 2 clusters\n",
    "rgba_df['rgba_centers_2'] = rgba_df['rgba_list'].apply(cluster2)"
   ]
  },
  {
   "cell_type": "code",
   "execution_count": 17,
   "id": "f76f905b",
   "metadata": {},
   "outputs": [
    {
     "name": "stdout",
     "output_type": "stream",
     "text": [
      "CPU times: user 50min 17s, sys: 13min 34s, total: 1h 3min 52s\n",
      "Wall time: 10min 25s\n"
     ]
    },
    {
     "name": "stderr",
     "output_type": "stream",
     "text": [
      "<timed exec>:1: SettingWithCopyWarning: \n",
      "A value is trying to be set on a copy of a slice from a DataFrame.\n",
      "Try using .loc[row_indexer,col_indexer] = value instead\n",
      "\n",
      "See the caveats in the documentation: https://pandas.pydata.org/pandas-docs/stable/user_guide/indexing.html#returning-a-view-versus-a-copy\n"
     ]
    }
   ],
   "source": [
    "%%time\n",
    "#creating a column to house the centers of the 3 clusters\n",
    "rgba_df['rgba_centers_3'] = rgba_df['rgba_list'].apply(cluster3)"
   ]
  },
  {
   "cell_type": "code",
   "execution_count": 18,
   "id": "d3524df1",
   "metadata": {},
   "outputs": [
    {
     "name": "stdout",
     "output_type": "stream",
     "text": [
      "CPU times: user 1h 7min 25s, sys: 18min 6s, total: 1h 25min 32s\n",
      "Wall time: 13min 51s\n"
     ]
    },
    {
     "name": "stderr",
     "output_type": "stream",
     "text": [
      "<timed exec>:1: SettingWithCopyWarning: \n",
      "A value is trying to be set on a copy of a slice from a DataFrame.\n",
      "Try using .loc[row_indexer,col_indexer] = value instead\n",
      "\n",
      "See the caveats in the documentation: https://pandas.pydata.org/pandas-docs/stable/user_guide/indexing.html#returning-a-view-versus-a-copy\n"
     ]
    }
   ],
   "source": [
    "%%time\n",
    "#creating a column to house the centers of the 4 clusters\n",
    "rgba_df['rgba_centers_4'] = rgba_df['rgba_list'].apply(cluster4)"
   ]
  },
  {
   "cell_type": "code",
   "execution_count": 23,
   "id": "1c2622c3",
   "metadata": {},
   "outputs": [
    {
     "data": {
      "text/html": [
       "<div>\n",
       "<style scoped>\n",
       "    .dataframe tbody tr th:only-of-type {\n",
       "        vertical-align: middle;\n",
       "    }\n",
       "\n",
       "    .dataframe tbody tr th {\n",
       "        vertical-align: top;\n",
       "    }\n",
       "\n",
       "    .dataframe thead th {\n",
       "        text-align: right;\n",
       "    }\n",
       "</style>\n",
       "<table border=\"1\" class=\"dataframe\">\n",
       "  <thead>\n",
       "    <tr style=\"text-align: right;\">\n",
       "      <th></th>\n",
       "      <th>image_list</th>\n",
       "      <th>rgba_list</th>\n",
       "      <th>instagram_handle</th>\n",
       "      <th>date_post</th>\n",
       "      <th>seq_post_samedate</th>\n",
       "      <th>month</th>\n",
       "      <th>rgba_centers_2</th>\n",
       "      <th>rgba_centers_3</th>\n",
       "      <th>rgba_centers_4</th>\n",
       "    </tr>\n",
       "  </thead>\n",
       "  <tbody>\n",
       "    <tr>\n",
       "      <th>0</th>\n",
       "      <td>../pictures/wo_background/ec24m/ec24m_2021-01-...</td>\n",
       "      <td>[0, 0, 0, 0, 0, 0, 0, 0, 0, 0, 0, 0, 0, 0, 0, ...</td>\n",
       "      <td>ec24m</td>\n",
       "      <td>2021-01-31</td>\n",
       "      <td>0</td>\n",
       "      <td>1</td>\n",
       "      <td>[152, 96, 96, 252, 193, 153, 158, 253]</td>\n",
       "      <td>[124, 75, 73, 250, 174, 119, 122, 253, 198, 16...</td>\n",
       "      <td>[164, 99, 99, 253, 179, 133, 138, 253, 102, 64...</td>\n",
       "    </tr>\n",
       "    <tr>\n",
       "      <th>1</th>\n",
       "      <td>../pictures/wo_background/ec24m/ec24m_2021-11-...</td>\n",
       "      <td>[0, 0, 0, 0, 0, 0, 0, 0, 0, 0, 0, 0, 0, 0, 0, ...</td>\n",
       "      <td>ec24m</td>\n",
       "      <td>2021-11-09</td>\n",
       "      <td>2</td>\n",
       "      <td>11</td>\n",
       "      <td>[145, 132, 123, 253, 50, 48, 51, 251]</td>\n",
       "      <td>[152, 138, 129, 253, 45, 45, 48, 251, 115, 100...</td>\n",
       "      <td>[154, 141, 132, 253, 44, 44, 48, 251, 103, 89,...</td>\n",
       "    </tr>\n",
       "    <tr>\n",
       "      <th>2</th>\n",
       "      <td>../pictures/wo_background/ec24m/ec24m_2021-03-...</td>\n",
       "      <td>[0, 0, 0, 0, 0, 0, 0, 0, 0, 0, 0, 0, 0, 0, 0, ...</td>\n",
       "      <td>ec24m</td>\n",
       "      <td>2021-03-03</td>\n",
       "      <td>0</td>\n",
       "      <td>3</td>\n",
       "      <td>[223, 208, 191, 253, 91, 72, 68, 253]</td>\n",
       "      <td>[75, 57, 58, 253, 193, 167, 141, 252, 238, 233...</td>\n",
       "      <td>[240, 237, 229, 253, 127, 108, 102, 253, 55, 3...</td>\n",
       "    </tr>\n",
       "    <tr>\n",
       "      <th>3</th>\n",
       "      <td>../pictures/wo_background/ec24m/ec24m_2021-06-...</td>\n",
       "      <td>[0, 0, 0, 0, 0, 0, 0, 0, 0, 0, 0, 0, 0, 0, 0, ...</td>\n",
       "      <td>ec24m</td>\n",
       "      <td>2021-06-29</td>\n",
       "      <td>1</td>\n",
       "      <td>6</td>\n",
       "      <td>[184, 84, 61, 253, 64, 25, 20, 253]</td>\n",
       "      <td>[61, 25, 20, 253, 210, 51, 22, 252, 156, 114, ...</td>\n",
       "      <td>[38, 22, 19, 253, 219, 56, 23, 252, 159, 118, ...</td>\n",
       "    </tr>\n",
       "    <tr>\n",
       "      <th>4</th>\n",
       "      <td>../pictures/wo_background/ec24m/ec24m_2021-02-...</td>\n",
       "      <td>[0, 0, 0, 0, 0, 0, 0, 0, 0, 0, 0, 0, 0, 0, 0, ...</td>\n",
       "      <td>ec24m</td>\n",
       "      <td>2021-02-03</td>\n",
       "      <td>0</td>\n",
       "      <td>2</td>\n",
       "      <td>[133, 56, 51, 250, 208, 172, 150, 251]</td>\n",
       "      <td>[67, 44, 42, 249, 208, 179, 161, 251, 194, 86,...</td>\n",
       "      <td>[203, 46, 48, 252, 214, 188, 172, 252, 186, 13...</td>\n",
       "    </tr>\n",
       "  </tbody>\n",
       "</table>\n",
       "</div>"
      ],
      "text/plain": [
       "                                          image_list  \\\n",
       "0  ../pictures/wo_background/ec24m/ec24m_2021-01-...   \n",
       "1  ../pictures/wo_background/ec24m/ec24m_2021-11-...   \n",
       "2  ../pictures/wo_background/ec24m/ec24m_2021-03-...   \n",
       "3  ../pictures/wo_background/ec24m/ec24m_2021-06-...   \n",
       "4  ../pictures/wo_background/ec24m/ec24m_2021-02-...   \n",
       "\n",
       "                                           rgba_list instagram_handle  \\\n",
       "0  [0, 0, 0, 0, 0, 0, 0, 0, 0, 0, 0, 0, 0, 0, 0, ...            ec24m   \n",
       "1  [0, 0, 0, 0, 0, 0, 0, 0, 0, 0, 0, 0, 0, 0, 0, ...            ec24m   \n",
       "2  [0, 0, 0, 0, 0, 0, 0, 0, 0, 0, 0, 0, 0, 0, 0, ...            ec24m   \n",
       "3  [0, 0, 0, 0, 0, 0, 0, 0, 0, 0, 0, 0, 0, 0, 0, ...            ec24m   \n",
       "4  [0, 0, 0, 0, 0, 0, 0, 0, 0, 0, 0, 0, 0, 0, 0, ...            ec24m   \n",
       "\n",
       "   date_post  seq_post_samedate  month  \\\n",
       "0 2021-01-31                  0      1   \n",
       "1 2021-11-09                  2     11   \n",
       "2 2021-03-03                  0      3   \n",
       "3 2021-06-29                  1      6   \n",
       "4 2021-02-03                  0      2   \n",
       "\n",
       "                           rgba_centers_2  \\\n",
       "0  [152, 96, 96, 252, 193, 153, 158, 253]   \n",
       "1   [145, 132, 123, 253, 50, 48, 51, 251]   \n",
       "2   [223, 208, 191, 253, 91, 72, 68, 253]   \n",
       "3     [184, 84, 61, 253, 64, 25, 20, 253]   \n",
       "4  [133, 56, 51, 250, 208, 172, 150, 251]   \n",
       "\n",
       "                                      rgba_centers_3  \\\n",
       "0  [124, 75, 73, 250, 174, 119, 122, 253, 198, 16...   \n",
       "1  [152, 138, 129, 253, 45, 45, 48, 251, 115, 100...   \n",
       "2  [75, 57, 58, 253, 193, 167, 141, 252, 238, 233...   \n",
       "3  [61, 25, 20, 253, 210, 51, 22, 252, 156, 114, ...   \n",
       "4  [67, 44, 42, 249, 208, 179, 161, 251, 194, 86,...   \n",
       "\n",
       "                                      rgba_centers_4  \n",
       "0  [164, 99, 99, 253, 179, 133, 138, 253, 102, 64...  \n",
       "1  [154, 141, 132, 253, 44, 44, 48, 251, 103, 89,...  \n",
       "2  [240, 237, 229, 253, 127, 108, 102, 253, 55, 3...  \n",
       "3  [38, 22, 19, 253, 219, 56, 23, 252, 159, 118, ...  \n",
       "4  [203, 46, 48, 252, 214, 188, 172, 252, 186, 13...  "
      ]
     },
     "execution_count": 23,
     "metadata": {},
     "output_type": "execute_result"
    }
   ],
   "source": [
    "#check that the new columns were added to the dataframe and input looks ok\n",
    "rgba_df.head()"
   ]
  },
  {
   "cell_type": "code",
   "execution_count": 59,
   "id": "9c0666f0",
   "metadata": {},
   "outputs": [],
   "source": [
    "#save the dataframe to csv\n",
    "rgba_df.to_csv('../data/cluster_by_photo.csv',index = False)"
   ]
  },
  {
   "cell_type": "code",
   "execution_count": 31,
   "id": "6cc90685",
   "metadata": {},
   "outputs": [],
   "source": [
    "#sample 100 photos to get silhouette scores from\n",
    "#silhouette scores take long to calculate and hence the sampling\n",
    "#to make it fair, I have used 100 random numbers indicating row number in rgba_df\n",
    "random.seed(5)\n",
    "list_sample100 = random.sample(range(len(rgba_df)), 100)"
   ]
  },
  {
   "cell_type": "code",
   "execution_count": 13,
   "id": "882e2516",
   "metadata": {},
   "outputs": [],
   "source": [
    "def cluster2_score(x_array):\n",
    "    x = x_array.reshape(-1, 4)\n",
    "    x = np.array([f for f in x if f[3] !=0], np.uint8)\n",
    "    clt = KMeans(n_clusters = 2, max_iter=500, random_state=5).fit(x)\n",
    "    score = silhouette_score(x, clt.labels_, metric='euclidean')\n",
    "    return score"
   ]
  },
  {
   "cell_type": "code",
   "execution_count": 14,
   "id": "0b3a8a32",
   "metadata": {},
   "outputs": [],
   "source": [
    "def cluster3_score(x_array):\n",
    "    x = x_array.reshape(-1, 4)\n",
    "    x = np.array([f for f in x if f[3] !=0], np.uint8)\n",
    "    clt = KMeans(n_clusters = 3, max_iter=500, random_state=5).fit(x)\n",
    "    score = silhouette_score(x, clt.labels_, metric='euclidean')\n",
    "    return score"
   ]
  },
  {
   "cell_type": "code",
   "execution_count": 51,
   "id": "8de68d4e",
   "metadata": {},
   "outputs": [],
   "source": [
    "def cluster4_score(x_array):\n",
    "    x = x_array.reshape(-1, 4)\n",
    "    x = np.array([f for f in x if f[3] !=0], np.uint8)\n",
    "    clt = KMeans(n_clusters = 4, max_iter=500, random_state=5).fit(x)\n",
    "    score = silhouette_score(x, clt.labels_, metric='euclidean')\n",
    "    return score"
   ]
  },
  {
   "cell_type": "code",
   "execution_count": 43,
   "id": "4815eec3",
   "metadata": {},
   "outputs": [
    {
     "name": "stdout",
     "output_type": "stream",
     "text": [
      "CPU times: user 9min 2s, sys: 4min 45s, total: 13min 48s\n",
      "Wall time: 3min 51s\n"
     ]
    }
   ],
   "source": [
    "%%time\n",
    "cluster2_samplescores = []\n",
    "image_list = []\n",
    "for n in list_sample100:\n",
    "    score = cluster2_score(rgba_df.iloc[n]['rgba_list'])\n",
    "    image_path = rgba_df.iloc[n]['image_list']\n",
    "    cluster2_samplescores.append(score)\n",
    "    image_list.append(image_path)"
   ]
  },
  {
   "cell_type": "code",
   "execution_count": 44,
   "id": "395ad2b6",
   "metadata": {},
   "outputs": [
    {
     "data": {
      "text/plain": [
       "0.6181558797572099"
      ]
     },
     "execution_count": 44,
     "metadata": {},
     "output_type": "execute_result"
    }
   ],
   "source": [
    "statistics.median(cluster2_samplescores)"
   ]
  },
  {
   "cell_type": "code",
   "execution_count": 45,
   "id": "d19211f0",
   "metadata": {},
   "outputs": [
    {
     "data": {
      "text/plain": [
       "0.6209313356957802"
      ]
     },
     "execution_count": 45,
     "metadata": {},
     "output_type": "execute_result"
    }
   ],
   "source": [
    "statistics.mean(cluster2_samplescores)"
   ]
  },
  {
   "cell_type": "code",
   "execution_count": 46,
   "id": "c5a1406f",
   "metadata": {},
   "outputs": [
    {
     "data": {
      "text/html": [
       "<div>\n",
       "<style scoped>\n",
       "    .dataframe tbody tr th:only-of-type {\n",
       "        vertical-align: middle;\n",
       "    }\n",
       "\n",
       "    .dataframe tbody tr th {\n",
       "        vertical-align: top;\n",
       "    }\n",
       "\n",
       "    .dataframe thead th {\n",
       "        text-align: right;\n",
       "    }\n",
       "</style>\n",
       "<table border=\"1\" class=\"dataframe\">\n",
       "  <thead>\n",
       "    <tr style=\"text-align: right;\">\n",
       "      <th></th>\n",
       "      <th>image_list</th>\n",
       "      <th>cluster2_samplescores</th>\n",
       "    </tr>\n",
       "  </thead>\n",
       "  <tbody>\n",
       "    <tr>\n",
       "      <th>0</th>\n",
       "      <td>../pictures/wo_background/mirchelley/mirchelle...</td>\n",
       "      <td>0.538705</td>\n",
       "    </tr>\n",
       "    <tr>\n",
       "      <th>1</th>\n",
       "      <td>../pictures/wo_background/kimlimhl/kimlimhl_20...</td>\n",
       "      <td>0.593360</td>\n",
       "    </tr>\n",
       "    <tr>\n",
       "      <th>2</th>\n",
       "      <td>../pictures/wo_background/ohhowstrange/ohhowst...</td>\n",
       "      <td>0.662018</td>\n",
       "    </tr>\n",
       "    <tr>\n",
       "      <th>3</th>\n",
       "      <td>../pictures/wo_background/mongabong/mongabong_...</td>\n",
       "      <td>0.484139</td>\n",
       "    </tr>\n",
       "    <tr>\n",
       "      <th>4</th>\n",
       "      <td>../pictures/wo_background/xinlinnn/xinlinnn_20...</td>\n",
       "      <td>0.672311</td>\n",
       "    </tr>\n",
       "    <tr>\n",
       "      <th>...</th>\n",
       "      <td>...</td>\n",
       "      <td>...</td>\n",
       "    </tr>\n",
       "    <tr>\n",
       "      <th>95</th>\n",
       "      <td>../pictures/wo_background/ohhowstrange/ohhowst...</td>\n",
       "      <td>0.679931</td>\n",
       "    </tr>\n",
       "    <tr>\n",
       "      <th>96</th>\n",
       "      <td>../pictures/wo_background/mongabong/mongabong_...</td>\n",
       "      <td>0.672868</td>\n",
       "    </tr>\n",
       "    <tr>\n",
       "      <th>97</th>\n",
       "      <td>../pictures/wo_background/aureliang_/aureliang...</td>\n",
       "      <td>0.590585</td>\n",
       "    </tr>\n",
       "    <tr>\n",
       "      <th>98</th>\n",
       "      <td>../pictures/wo_background/ec24m/ec24m_2021-03-...</td>\n",
       "      <td>0.645308</td>\n",
       "    </tr>\n",
       "    <tr>\n",
       "      <th>99</th>\n",
       "      <td>../pictures/wo_background/rchlwngxx/rchlwngxx_...</td>\n",
       "      <td>0.676195</td>\n",
       "    </tr>\n",
       "  </tbody>\n",
       "</table>\n",
       "<p>100 rows × 2 columns</p>\n",
       "</div>"
      ],
      "text/plain": [
       "                                           image_list  cluster2_samplescores\n",
       "0   ../pictures/wo_background/mirchelley/mirchelle...               0.538705\n",
       "1   ../pictures/wo_background/kimlimhl/kimlimhl_20...               0.593360\n",
       "2   ../pictures/wo_background/ohhowstrange/ohhowst...               0.662018\n",
       "3   ../pictures/wo_background/mongabong/mongabong_...               0.484139\n",
       "4   ../pictures/wo_background/xinlinnn/xinlinnn_20...               0.672311\n",
       "..                                                ...                    ...\n",
       "95  ../pictures/wo_background/ohhowstrange/ohhowst...               0.679931\n",
       "96  ../pictures/wo_background/mongabong/mongabong_...               0.672868\n",
       "97  ../pictures/wo_background/aureliang_/aureliang...               0.590585\n",
       "98  ../pictures/wo_background/ec24m/ec24m_2021-03-...               0.645308\n",
       "99  ../pictures/wo_background/rchlwngxx/rchlwngxx_...               0.676195\n",
       "\n",
       "[100 rows x 2 columns]"
      ]
     },
     "execution_count": 46,
     "metadata": {},
     "output_type": "execute_result"
    }
   ],
   "source": [
    "cluster2score_df = pd.DataFrame(zip(image_list, cluster2_samplescores), columns = ['image_list', 'cluster2_samplescores'])\n",
    "cluster2score_df"
   ]
  },
  {
   "cell_type": "code",
   "execution_count": 47,
   "id": "b09dac0e",
   "metadata": {},
   "outputs": [
    {
     "name": "stdout",
     "output_type": "stream",
     "text": [
      "CPU times: user 9min 1s, sys: 4min 37s, total: 13min 38s\n",
      "Wall time: 3min 52s\n"
     ]
    }
   ],
   "source": [
    "%%time\n",
    "cluster3_samplescores = []\n",
    "image_list = []\n",
    "for n in list_sample100:\n",
    "    score = cluster3_score(rgba_df.iloc[n]['rgba_list'])\n",
    "    image_path = rgba_df.iloc[n]['image_list']\n",
    "    cluster3_samplescores.append(score)\n",
    "    image_list.append(image_path)"
   ]
  },
  {
   "cell_type": "code",
   "execution_count": 48,
   "id": "3957d6d0",
   "metadata": {},
   "outputs": [
    {
     "data": {
      "text/plain": [
       "0.6174883036078588"
      ]
     },
     "execution_count": 48,
     "metadata": {},
     "output_type": "execute_result"
    }
   ],
   "source": [
    "statistics.median(cluster3_samplescores)"
   ]
  },
  {
   "cell_type": "code",
   "execution_count": 49,
   "id": "3341633a",
   "metadata": {},
   "outputs": [
    {
     "data": {
      "text/plain": [
       "0.6189258527385727"
      ]
     },
     "execution_count": 49,
     "metadata": {},
     "output_type": "execute_result"
    }
   ],
   "source": [
    "statistics.mean(cluster3_samplescores)"
   ]
  },
  {
   "cell_type": "code",
   "execution_count": 50,
   "id": "5c5e89ad",
   "metadata": {},
   "outputs": [
    {
     "data": {
      "text/html": [
       "<div>\n",
       "<style scoped>\n",
       "    .dataframe tbody tr th:only-of-type {\n",
       "        vertical-align: middle;\n",
       "    }\n",
       "\n",
       "    .dataframe tbody tr th {\n",
       "        vertical-align: top;\n",
       "    }\n",
       "\n",
       "    .dataframe thead th {\n",
       "        text-align: right;\n",
       "    }\n",
       "</style>\n",
       "<table border=\"1\" class=\"dataframe\">\n",
       "  <thead>\n",
       "    <tr style=\"text-align: right;\">\n",
       "      <th></th>\n",
       "      <th>image_list</th>\n",
       "      <th>cluster3_samplescores</th>\n",
       "    </tr>\n",
       "  </thead>\n",
       "  <tbody>\n",
       "    <tr>\n",
       "      <th>0</th>\n",
       "      <td>../pictures/wo_background/mirchelley/mirchelle...</td>\n",
       "      <td>0.573004</td>\n",
       "    </tr>\n",
       "    <tr>\n",
       "      <th>1</th>\n",
       "      <td>../pictures/wo_background/kimlimhl/kimlimhl_20...</td>\n",
       "      <td>0.565264</td>\n",
       "    </tr>\n",
       "    <tr>\n",
       "      <th>2</th>\n",
       "      <td>../pictures/wo_background/ohhowstrange/ohhowst...</td>\n",
       "      <td>0.628560</td>\n",
       "    </tr>\n",
       "    <tr>\n",
       "      <th>3</th>\n",
       "      <td>../pictures/wo_background/mongabong/mongabong_...</td>\n",
       "      <td>0.522076</td>\n",
       "    </tr>\n",
       "    <tr>\n",
       "      <th>4</th>\n",
       "      <td>../pictures/wo_background/xinlinnn/xinlinnn_20...</td>\n",
       "      <td>0.701073</td>\n",
       "    </tr>\n",
       "    <tr>\n",
       "      <th>...</th>\n",
       "      <td>...</td>\n",
       "      <td>...</td>\n",
       "    </tr>\n",
       "    <tr>\n",
       "      <th>95</th>\n",
       "      <td>../pictures/wo_background/ohhowstrange/ohhowst...</td>\n",
       "      <td>0.633929</td>\n",
       "    </tr>\n",
       "    <tr>\n",
       "      <th>96</th>\n",
       "      <td>../pictures/wo_background/mongabong/mongabong_...</td>\n",
       "      <td>0.708039</td>\n",
       "    </tr>\n",
       "    <tr>\n",
       "      <th>97</th>\n",
       "      <td>../pictures/wo_background/aureliang_/aureliang...</td>\n",
       "      <td>0.593973</td>\n",
       "    </tr>\n",
       "    <tr>\n",
       "      <th>98</th>\n",
       "      <td>../pictures/wo_background/ec24m/ec24m_2021-03-...</td>\n",
       "      <td>0.628080</td>\n",
       "    </tr>\n",
       "    <tr>\n",
       "      <th>99</th>\n",
       "      <td>../pictures/wo_background/rchlwngxx/rchlwngxx_...</td>\n",
       "      <td>0.745950</td>\n",
       "    </tr>\n",
       "  </tbody>\n",
       "</table>\n",
       "<p>100 rows × 2 columns</p>\n",
       "</div>"
      ],
      "text/plain": [
       "                                           image_list  cluster3_samplescores\n",
       "0   ../pictures/wo_background/mirchelley/mirchelle...               0.573004\n",
       "1   ../pictures/wo_background/kimlimhl/kimlimhl_20...               0.565264\n",
       "2   ../pictures/wo_background/ohhowstrange/ohhowst...               0.628560\n",
       "3   ../pictures/wo_background/mongabong/mongabong_...               0.522076\n",
       "4   ../pictures/wo_background/xinlinnn/xinlinnn_20...               0.701073\n",
       "..                                                ...                    ...\n",
       "95  ../pictures/wo_background/ohhowstrange/ohhowst...               0.633929\n",
       "96  ../pictures/wo_background/mongabong/mongabong_...               0.708039\n",
       "97  ../pictures/wo_background/aureliang_/aureliang...               0.593973\n",
       "98  ../pictures/wo_background/ec24m/ec24m_2021-03-...               0.628080\n",
       "99  ../pictures/wo_background/rchlwngxx/rchlwngxx_...               0.745950\n",
       "\n",
       "[100 rows x 2 columns]"
      ]
     },
     "execution_count": 50,
     "metadata": {},
     "output_type": "execute_result"
    }
   ],
   "source": [
    "cluster3score_df = pd.DataFrame(zip(image_list, cluster3_samplescores), columns = ['image_list', 'cluster3_samplescores'])\n",
    "cluster3score_df"
   ]
  },
  {
   "cell_type": "code",
   "execution_count": 52,
   "id": "ee061b54",
   "metadata": {},
   "outputs": [
    {
     "name": "stdout",
     "output_type": "stream",
     "text": [
      "CPU times: user 9min 3s, sys: 4min 37s, total: 13min 40s\n",
      "Wall time: 3min 56s\n"
     ]
    }
   ],
   "source": [
    "%%time\n",
    "cluster4_samplescores = []\n",
    "image_list = []\n",
    "for n in list_sample100:\n",
    "    score = cluster4_score(rgba_df.iloc[n]['rgba_list'])\n",
    "    image_path = rgba_df.iloc[n]['image_list']\n",
    "    cluster4_samplescores.append(score)\n",
    "    image_list.append(image_path)"
   ]
  },
  {
   "cell_type": "code",
   "execution_count": 53,
   "id": "873e80be",
   "metadata": {},
   "outputs": [
    {
     "data": {
      "text/plain": [
       "0.5551220634248124"
      ]
     },
     "execution_count": 53,
     "metadata": {},
     "output_type": "execute_result"
    }
   ],
   "source": [
    "statistics.median(cluster4_samplescores)"
   ]
  },
  {
   "cell_type": "code",
   "execution_count": 54,
   "id": "6c2d6795",
   "metadata": {},
   "outputs": [
    {
     "data": {
      "text/plain": [
       "0.5704408248071771"
      ]
     },
     "execution_count": 54,
     "metadata": {},
     "output_type": "execute_result"
    }
   ],
   "source": [
    "statistics.mean(cluster4_samplescores)"
   ]
  },
  {
   "cell_type": "code",
   "execution_count": 55,
   "id": "8da40cf3",
   "metadata": {},
   "outputs": [
    {
     "data": {
      "text/html": [
       "<div>\n",
       "<style scoped>\n",
       "    .dataframe tbody tr th:only-of-type {\n",
       "        vertical-align: middle;\n",
       "    }\n",
       "\n",
       "    .dataframe tbody tr th {\n",
       "        vertical-align: top;\n",
       "    }\n",
       "\n",
       "    .dataframe thead th {\n",
       "        text-align: right;\n",
       "    }\n",
       "</style>\n",
       "<table border=\"1\" class=\"dataframe\">\n",
       "  <thead>\n",
       "    <tr style=\"text-align: right;\">\n",
       "      <th></th>\n",
       "      <th>image_list</th>\n",
       "      <th>cluster4_samplescores</th>\n",
       "    </tr>\n",
       "  </thead>\n",
       "  <tbody>\n",
       "    <tr>\n",
       "      <th>0</th>\n",
       "      <td>../pictures/wo_background/mirchelley/mirchelle...</td>\n",
       "      <td>0.458616</td>\n",
       "    </tr>\n",
       "    <tr>\n",
       "      <th>1</th>\n",
       "      <td>../pictures/wo_background/kimlimhl/kimlimhl_20...</td>\n",
       "      <td>0.558163</td>\n",
       "    </tr>\n",
       "    <tr>\n",
       "      <th>2</th>\n",
       "      <td>../pictures/wo_background/ohhowstrange/ohhowst...</td>\n",
       "      <td>0.527730</td>\n",
       "    </tr>\n",
       "    <tr>\n",
       "      <th>3</th>\n",
       "      <td>../pictures/wo_background/mongabong/mongabong_...</td>\n",
       "      <td>0.513245</td>\n",
       "    </tr>\n",
       "    <tr>\n",
       "      <th>4</th>\n",
       "      <td>../pictures/wo_background/xinlinnn/xinlinnn_20...</td>\n",
       "      <td>0.637278</td>\n",
       "    </tr>\n",
       "    <tr>\n",
       "      <th>...</th>\n",
       "      <td>...</td>\n",
       "      <td>...</td>\n",
       "    </tr>\n",
       "    <tr>\n",
       "      <th>95</th>\n",
       "      <td>../pictures/wo_background/ohhowstrange/ohhowst...</td>\n",
       "      <td>0.615704</td>\n",
       "    </tr>\n",
       "    <tr>\n",
       "      <th>96</th>\n",
       "      <td>../pictures/wo_background/mongabong/mongabong_...</td>\n",
       "      <td>0.636422</td>\n",
       "    </tr>\n",
       "    <tr>\n",
       "      <th>97</th>\n",
       "      <td>../pictures/wo_background/aureliang_/aureliang...</td>\n",
       "      <td>0.523820</td>\n",
       "    </tr>\n",
       "    <tr>\n",
       "      <th>98</th>\n",
       "      <td>../pictures/wo_background/ec24m/ec24m_2021-03-...</td>\n",
       "      <td>0.632259</td>\n",
       "    </tr>\n",
       "    <tr>\n",
       "      <th>99</th>\n",
       "      <td>../pictures/wo_background/rchlwngxx/rchlwngxx_...</td>\n",
       "      <td>0.722076</td>\n",
       "    </tr>\n",
       "  </tbody>\n",
       "</table>\n",
       "<p>100 rows × 2 columns</p>\n",
       "</div>"
      ],
      "text/plain": [
       "                                           image_list  cluster4_samplescores\n",
       "0   ../pictures/wo_background/mirchelley/mirchelle...               0.458616\n",
       "1   ../pictures/wo_background/kimlimhl/kimlimhl_20...               0.558163\n",
       "2   ../pictures/wo_background/ohhowstrange/ohhowst...               0.527730\n",
       "3   ../pictures/wo_background/mongabong/mongabong_...               0.513245\n",
       "4   ../pictures/wo_background/xinlinnn/xinlinnn_20...               0.637278\n",
       "..                                                ...                    ...\n",
       "95  ../pictures/wo_background/ohhowstrange/ohhowst...               0.615704\n",
       "96  ../pictures/wo_background/mongabong/mongabong_...               0.636422\n",
       "97  ../pictures/wo_background/aureliang_/aureliang...               0.523820\n",
       "98  ../pictures/wo_background/ec24m/ec24m_2021-03-...               0.632259\n",
       "99  ../pictures/wo_background/rchlwngxx/rchlwngxx_...               0.722076\n",
       "\n",
       "[100 rows x 2 columns]"
      ]
     },
     "execution_count": 55,
     "metadata": {},
     "output_type": "execute_result"
    }
   ],
   "source": [
    "cluster4score_df = pd.DataFrame(zip(image_list, cluster4_samplescores), columns = ['image_list', 'cluster4_samplescores'])\n",
    "cluster4score_df"
   ]
  },
  {
   "cell_type": "markdown",
   "id": "cadc3ff8",
   "metadata": {},
   "source": [
    "The sample mean and median silhouette scores for 2 & 3 clusters were quite close at around 0.62. The scores dipped to 0.55 (mean) and 0.57 (median) when number of clusters increased to 4-- not that 4 clusters are not appropriate, but we might want to anchor at 3 clusters for our analysis since the silhouette scores peaked there. Additionally, 3 color cluster per photo also seems reasonable as most influencers do not wear too many colors in one photo"
   ]
  },
  {
   "cell_type": "code",
   "execution_count": 56,
   "id": "9a5721c1",
   "metadata": {},
   "outputs": [
    {
     "data": {
      "text/html": [
       "<div>\n",
       "<style scoped>\n",
       "    .dataframe tbody tr th:only-of-type {\n",
       "        vertical-align: middle;\n",
       "    }\n",
       "\n",
       "    .dataframe tbody tr th {\n",
       "        vertical-align: top;\n",
       "    }\n",
       "\n",
       "    .dataframe thead th {\n",
       "        text-align: right;\n",
       "    }\n",
       "</style>\n",
       "<table border=\"1\" class=\"dataframe\">\n",
       "  <thead>\n",
       "    <tr style=\"text-align: right;\">\n",
       "      <th></th>\n",
       "      <th>image_list</th>\n",
       "      <th>cluster2_samplescores</th>\n",
       "      <th>cluster3_samplescores</th>\n",
       "    </tr>\n",
       "  </thead>\n",
       "  <tbody>\n",
       "    <tr>\n",
       "      <th>0</th>\n",
       "      <td>../pictures/wo_background/mirchelley/mirchelle...</td>\n",
       "      <td>0.538705</td>\n",
       "      <td>0.573004</td>\n",
       "    </tr>\n",
       "    <tr>\n",
       "      <th>1</th>\n",
       "      <td>../pictures/wo_background/kimlimhl/kimlimhl_20...</td>\n",
       "      <td>0.593360</td>\n",
       "      <td>0.565264</td>\n",
       "    </tr>\n",
       "    <tr>\n",
       "      <th>2</th>\n",
       "      <td>../pictures/wo_background/ohhowstrange/ohhowst...</td>\n",
       "      <td>0.662018</td>\n",
       "      <td>0.628560</td>\n",
       "    </tr>\n",
       "    <tr>\n",
       "      <th>3</th>\n",
       "      <td>../pictures/wo_background/mongabong/mongabong_...</td>\n",
       "      <td>0.484139</td>\n",
       "      <td>0.522076</td>\n",
       "    </tr>\n",
       "    <tr>\n",
       "      <th>4</th>\n",
       "      <td>../pictures/wo_background/xinlinnn/xinlinnn_20...</td>\n",
       "      <td>0.672311</td>\n",
       "      <td>0.701073</td>\n",
       "    </tr>\n",
       "    <tr>\n",
       "      <th>...</th>\n",
       "      <td>...</td>\n",
       "      <td>...</td>\n",
       "      <td>...</td>\n",
       "    </tr>\n",
       "    <tr>\n",
       "      <th>95</th>\n",
       "      <td>../pictures/wo_background/ohhowstrange/ohhowst...</td>\n",
       "      <td>0.679931</td>\n",
       "      <td>0.633929</td>\n",
       "    </tr>\n",
       "    <tr>\n",
       "      <th>96</th>\n",
       "      <td>../pictures/wo_background/mongabong/mongabong_...</td>\n",
       "      <td>0.672868</td>\n",
       "      <td>0.708039</td>\n",
       "    </tr>\n",
       "    <tr>\n",
       "      <th>97</th>\n",
       "      <td>../pictures/wo_background/aureliang_/aureliang...</td>\n",
       "      <td>0.590585</td>\n",
       "      <td>0.593973</td>\n",
       "    </tr>\n",
       "    <tr>\n",
       "      <th>98</th>\n",
       "      <td>../pictures/wo_background/ec24m/ec24m_2021-03-...</td>\n",
       "      <td>0.645308</td>\n",
       "      <td>0.628080</td>\n",
       "    </tr>\n",
       "    <tr>\n",
       "      <th>99</th>\n",
       "      <td>../pictures/wo_background/rchlwngxx/rchlwngxx_...</td>\n",
       "      <td>0.676195</td>\n",
       "      <td>0.745950</td>\n",
       "    </tr>\n",
       "  </tbody>\n",
       "</table>\n",
       "<p>100 rows × 3 columns</p>\n",
       "</div>"
      ],
      "text/plain": [
       "                                           image_list  cluster2_samplescores  \\\n",
       "0   ../pictures/wo_background/mirchelley/mirchelle...               0.538705   \n",
       "1   ../pictures/wo_background/kimlimhl/kimlimhl_20...               0.593360   \n",
       "2   ../pictures/wo_background/ohhowstrange/ohhowst...               0.662018   \n",
       "3   ../pictures/wo_background/mongabong/mongabong_...               0.484139   \n",
       "4   ../pictures/wo_background/xinlinnn/xinlinnn_20...               0.672311   \n",
       "..                                                ...                    ...   \n",
       "95  ../pictures/wo_background/ohhowstrange/ohhowst...               0.679931   \n",
       "96  ../pictures/wo_background/mongabong/mongabong_...               0.672868   \n",
       "97  ../pictures/wo_background/aureliang_/aureliang...               0.590585   \n",
       "98  ../pictures/wo_background/ec24m/ec24m_2021-03-...               0.645308   \n",
       "99  ../pictures/wo_background/rchlwngxx/rchlwngxx_...               0.676195   \n",
       "\n",
       "    cluster3_samplescores  \n",
       "0                0.573004  \n",
       "1                0.565264  \n",
       "2                0.628560  \n",
       "3                0.522076  \n",
       "4                0.701073  \n",
       "..                    ...  \n",
       "95               0.633929  \n",
       "96               0.708039  \n",
       "97               0.593973  \n",
       "98               0.628080  \n",
       "99               0.745950  \n",
       "\n",
       "[100 rows x 3 columns]"
      ]
     },
     "execution_count": 56,
     "metadata": {},
     "output_type": "execute_result"
    }
   ],
   "source": [
    "sample100_score_df = cluster2score_df.merge(cluster3score_df, how = 'left', on = 'image_list')\n",
    "sample100_score_df"
   ]
  },
  {
   "cell_type": "code",
   "execution_count": 57,
   "id": "2e18e3d0",
   "metadata": {},
   "outputs": [
    {
     "data": {
      "text/html": [
       "<div>\n",
       "<style scoped>\n",
       "    .dataframe tbody tr th:only-of-type {\n",
       "        vertical-align: middle;\n",
       "    }\n",
       "\n",
       "    .dataframe tbody tr th {\n",
       "        vertical-align: top;\n",
       "    }\n",
       "\n",
       "    .dataframe thead th {\n",
       "        text-align: right;\n",
       "    }\n",
       "</style>\n",
       "<table border=\"1\" class=\"dataframe\">\n",
       "  <thead>\n",
       "    <tr style=\"text-align: right;\">\n",
       "      <th></th>\n",
       "      <th>image_list</th>\n",
       "      <th>cluster2_samplescores</th>\n",
       "      <th>cluster3_samplescores</th>\n",
       "      <th>cluster4_samplescores</th>\n",
       "    </tr>\n",
       "  </thead>\n",
       "  <tbody>\n",
       "    <tr>\n",
       "      <th>0</th>\n",
       "      <td>../pictures/wo_background/mirchelley/mirchelle...</td>\n",
       "      <td>0.538705</td>\n",
       "      <td>0.573004</td>\n",
       "      <td>0.458616</td>\n",
       "    </tr>\n",
       "    <tr>\n",
       "      <th>1</th>\n",
       "      <td>../pictures/wo_background/kimlimhl/kimlimhl_20...</td>\n",
       "      <td>0.593360</td>\n",
       "      <td>0.565264</td>\n",
       "      <td>0.558163</td>\n",
       "    </tr>\n",
       "    <tr>\n",
       "      <th>2</th>\n",
       "      <td>../pictures/wo_background/ohhowstrange/ohhowst...</td>\n",
       "      <td>0.662018</td>\n",
       "      <td>0.628560</td>\n",
       "      <td>0.527730</td>\n",
       "    </tr>\n",
       "    <tr>\n",
       "      <th>3</th>\n",
       "      <td>../pictures/wo_background/mongabong/mongabong_...</td>\n",
       "      <td>0.484139</td>\n",
       "      <td>0.522076</td>\n",
       "      <td>0.513245</td>\n",
       "    </tr>\n",
       "    <tr>\n",
       "      <th>4</th>\n",
       "      <td>../pictures/wo_background/xinlinnn/xinlinnn_20...</td>\n",
       "      <td>0.672311</td>\n",
       "      <td>0.701073</td>\n",
       "      <td>0.637278</td>\n",
       "    </tr>\n",
       "    <tr>\n",
       "      <th>...</th>\n",
       "      <td>...</td>\n",
       "      <td>...</td>\n",
       "      <td>...</td>\n",
       "      <td>...</td>\n",
       "    </tr>\n",
       "    <tr>\n",
       "      <th>95</th>\n",
       "      <td>../pictures/wo_background/ohhowstrange/ohhowst...</td>\n",
       "      <td>0.679931</td>\n",
       "      <td>0.633929</td>\n",
       "      <td>0.615704</td>\n",
       "    </tr>\n",
       "    <tr>\n",
       "      <th>96</th>\n",
       "      <td>../pictures/wo_background/mongabong/mongabong_...</td>\n",
       "      <td>0.672868</td>\n",
       "      <td>0.708039</td>\n",
       "      <td>0.636422</td>\n",
       "    </tr>\n",
       "    <tr>\n",
       "      <th>97</th>\n",
       "      <td>../pictures/wo_background/aureliang_/aureliang...</td>\n",
       "      <td>0.590585</td>\n",
       "      <td>0.593973</td>\n",
       "      <td>0.523820</td>\n",
       "    </tr>\n",
       "    <tr>\n",
       "      <th>98</th>\n",
       "      <td>../pictures/wo_background/ec24m/ec24m_2021-03-...</td>\n",
       "      <td>0.645308</td>\n",
       "      <td>0.628080</td>\n",
       "      <td>0.632259</td>\n",
       "    </tr>\n",
       "    <tr>\n",
       "      <th>99</th>\n",
       "      <td>../pictures/wo_background/rchlwngxx/rchlwngxx_...</td>\n",
       "      <td>0.676195</td>\n",
       "      <td>0.745950</td>\n",
       "      <td>0.722076</td>\n",
       "    </tr>\n",
       "  </tbody>\n",
       "</table>\n",
       "<p>100 rows × 4 columns</p>\n",
       "</div>"
      ],
      "text/plain": [
       "                                           image_list  cluster2_samplescores  \\\n",
       "0   ../pictures/wo_background/mirchelley/mirchelle...               0.538705   \n",
       "1   ../pictures/wo_background/kimlimhl/kimlimhl_20...               0.593360   \n",
       "2   ../pictures/wo_background/ohhowstrange/ohhowst...               0.662018   \n",
       "3   ../pictures/wo_background/mongabong/mongabong_...               0.484139   \n",
       "4   ../pictures/wo_background/xinlinnn/xinlinnn_20...               0.672311   \n",
       "..                                                ...                    ...   \n",
       "95  ../pictures/wo_background/ohhowstrange/ohhowst...               0.679931   \n",
       "96  ../pictures/wo_background/mongabong/mongabong_...               0.672868   \n",
       "97  ../pictures/wo_background/aureliang_/aureliang...               0.590585   \n",
       "98  ../pictures/wo_background/ec24m/ec24m_2021-03-...               0.645308   \n",
       "99  ../pictures/wo_background/rchlwngxx/rchlwngxx_...               0.676195   \n",
       "\n",
       "    cluster3_samplescores  cluster4_samplescores  \n",
       "0                0.573004               0.458616  \n",
       "1                0.565264               0.558163  \n",
       "2                0.628560               0.527730  \n",
       "3                0.522076               0.513245  \n",
       "4                0.701073               0.637278  \n",
       "..                    ...                    ...  \n",
       "95               0.633929               0.615704  \n",
       "96               0.708039               0.636422  \n",
       "97               0.593973               0.523820  \n",
       "98               0.628080               0.632259  \n",
       "99               0.745950               0.722076  \n",
       "\n",
       "[100 rows x 4 columns]"
      ]
     },
     "execution_count": 57,
     "metadata": {},
     "output_type": "execute_result"
    }
   ],
   "source": [
    "sample100_score_df = sample100_score_df.merge(cluster4score_df, how = 'left', on = 'image_list')\n",
    "sample100_score_df"
   ]
  },
  {
   "cell_type": "code",
   "execution_count": 60,
   "id": "f8367272",
   "metadata": {},
   "outputs": [],
   "source": [
    "sample100_score_df.to_csv('../data/sample100_score.csv', index = False)"
   ]
  },
  {
   "cell_type": "code",
   "execution_count": 16,
   "id": "0345612a",
   "metadata": {},
   "outputs": [
    {
     "name": "stdout",
     "output_type": "stream",
     "text": [
      "CPU times: user 9h 2min 56s, sys: 4h 52min 58s, total: 13h 55min 54s\n",
      "Wall time: 4h 19min 51s\n"
     ]
    }
   ],
   "source": [
    "%%time\n",
    "#try running all scores for 3 clusters\n",
    "cluster3_allscores = []\n",
    "image_list = []\n",
    "for n in range(len(rgba_df)):\n",
    "    score = cluster3_score(rgba_df.iloc[n]['rgba_list'])\n",
    "    image_path = rgba_df.iloc[n]['image_list']\n",
    "    cluster3_allscores.append(score)\n",
    "    image_list.append(image_path)"
   ]
  },
  {
   "cell_type": "code",
   "execution_count": 17,
   "id": "e53d0c6e",
   "metadata": {},
   "outputs": [
    {
     "data": {
      "text/plain": [
       "0.6034284128002082"
      ]
     },
     "execution_count": 17,
     "metadata": {},
     "output_type": "execute_result"
    }
   ],
   "source": [
    "statistics.median(cluster3_allscores)"
   ]
  },
  {
   "cell_type": "code",
   "execution_count": 18,
   "id": "3117bc06",
   "metadata": {},
   "outputs": [
    {
     "data": {
      "text/plain": [
       "0.6084052841646067"
      ]
     },
     "execution_count": 18,
     "metadata": {},
     "output_type": "execute_result"
    }
   ],
   "source": [
    "statistics.mean(cluster3_allscores)"
   ]
  },
  {
   "cell_type": "markdown",
   "id": "f6f8a0e1",
   "metadata": {},
   "source": [
    "The scores for each photos using k=3 seems reasonable at 0.61, and close to the sample scores as well. This provides comfort for using these clusters, and moving to the next stage of clustering across multiple photos"
   ]
  },
  {
   "cell_type": "code",
   "execution_count": 19,
   "id": "19bbe8ae",
   "metadata": {},
   "outputs": [
    {
     "data": {
      "text/html": [
       "<div>\n",
       "<style scoped>\n",
       "    .dataframe tbody tr th:only-of-type {\n",
       "        vertical-align: middle;\n",
       "    }\n",
       "\n",
       "    .dataframe tbody tr th {\n",
       "        vertical-align: top;\n",
       "    }\n",
       "\n",
       "    .dataframe thead th {\n",
       "        text-align: right;\n",
       "    }\n",
       "</style>\n",
       "<table border=\"1\" class=\"dataframe\">\n",
       "  <thead>\n",
       "    <tr style=\"text-align: right;\">\n",
       "      <th></th>\n",
       "      <th>image_list</th>\n",
       "      <th>cluster3_scores</th>\n",
       "    </tr>\n",
       "  </thead>\n",
       "  <tbody>\n",
       "    <tr>\n",
       "      <th>0</th>\n",
       "      <td>../pictures/wo_background/ec24m/ec24m_2021-01-...</td>\n",
       "      <td>0.498040</td>\n",
       "    </tr>\n",
       "    <tr>\n",
       "      <th>1</th>\n",
       "      <td>../pictures/wo_background/ec24m/ec24m_2021-11-...</td>\n",
       "      <td>0.797430</td>\n",
       "    </tr>\n",
       "    <tr>\n",
       "      <th>2</th>\n",
       "      <td>../pictures/wo_background/ec24m/ec24m_2021-03-...</td>\n",
       "      <td>0.605453</td>\n",
       "    </tr>\n",
       "    <tr>\n",
       "      <th>3</th>\n",
       "      <td>../pictures/wo_background/ec24m/ec24m_2021-06-...</td>\n",
       "      <td>0.499142</td>\n",
       "    </tr>\n",
       "    <tr>\n",
       "      <th>4</th>\n",
       "      <td>../pictures/wo_background/ec24m/ec24m_2021-02-...</td>\n",
       "      <td>0.549464</td>\n",
       "    </tr>\n",
       "    <tr>\n",
       "      <th>...</th>\n",
       "      <td>...</td>\n",
       "      <td>...</td>\n",
       "    </tr>\n",
       "    <tr>\n",
       "      <th>6832</th>\n",
       "      <td>../pictures/wo_background/xinlinnn/xinlinnn_20...</td>\n",
       "      <td>0.627131</td>\n",
       "    </tr>\n",
       "    <tr>\n",
       "      <th>6833</th>\n",
       "      <td>../pictures/wo_background/xinlinnn/xinlinnn_20...</td>\n",
       "      <td>0.622005</td>\n",
       "    </tr>\n",
       "    <tr>\n",
       "      <th>6834</th>\n",
       "      <td>../pictures/wo_background/xinlinnn/xinlinnn_20...</td>\n",
       "      <td>0.603268</td>\n",
       "    </tr>\n",
       "    <tr>\n",
       "      <th>6835</th>\n",
       "      <td>../pictures/wo_background/xinlinnn/xinlinnn_20...</td>\n",
       "      <td>0.540809</td>\n",
       "    </tr>\n",
       "    <tr>\n",
       "      <th>6836</th>\n",
       "      <td>../pictures/wo_background/xinlinnn/xinlinnn_20...</td>\n",
       "      <td>0.617235</td>\n",
       "    </tr>\n",
       "  </tbody>\n",
       "</table>\n",
       "<p>6837 rows × 2 columns</p>\n",
       "</div>"
      ],
      "text/plain": [
       "                                             image_list  cluster3_scores\n",
       "0     ../pictures/wo_background/ec24m/ec24m_2021-01-...         0.498040\n",
       "1     ../pictures/wo_background/ec24m/ec24m_2021-11-...         0.797430\n",
       "2     ../pictures/wo_background/ec24m/ec24m_2021-03-...         0.605453\n",
       "3     ../pictures/wo_background/ec24m/ec24m_2021-06-...         0.499142\n",
       "4     ../pictures/wo_background/ec24m/ec24m_2021-02-...         0.549464\n",
       "...                                                 ...              ...\n",
       "6832  ../pictures/wo_background/xinlinnn/xinlinnn_20...         0.627131\n",
       "6833  ../pictures/wo_background/xinlinnn/xinlinnn_20...         0.622005\n",
       "6834  ../pictures/wo_background/xinlinnn/xinlinnn_20...         0.603268\n",
       "6835  ../pictures/wo_background/xinlinnn/xinlinnn_20...         0.540809\n",
       "6836  ../pictures/wo_background/xinlinnn/xinlinnn_20...         0.617235\n",
       "\n",
       "[6837 rows x 2 columns]"
      ]
     },
     "execution_count": 19,
     "metadata": {},
     "output_type": "execute_result"
    }
   ],
   "source": [
    "cluster3_allscores_df = pd.DataFrame(zip(image_list, cluster3_allscores), columns = ['image_list', 'cluster3_scores'])\n",
    "cluster3_allscores_df"
   ]
  },
  {
   "cell_type": "code",
   "execution_count": 20,
   "id": "93f127d2",
   "metadata": {},
   "outputs": [],
   "source": [
    "cluster3_allscores_df.to_csv('../data/cluster3_allscores.csv', index = False)"
   ]
  }
 ],
 "metadata": {
  "kernelspec": {
   "display_name": "Python 3",
   "language": "python",
   "name": "python3"
  },
  "language_info": {
   "codemirror_mode": {
    "name": "ipython",
    "version": 3
   },
   "file_extension": ".py",
   "mimetype": "text/x-python",
   "name": "python",
   "nbconvert_exporter": "python",
   "pygments_lexer": "ipython3",
   "version": "3.8.8"
  }
 },
 "nbformat": 4,
 "nbformat_minor": 5
}
