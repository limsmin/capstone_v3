{
 "cells": [
  {
   "cell_type": "markdown",
   "id": "abac0fc9",
   "metadata": {},
   "source": [
    "# 1. Import  necessary libraries"
   ]
  },
  {
   "cell_type": "code",
   "execution_count": 1,
   "id": "03caf8b7",
   "metadata": {},
   "outputs": [],
   "source": [
    "import os\n",
    "import shutil\n",
    "import numpy as np\n",
    "import pandas as pd"
   ]
  },
  {
   "cell_type": "markdown",
   "id": "c2a069b4",
   "metadata": {},
   "source": [
    "# 2. Read csv on final instagram accounts selected"
   ]
  },
  {
   "cell_type": "code",
   "execution_count": 2,
   "id": "a3b24e20",
   "metadata": {},
   "outputs": [],
   "source": [
    "# Load list of final selected insta accounts\n",
    "final_acct_df = pd.read_csv('../data/final_acct_df.csv')"
   ]
  },
  {
   "cell_type": "code",
   "execution_count": 3,
   "id": "3d8392c3",
   "metadata": {},
   "outputs": [
    {
     "data": {
      "text/html": [
       "<div>\n",
       "<style scoped>\n",
       "    .dataframe tbody tr th:only-of-type {\n",
       "        vertical-align: middle;\n",
       "    }\n",
       "\n",
       "    .dataframe tbody tr th {\n",
       "        vertical-align: top;\n",
       "    }\n",
       "\n",
       "    .dataframe thead th {\n",
       "        text-align: right;\n",
       "    }\n",
       "</style>\n",
       "<table border=\"1\" class=\"dataframe\">\n",
       "  <thead>\n",
       "    <tr style=\"text-align: right;\">\n",
       "      <th></th>\n",
       "      <th>handle</th>\n",
       "      <th>name</th>\n",
       "      <th>topics</th>\n",
       "      <th>follower_count</th>\n",
       "      <th>to_exclude_pets_food</th>\n",
       "    </tr>\n",
       "  </thead>\n",
       "  <tbody>\n",
       "    <tr>\n",
       "      <th>0</th>\n",
       "      <td>ec24m</td>\n",
       "      <td>Jamie Chua 蔡欣颖</td>\n",
       "      <td>Photography Travel Fashion Design Celebrities</td>\n",
       "      <td>1200000</td>\n",
       "      <td>0</td>\n",
       "    </tr>\n",
       "    <tr>\n",
       "      <th>1</th>\n",
       "      <td>jiaqiwoo</td>\n",
       "      <td>胡佳琪 Jayley Woo</td>\n",
       "      <td>Fashion Styling Lifestyle</td>\n",
       "      <td>409700</td>\n",
       "      <td>0</td>\n",
       "    </tr>\n",
       "    <tr>\n",
       "      <th>2</th>\n",
       "      <td>limrebecca</td>\n",
       "      <td>Rebecca Lim 林慧玲</td>\n",
       "      <td>Actors Fashion Art Modeling</td>\n",
       "      <td>408400</td>\n",
       "      <td>0</td>\n",
       "    </tr>\n",
       "    <tr>\n",
       "      <th>3</th>\n",
       "      <td>speishi</td>\n",
       "      <td>SOH PEI SHI 苏培诗</td>\n",
       "      <td>Fashion Lifestyle Beauty</td>\n",
       "      <td>346800</td>\n",
       "      <td>0</td>\n",
       "    </tr>\n",
       "    <tr>\n",
       "      <th>4</th>\n",
       "      <td>dreachong</td>\n",
       "      <td>Andrea Chong</td>\n",
       "      <td>Fashion Styling Lifestyle</td>\n",
       "      <td>305500</td>\n",
       "      <td>0</td>\n",
       "    </tr>\n",
       "  </tbody>\n",
       "</table>\n",
       "</div>"
      ],
      "text/plain": [
       "       handle             name                                         topics  \\\n",
       "0       ec24m   Jamie Chua 蔡欣颖  Photography Travel Fashion Design Celebrities   \n",
       "1    jiaqiwoo   胡佳琪 Jayley Woo                      Fashion Styling Lifestyle   \n",
       "2  limrebecca  Rebecca Lim 林慧玲                    Actors Fashion Art Modeling   \n",
       "3     speishi  SOH PEI SHI 苏培诗                       Fashion Lifestyle Beauty   \n",
       "4   dreachong     Andrea Chong                      Fashion Styling Lifestyle   \n",
       "\n",
       "   follower_count  to_exclude_pets_food  \n",
       "0         1200000                     0  \n",
       "1          409700                     0  \n",
       "2          408400                     0  \n",
       "3          346800                     0  \n",
       "4          305500                     0  "
      ]
     },
     "execution_count": 3,
     "metadata": {},
     "output_type": "execute_result"
    }
   ],
   "source": [
    "final_acct_df.head()"
   ]
  },
  {
   "cell_type": "code",
   "execution_count": 4,
   "id": "e877ce67",
   "metadata": {},
   "outputs": [
    {
     "data": {
      "text/plain": [
       "['ec24m',\n",
       " 'jiaqiwoo',\n",
       " 'limrebecca',\n",
       " 'speishi',\n",
       " 'dreachong',\n",
       " 'carriewst',\n",
       " 'kimlimhl',\n",
       " 'novitalam',\n",
       " 'julietan_cxq',\n",
       " 'mongabong',\n",
       " 'aureliang_',\n",
       " 'xplacidacidx',\n",
       " 'melissackoh',\n",
       " 'nicolekittykatx',\n",
       " 'zoetay10',\n",
       " 'hayleywoojiayi',\n",
       " 'yahuiyh',\n",
       " 'denisesoongeelyn',\n",
       " 'rchlwngxx',\n",
       " 'saffronsharpe',\n",
       " 'euniceannabel',\n",
       " 'katepang311',\n",
       " 'honglingg_',\n",
       " 'elaineruimin',\n",
       " 'mirchelley',\n",
       " 'sheila_sim',\n",
       " 'fionafussi',\n",
       " 'cheyennechesney',\n",
       " 'soniachew',\n",
       " 'narellekheng',\n",
       " 'ohhowstrange',\n",
       " 'xoxoapo',\n",
       " 'jacelyn_tay',\n",
       " 'xinlinnn']"
      ]
     },
     "execution_count": 4,
     "metadata": {},
     "output_type": "execute_result"
    }
   ],
   "source": [
    "accounts = final_acct_df['handle'].tolist()\n",
    "accounts"
   ]
  },
  {
   "cell_type": "markdown",
   "id": "56bd691a",
   "metadata": {},
   "source": [
    "# 2. Renaming picture file names"
   ]
  },
  {
   "cell_type": "markdown",
   "id": "722e1616",
   "metadata": {},
   "source": [
    "The purpose of renaming is to ensure a more readable and informative file naming, and to remove unnecessary detail. Also want to ensure that the instagram handle name is incorporated in the file name just in case files gets merged into one folder later on, which might make it difficult to identify the handle it belongs to.\n",
    "\n",
    "The naming format will be handle_date_sequenceofpost (sequence of post shows the sequence of posts uploaded on the same day)."
   ]
  },
  {
   "cell_type": "code",
   "execution_count": 11,
   "id": "33217c9c",
   "metadata": {},
   "outputs": [
    {
     "data": {
      "text/plain": [
       "'2021-09-13_08-59-52_UTC_1.jpg'"
      ]
     },
     "execution_count": 11,
     "metadata": {},
     "output_type": "execute_result"
    }
   ],
   "source": [
    "#look at an example of a file name in the original folder\n",
    "orig_path = '../pictures/date_filtered_from_insta/ec24m'\n",
    "posts = os.listdir(orig_path)\n",
    "filename_example = posts[0]\n",
    "filename_example"
   ]
  },
  {
   "cell_type": "markdown",
   "id": "1ce195e3",
   "metadata": {},
   "source": [
    "The number right before '.jpg' gives the sequence of the post. On days where there is only one post, the number will not appear,and it will end with 'UTC.jpg'"
   ]
  },
  {
   "cell_type": "code",
   "execution_count": 12,
   "id": "d5e0301a",
   "metadata": {},
   "outputs": [
    {
     "data": {
      "text/plain": [
       "'2021-09-13'"
      ]
     },
     "execution_count": 12,
     "metadata": {},
     "output_type": "execute_result"
    }
   ],
   "source": [
    "#to get date of the post\n",
    "filename_example[:10]"
   ]
  },
  {
   "cell_type": "code",
   "execution_count": 15,
   "id": "15b88b72",
   "metadata": {},
   "outputs": [
    {
     "data": {
      "text/plain": [
       "'1'"
      ]
     },
     "execution_count": 15,
     "metadata": {},
     "output_type": "execute_result"
    }
   ],
   "source": [
    "#to get sequence of the post\n",
    "#for dates where only one post is posted, the result of this code will be a 'C'\n",
    "filename_example[-5:-4]"
   ]
  },
  {
   "cell_type": "code",
   "execution_count": 5,
   "id": "01e8a928",
   "metadata": {},
   "outputs": [],
   "source": [
    "#make a copy of '../pictures/date_filtered_from_insta' to '../pictures/filtered_renamed' just in case\n",
    "#use the copied folder as the folder to do renaming of pictures\n",
    "\n",
    "parent_path = '../pictures/filtered_renamed'"
   ]
  },
  {
   "cell_type": "code",
   "execution_count": 6,
   "id": "e4f6ede1",
   "metadata": {},
   "outputs": [],
   "source": [
    "#remember to delete all DS_Store files (not visible in directory)\n",
    "#just go to terminal, navigate to the right folder, and type \"find . -name \".DS_Store\" -delete\"\n",
    "\n",
    "for account in accounts:\n",
    "    path = parent_path + '/' + account\n",
    "    files = os.listdir(path)\n",
    "    for file in files:\n",
    "        os.rename(os.path.join(path, file), os.path.join(path, account + '_' + file[:10] + '_' + file[-5:-4]) + '.jpg')\n",
    "            "
   ]
  }
 ],
 "metadata": {
  "kernelspec": {
   "display_name": "Python 3",
   "language": "python",
   "name": "python3"
  },
  "language_info": {
   "codemirror_mode": {
    "name": "ipython",
    "version": 3
   },
   "file_extension": ".py",
   "mimetype": "text/x-python",
   "name": "python",
   "nbconvert_exporter": "python",
   "pygments_lexer": "ipython3",
   "version": "3.8.8"
  }
 },
 "nbformat": 4,
 "nbformat_minor": 5
}
