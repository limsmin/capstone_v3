{
 "cells": [
  {
   "cell_type": "code",
   "execution_count": 1,
   "id": "6a5bc149",
   "metadata": {},
   "outputs": [],
   "source": [
    "import cv2 as cv\n",
    "import numpy as np\n",
    "import matplotlib.pyplot as plt\n",
    "%matplotlib inline\n",
    "import datetime\n",
    "\n",
    "from sklearn.cluster import KMeans\n",
    "from sklearn.metrics import silhouette_score\n",
    "from sklearn.metrics import pairwise_distances\n",
    "from PIL import Image\n",
    "from PIL import ImageFile\n",
    "import os\n",
    "import numpy as np\n",
    "import pandas as pd"
   ]
  },
  {
   "cell_type": "code",
   "execution_count": 2,
   "id": "01c58454",
   "metadata": {},
   "outputs": [],
   "source": [
    "# Load list of top 34 insta accounts\n",
    "final_acct_df = pd.read_csv('../data/final_acct_df.csv')"
   ]
  },
  {
   "cell_type": "code",
   "execution_count": 3,
   "id": "ea228ee4",
   "metadata": {},
   "outputs": [
    {
     "data": {
      "text/plain": [
       "['ec24m',\n",
       " 'jiaqiwoo',\n",
       " 'limrebecca',\n",
       " 'speishi',\n",
       " 'dreachong',\n",
       " 'carriewst',\n",
       " 'kimlimhl',\n",
       " 'novitalam',\n",
       " 'julietan_cxq',\n",
       " 'mongabong',\n",
       " 'aureliang_',\n",
       " 'xplacidacidx',\n",
       " 'melissackoh',\n",
       " 'nicolekittykatx',\n",
       " 'zoetay10',\n",
       " 'hayleywoojiayi',\n",
       " 'yahuiyh',\n",
       " 'denisesoongeelyn',\n",
       " 'rchlwngxx',\n",
       " 'saffronsharpe',\n",
       " 'euniceannabel',\n",
       " 'katepang311',\n",
       " 'honglingg_',\n",
       " 'elaineruimin',\n",
       " 'mirchelley',\n",
       " 'sheila_sim',\n",
       " 'fionafussi',\n",
       " 'cheyennechesney',\n",
       " 'soniachew',\n",
       " 'narellekheng',\n",
       " 'ohhowstrange',\n",
       " 'xoxoapo',\n",
       " 'jacelyn_tay',\n",
       " 'xinlinnn']"
      ]
     },
     "execution_count": 3,
     "metadata": {},
     "output_type": "execute_result"
    }
   ],
   "source": [
    "accounts = final_acct_df['handle'].tolist()\n",
    "accounts"
   ]
  },
  {
   "cell_type": "code",
   "execution_count": 4,
   "id": "9a14eb7d",
   "metadata": {},
   "outputs": [
    {
     "data": {
      "text/plain": [
       "7"
      ]
     },
     "execution_count": 4,
     "metadata": {},
     "output_type": "execute_result"
    }
   ],
   "source": [
    "#splits accounts list into smaller chunks to make processing more manageable\n",
    "\n",
    "accounts_list = list()\n",
    "chunk_size = 5\n",
    "\n",
    "for i in range(0, len(accounts), chunk_size):\n",
    "    accounts_list.append(accounts[i:i+chunk_size])\n",
    "    \n",
    "len(accounts_list)\n"
   ]
  },
  {
   "cell_type": "code",
   "execution_count": 5,
   "id": "78f90d89",
   "metadata": {},
   "outputs": [],
   "source": [
    "#instantiate empty list to append data from each photo\n",
    "rgba_ravel_list = []\n",
    "image_list = []\n",
    "instagram_handle = []\n",
    "date_post = []\n",
    "seq_post_samedate = []"
   ]
  },
  {
   "cell_type": "code",
   "execution_count": 6,
   "id": "a8cb88e0",
   "metadata": {},
   "outputs": [],
   "source": [
    "#set size for resizing each photo so that they are all the same size\n",
    "new_size = (400,400)"
   ]
  },
  {
   "cell_type": "code",
   "execution_count": 19,
   "id": "5eeb7e7f",
   "metadata": {},
   "outputs": [
    {
     "name": "stdout",
     "output_type": "stream",
     "text": [
      "CPU times: user 3min 36s, sys: 1.28 s, total: 3min 38s\n",
      "Wall time: 3min 41s\n"
     ]
    }
   ],
   "source": [
    "%%time\n",
    "#for loop to loop through all photos within the 5 accounts (split 34 accounts into groups of 5)\n",
    "#append rgba information, image path, instagram handle, date of post\n",
    "#and also sequence of post if there are more than one post a day\n",
    "\n",
    "for account in accounts_list[0]:\n",
    "    in_path ='../pictures/wo_background/' + account\n",
    "    for image_path in os.listdir(in_path):\n",
    "        # image_path contains name of the image \n",
    "        input_path = os.path.join(in_path, image_path)\n",
    "        imgfile = Image.open(input_path)\n",
    "        imgfile = imgfile.resize(new_size)\n",
    "        na = np.array(imgfile.getdata(), np.uint8)\n",
    "        row = na.ravel()\n",
    "\n",
    "        rgba_ravel_list.append(row)\n",
    "        image_list.append(input_path)\n",
    "        instagram_handle.append(account)\n",
    "        date_post.append(image_path[-16:-6])\n",
    "        seq_post_samedate.append(image_path[-5:-4])"
   ]
  },
  {
   "cell_type": "code",
   "execution_count": 20,
   "id": "0f3d9b97",
   "metadata": {},
   "outputs": [
    {
     "data": {
      "text/plain": [
       "(1671, 5)"
      ]
     },
     "execution_count": 20,
     "metadata": {},
     "output_type": "execute_result"
    }
   ],
   "source": [
    "rgba_df = pd.DataFrame(zip(instagram_handle, image_list, date_post, seq_post_samedate, rgba_ravel_list), \\\n",
    "                       columns = ['instagram_handle', 'image_list', 'date_post', 'seq_post_samedate', 'rgba_ravel_list'])\n",
    "rgba_df.shape"
   ]
  },
  {
   "cell_type": "code",
   "execution_count": 21,
   "id": "f6ad4619",
   "metadata": {},
   "outputs": [
    {
     "data": {
      "text/plain": [
       "(1670, 5)"
      ]
     },
     "execution_count": 21,
     "metadata": {},
     "output_type": "execute_result"
    }
   ],
   "source": [
    "#delete corrupted posts that contains .DS\n",
    "rgba_df = rgba_df[~rgba_df.date_post.str.contains('.DS')]\n",
    "rgba_df.shape"
   ]
  },
  {
   "cell_type": "code",
   "execution_count": 22,
   "id": "6e614a70",
   "metadata": {},
   "outputs": [
    {
     "data": {
      "text/plain": [
       "1    461\n",
       "2    424\n",
       "C    415\n",
       "3    208\n",
       "4     78\n",
       "5     32\n",
       "6     23\n",
       "7     13\n",
       "8      6\n",
       "9      5\n",
       "0      3\n",
       "c      2\n",
       "Name: seq_post_samedate, dtype: int64"
      ]
     },
     "execution_count": 22,
     "metadata": {},
     "output_type": "execute_result"
    }
   ],
   "source": [
    "#translate seq_post_samedate\n",
    "rgba_df['seq_post_samedate'].value_counts()"
   ]
  },
  {
   "cell_type": "code",
   "execution_count": 23,
   "id": "20439afc",
   "metadata": {},
   "outputs": [
    {
     "data": {
      "text/plain": [
       "2     461\n",
       "3     424\n",
       "1     417\n",
       "4     208\n",
       "5      78\n",
       "6      32\n",
       "7      23\n",
       "8      13\n",
       "9       6\n",
       "10      5\n",
       "11      3\n",
       "Name: seq_post_samedate, dtype: int64"
      ]
     },
     "execution_count": 23,
     "metadata": {},
     "output_type": "execute_result"
    }
   ],
   "source": [
    "rgba_df['seq_post_samedate'] = rgba_df['seq_post_samedate']\\\n",
    ".map({'C':'1','c':'1','0':'11','1':'2','2':'3','3':'4','4':'5','5':'6','6':'7','7':'8','8':'9','9':'10'})\n",
    "rgba_df['seq_post_samedate'].value_counts()"
   ]
  },
  {
   "cell_type": "code",
   "execution_count": 24,
   "id": "ae483b21",
   "metadata": {},
   "outputs": [],
   "source": [
    "rgba_df['date_post'] = pd.to_datetime(rgba_df['date_post'])\n",
    "rgba_df['seq_post_samedate'] = rgba_df['seq_post_samedate'].astype(str).astype(int)\n",
    "rgba_df.to_csv('../data/accounts_0.csv')"
   ]
  },
  {
   "cell_type": "code",
   "execution_count": 25,
   "id": "89375ef6",
   "metadata": {},
   "outputs": [
    {
     "data": {
      "text/html": [
       "<div>\n",
       "<style scoped>\n",
       "    .dataframe tbody tr th:only-of-type {\n",
       "        vertical-align: middle;\n",
       "    }\n",
       "\n",
       "    .dataframe tbody tr th {\n",
       "        vertical-align: top;\n",
       "    }\n",
       "\n",
       "    .dataframe thead th {\n",
       "        text-align: right;\n",
       "    }\n",
       "</style>\n",
       "<table border=\"1\" class=\"dataframe\">\n",
       "  <thead>\n",
       "    <tr style=\"text-align: right;\">\n",
       "      <th></th>\n",
       "      <th>instagram_handle</th>\n",
       "      <th>image_list</th>\n",
       "      <th>date_post</th>\n",
       "      <th>seq_post_samedate</th>\n",
       "      <th>rgba_ravel_list</th>\n",
       "    </tr>\n",
       "  </thead>\n",
       "  <tbody>\n",
       "    <tr>\n",
       "      <th>0</th>\n",
       "      <td>ec24m</td>\n",
       "      <td>../pictures/wo_background/ec24m/ec24m_2021-01-...</td>\n",
       "      <td>2021-01-31</td>\n",
       "      <td>1</td>\n",
       "      <td>[0, 0, 0, 0, 0, 0, 0, 0, 0, 0, 0, 0, 0, 0, 0, ...</td>\n",
       "    </tr>\n",
       "    <tr>\n",
       "      <th>1</th>\n",
       "      <td>ec24m</td>\n",
       "      <td>../pictures/wo_background/ec24m/ec24m_2021-11-...</td>\n",
       "      <td>2021-11-09</td>\n",
       "      <td>3</td>\n",
       "      <td>[0, 0, 0, 0, 0, 0, 0, 0, 0, 0, 0, 0, 0, 0, 0, ...</td>\n",
       "    </tr>\n",
       "    <tr>\n",
       "      <th>2</th>\n",
       "      <td>ec24m</td>\n",
       "      <td>../pictures/wo_background/ec24m/ec24m_2021-03-...</td>\n",
       "      <td>2021-03-03</td>\n",
       "      <td>1</td>\n",
       "      <td>[0, 0, 0, 0, 0, 0, 0, 0, 0, 0, 0, 0, 0, 0, 0, ...</td>\n",
       "    </tr>\n",
       "    <tr>\n",
       "      <th>3</th>\n",
       "      <td>ec24m</td>\n",
       "      <td>../pictures/wo_background/ec24m/ec24m_2021-06-...</td>\n",
       "      <td>2021-06-29</td>\n",
       "      <td>2</td>\n",
       "      <td>[0, 0, 0, 0, 0, 0, 0, 0, 0, 0, 0, 0, 0, 0, 0, ...</td>\n",
       "    </tr>\n",
       "    <tr>\n",
       "      <th>4</th>\n",
       "      <td>ec24m</td>\n",
       "      <td>../pictures/wo_background/ec24m/ec24m_2021-02-...</td>\n",
       "      <td>2021-02-03</td>\n",
       "      <td>1</td>\n",
       "      <td>[0, 0, 0, 0, 0, 0, 0, 0, 0, 0, 0, 0, 0, 0, 0, ...</td>\n",
       "    </tr>\n",
       "  </tbody>\n",
       "</table>\n",
       "</div>"
      ],
      "text/plain": [
       "  instagram_handle                                         image_list  \\\n",
       "0            ec24m  ../pictures/wo_background/ec24m/ec24m_2021-01-...   \n",
       "1            ec24m  ../pictures/wo_background/ec24m/ec24m_2021-11-...   \n",
       "2            ec24m  ../pictures/wo_background/ec24m/ec24m_2021-03-...   \n",
       "3            ec24m  ../pictures/wo_background/ec24m/ec24m_2021-06-...   \n",
       "4            ec24m  ../pictures/wo_background/ec24m/ec24m_2021-02-...   \n",
       "\n",
       "   date_post  seq_post_samedate  \\\n",
       "0 2021-01-31                  1   \n",
       "1 2021-11-09                  3   \n",
       "2 2021-03-03                  1   \n",
       "3 2021-06-29                  2   \n",
       "4 2021-02-03                  1   \n",
       "\n",
       "                                     rgba_ravel_list  \n",
       "0  [0, 0, 0, 0, 0, 0, 0, 0, 0, 0, 0, 0, 0, 0, 0, ...  \n",
       "1  [0, 0, 0, 0, 0, 0, 0, 0, 0, 0, 0, 0, 0, 0, 0, ...  \n",
       "2  [0, 0, 0, 0, 0, 0, 0, 0, 0, 0, 0, 0, 0, 0, 0, ...  \n",
       "3  [0, 0, 0, 0, 0, 0, 0, 0, 0, 0, 0, 0, 0, 0, 0, ...  \n",
       "4  [0, 0, 0, 0, 0, 0, 0, 0, 0, 0, 0, 0, 0, 0, 0, ...  "
      ]
     },
     "execution_count": 25,
     "metadata": {},
     "output_type": "execute_result"
    }
   ],
   "source": [
    "rgba_df.head()"
   ]
  },
  {
   "cell_type": "code",
   "execution_count": 26,
   "id": "31263564",
   "metadata": {},
   "outputs": [
    {
     "data": {
      "text/plain": [
       "array([[  0,   0,   0,   0],\n",
       "       [  0,   0,   0,   0],\n",
       "       [  0,   0,   0,   0],\n",
       "       ...,\n",
       "       [172, 120, 140, 230],\n",
       "       [155, 102, 121, 206],\n",
       "       [135,  80,  98, 181]], dtype=uint8)"
      ]
     },
     "execution_count": 26,
     "metadata": {},
     "output_type": "execute_result"
    }
   ],
   "source": [
    "rgba_df['rgba_ravel_list'][0].reshape(-1,4)"
   ]
  },
  {
   "cell_type": "code",
   "execution_count": 27,
   "id": "cd4bc734",
   "metadata": {},
   "outputs": [],
   "source": [
    "def cluster2(x):\n",
    "    x = x.reshape(-1, 4)\n",
    "    x = np.array([f for f in x if f[3] !=0], np.uint8)\n",
    "    clt = KMeans(n_clusters = 2, max_iter=500, random_state=5).fit(x)\n",
    "    centers = clt.cluster_centers_\n",
    "    centers = np.uint8(centers)\n",
    "    centers_ravel = centers.ravel()\n",
    "    return centers_ravel"
   ]
  },
  {
   "cell_type": "code",
   "execution_count": 28,
   "id": "f8b270a4",
   "metadata": {},
   "outputs": [],
   "source": [
    "%%time\n",
    "rgba_df['rgba_centers_2'] = rgba_df['rgba_ravel_list'].apply(cluster2)"
   ]
  },
  {
   "cell_type": "code",
   "execution_count": 29,
   "id": "b156e214",
   "metadata": {},
   "outputs": [
    {
     "data": {
      "text/html": [
       "<div>\n",
       "<style scoped>\n",
       "    .dataframe tbody tr th:only-of-type {\n",
       "        vertical-align: middle;\n",
       "    }\n",
       "\n",
       "    .dataframe tbody tr th {\n",
       "        vertical-align: top;\n",
       "    }\n",
       "\n",
       "    .dataframe thead th {\n",
       "        text-align: right;\n",
       "    }\n",
       "</style>\n",
       "<table border=\"1\" class=\"dataframe\">\n",
       "  <thead>\n",
       "    <tr style=\"text-align: right;\">\n",
       "      <th></th>\n",
       "      <th>instagram_handle</th>\n",
       "      <th>image_list</th>\n",
       "      <th>date_post</th>\n",
       "      <th>seq_post_samedate</th>\n",
       "      <th>rgba_ravel_list</th>\n",
       "      <th>rgba_centers_2</th>\n",
       "    </tr>\n",
       "  </thead>\n",
       "  <tbody>\n",
       "    <tr>\n",
       "      <th>0</th>\n",
       "      <td>ec24m</td>\n",
       "      <td>../pictures/wo_background/ec24m/ec24m_2021-01-...</td>\n",
       "      <td>2021-01-31</td>\n",
       "      <td>1</td>\n",
       "      <td>[0, 0, 0, 0, 0, 0, 0, 0, 0, 0, 0, 0, 0, 0, 0, ...</td>\n",
       "      <td>[177, 131, 134, 253, 13, 10, 9, 103]</td>\n",
       "    </tr>\n",
       "    <tr>\n",
       "      <th>1</th>\n",
       "      <td>ec24m</td>\n",
       "      <td>../pictures/wo_background/ec24m/ec24m_2021-11-...</td>\n",
       "      <td>2021-11-09</td>\n",
       "      <td>3</td>\n",
       "      <td>[0, 0, 0, 0, 0, 0, 0, 0, 0, 0, 0, 0, 0, 0, 0, ...</td>\n",
       "      <td>[111, 101, 97, 250, 5, 5, 4, 15]</td>\n",
       "    </tr>\n",
       "    <tr>\n",
       "      <th>2</th>\n",
       "      <td>ec24m</td>\n",
       "      <td>../pictures/wo_background/ec24m/ec24m_2021-03-...</td>\n",
       "      <td>2021-03-03</td>\n",
       "      <td>1</td>\n",
       "      <td>[0, 0, 0, 0, 0, 0, 0, 0, 0, 0, 0, 0, 0, 0, 0, ...</td>\n",
       "      <td>[66, 52, 49, 189, 221, 206, 188, 252]</td>\n",
       "    </tr>\n",
       "    <tr>\n",
       "      <th>3</th>\n",
       "      <td>ec24m</td>\n",
       "      <td>../pictures/wo_background/ec24m/ec24m_2021-06-...</td>\n",
       "      <td>2021-06-29</td>\n",
       "      <td>2</td>\n",
       "      <td>[0, 0, 0, 0, 0, 0, 0, 0, 0, 0, 0, 0, 0, 0, 0, ...</td>\n",
       "      <td>[177, 79, 58, 251, 41, 22, 19, 184]</td>\n",
       "    </tr>\n",
       "    <tr>\n",
       "      <th>4</th>\n",
       "      <td>ec24m</td>\n",
       "      <td>../pictures/wo_background/ec24m/ec24m_2021-02-...</td>\n",
       "      <td>2021-02-03</td>\n",
       "      <td>1</td>\n",
       "      <td>[0, 0, 0, 0, 0, 0, 0, 0, 0, 0, 0, 0, 0, 0, 0, ...</td>\n",
       "      <td>[191, 138, 123, 249, 25, 12, 11, 76]</td>\n",
       "    </tr>\n",
       "  </tbody>\n",
       "</table>\n",
       "</div>"
      ],
      "text/plain": [
       "  instagram_handle                                         image_list  \\\n",
       "0            ec24m  ../pictures/wo_background/ec24m/ec24m_2021-01-...   \n",
       "1            ec24m  ../pictures/wo_background/ec24m/ec24m_2021-11-...   \n",
       "2            ec24m  ../pictures/wo_background/ec24m/ec24m_2021-03-...   \n",
       "3            ec24m  ../pictures/wo_background/ec24m/ec24m_2021-06-...   \n",
       "4            ec24m  ../pictures/wo_background/ec24m/ec24m_2021-02-...   \n",
       "\n",
       "   date_post  seq_post_samedate  \\\n",
       "0 2021-01-31                  1   \n",
       "1 2021-11-09                  3   \n",
       "2 2021-03-03                  1   \n",
       "3 2021-06-29                  2   \n",
       "4 2021-02-03                  1   \n",
       "\n",
       "                                     rgba_ravel_list  \\\n",
       "0  [0, 0, 0, 0, 0, 0, 0, 0, 0, 0, 0, 0, 0, 0, 0, ...   \n",
       "1  [0, 0, 0, 0, 0, 0, 0, 0, 0, 0, 0, 0, 0, 0, 0, ...   \n",
       "2  [0, 0, 0, 0, 0, 0, 0, 0, 0, 0, 0, 0, 0, 0, 0, ...   \n",
       "3  [0, 0, 0, 0, 0, 0, 0, 0, 0, 0, 0, 0, 0, 0, 0, ...   \n",
       "4  [0, 0, 0, 0, 0, 0, 0, 0, 0, 0, 0, 0, 0, 0, 0, ...   \n",
       "\n",
       "                          rgba_centers_2  \n",
       "0   [177, 131, 134, 253, 13, 10, 9, 103]  \n",
       "1       [111, 101, 97, 250, 5, 5, 4, 15]  \n",
       "2  [66, 52, 49, 189, 221, 206, 188, 252]  \n",
       "3    [177, 79, 58, 251, 41, 22, 19, 184]  \n",
       "4   [191, 138, 123, 249, 25, 12, 11, 76]  "
      ]
     },
     "execution_count": 29,
     "metadata": {},
     "output_type": "execute_result"
    }
   ],
   "source": [
    "rgba_df.head()"
   ]
  },
  {
   "cell_type": "code",
   "execution_count": 30,
   "id": "b56fd141",
   "metadata": {},
   "outputs": [
    {
     "data": {
      "text/html": [
       "<div>\n",
       "<style scoped>\n",
       "    .dataframe tbody tr th:only-of-type {\n",
       "        vertical-align: middle;\n",
       "    }\n",
       "\n",
       "    .dataframe tbody tr th {\n",
       "        vertical-align: top;\n",
       "    }\n",
       "\n",
       "    .dataframe thead th {\n",
       "        text-align: right;\n",
       "    }\n",
       "</style>\n",
       "<table border=\"1\" class=\"dataframe\">\n",
       "  <thead>\n",
       "    <tr style=\"text-align: right;\">\n",
       "      <th></th>\n",
       "      <th>instagram_handle</th>\n",
       "      <th>image_list</th>\n",
       "      <th>date_post</th>\n",
       "      <th>seq_post_samedate</th>\n",
       "      <th>rgba_ravel_list</th>\n",
       "      <th>rgba_centers_2</th>\n",
       "    </tr>\n",
       "  </thead>\n",
       "  <tbody>\n",
       "    <tr>\n",
       "      <th>1666</th>\n",
       "      <td>dreachong</td>\n",
       "      <td>../pictures/wo_background/dreachong/dreachong_...</td>\n",
       "      <td>2021-11-26</td>\n",
       "      <td>3</td>\n",
       "      <td>[0, 0, 0, 0, 0, 0, 0, 0, 0, 0, 0, 0, 0, 0, 0, ...</td>\n",
       "      <td>[129, 95, 76, 214, 216, 208, 200, 253]</td>\n",
       "    </tr>\n",
       "    <tr>\n",
       "      <th>1667</th>\n",
       "      <td>dreachong</td>\n",
       "      <td>../pictures/wo_background/dreachong/dreachong_...</td>\n",
       "      <td>2021-07-19</td>\n",
       "      <td>8</td>\n",
       "      <td>[0, 0, 0, 0, 0, 0, 0, 0, 0, 0, 0, 0, 0, 0, 0, ...</td>\n",
       "      <td>[23, 20, 17, 159, 172, 148, 126, 248]</td>\n",
       "    </tr>\n",
       "    <tr>\n",
       "      <th>1668</th>\n",
       "      <td>dreachong</td>\n",
       "      <td>../pictures/wo_background/dreachong/dreachong_...</td>\n",
       "      <td>2021-10-19</td>\n",
       "      <td>2</td>\n",
       "      <td>[0, 0, 0, 0, 0, 0, 0, 0, 0, 0, 0, 0, 0, 0, 0, ...</td>\n",
       "      <td>[149, 118, 90, 241, 14, 11, 8, 25]</td>\n",
       "    </tr>\n",
       "    <tr>\n",
       "      <th>1669</th>\n",
       "      <td>dreachong</td>\n",
       "      <td>../pictures/wo_background/dreachong/dreachong_...</td>\n",
       "      <td>2021-07-26</td>\n",
       "      <td>1</td>\n",
       "      <td>[0, 0, 0, 0, 0, 0, 0, 0, 0, 0, 0, 0, 0, 0, 0, ...</td>\n",
       "      <td>[30, 22, 17, 248, 10, 9, 8, 17]</td>\n",
       "    </tr>\n",
       "    <tr>\n",
       "      <th>1670</th>\n",
       "      <td>dreachong</td>\n",
       "      <td>../pictures/wo_background/dreachong/dreachong_...</td>\n",
       "      <td>2021-04-14</td>\n",
       "      <td>1</td>\n",
       "      <td>[0, 0, 0, 0, 0, 0, 0, 0, 0, 0, 0, 0, 0, 0, 0, ...</td>\n",
       "      <td>[162, 128, 106, 252, 14, 11, 9, 44]</td>\n",
       "    </tr>\n",
       "  </tbody>\n",
       "</table>\n",
       "</div>"
      ],
      "text/plain": [
       "     instagram_handle                                         image_list  \\\n",
       "1666        dreachong  ../pictures/wo_background/dreachong/dreachong_...   \n",
       "1667        dreachong  ../pictures/wo_background/dreachong/dreachong_...   \n",
       "1668        dreachong  ../pictures/wo_background/dreachong/dreachong_...   \n",
       "1669        dreachong  ../pictures/wo_background/dreachong/dreachong_...   \n",
       "1670        dreachong  ../pictures/wo_background/dreachong/dreachong_...   \n",
       "\n",
       "      date_post  seq_post_samedate  \\\n",
       "1666 2021-11-26                  3   \n",
       "1667 2021-07-19                  8   \n",
       "1668 2021-10-19                  2   \n",
       "1669 2021-07-26                  1   \n",
       "1670 2021-04-14                  1   \n",
       "\n",
       "                                        rgba_ravel_list  \\\n",
       "1666  [0, 0, 0, 0, 0, 0, 0, 0, 0, 0, 0, 0, 0, 0, 0, ...   \n",
       "1667  [0, 0, 0, 0, 0, 0, 0, 0, 0, 0, 0, 0, 0, 0, 0, ...   \n",
       "1668  [0, 0, 0, 0, 0, 0, 0, 0, 0, 0, 0, 0, 0, 0, 0, ...   \n",
       "1669  [0, 0, 0, 0, 0, 0, 0, 0, 0, 0, 0, 0, 0, 0, 0, ...   \n",
       "1670  [0, 0, 0, 0, 0, 0, 0, 0, 0, 0, 0, 0, 0, 0, 0, ...   \n",
       "\n",
       "                              rgba_centers_2  \n",
       "1666  [129, 95, 76, 214, 216, 208, 200, 253]  \n",
       "1667   [23, 20, 17, 159, 172, 148, 126, 248]  \n",
       "1668      [149, 118, 90, 241, 14, 11, 8, 25]  \n",
       "1669         [30, 22, 17, 248, 10, 9, 8, 17]  \n",
       "1670     [162, 128, 106, 252, 14, 11, 9, 44]  "
      ]
     },
     "execution_count": 30,
     "metadata": {},
     "output_type": "execute_result"
    }
   ],
   "source": [
    "rgba_df.tail()"
   ]
  },
  {
   "cell_type": "code",
   "execution_count": 32,
   "id": "3d1892b7",
   "metadata": {},
   "outputs": [],
   "source": [
    "rgba_df_0 = rgba_df"
   ]
  },
  {
   "cell_type": "code",
   "execution_count": null,
   "id": "1f89b7ef",
   "metadata": {},
   "outputs": [],
   "source": [
    "%%time\n",
    "#for loop to loop through all photos within the 5 accounts (split 34 accounts into groups of 5)\n",
    "#append rgba information, image path, instagram handle, date of post\n",
    "#and also sequence of post if there are more than one post a day\n",
    "\n",
    "for account in accounts_list[0]:\n",
    "    in_path ='../pictures/wo_background/' + account\n",
    "    for image_path in os.listdir(in_path):\n",
    "        # image_path contains name of the image \n",
    "        input_path = os.path.join(in_path, image_path)\n",
    "        imgfile = Image.open(input_path)\n",
    "        imgfile = imgfile.resize(new_size)\n",
    "        na = np.array(imgfile.getdata(), np.uint8)\n",
    "        row = na.ravel()\n",
    "\n",
    "        rgba_ravel_list.append(row)\n",
    "        image_list.append(input_path)\n",
    "        instagram_handle.append(account)\n",
    "        date_post.append(image_path[-16:-6])\n",
    "        seq_post_samedate.append(image_path[-5:-4])"
   ]
  },
  {
   "cell_type": "code",
   "execution_count": null,
   "id": "cc097852",
   "metadata": {},
   "outputs": [],
   "source": [
    "rgba_df = pd.DataFrame(zip(instagram_handle, image_list, date_post, seq_post_samedate, rgba_ravel_list), \\\n",
    "                       columns = ['instagram_handle', 'image_list', 'date_post', 'seq_post_samedate', 'rgba_ravel_list'])\n",
    "rgba_df.shape"
   ]
  },
  {
   "cell_type": "code",
   "execution_count": null,
   "id": "9567df10",
   "metadata": {},
   "outputs": [],
   "source": [
    "#delete corrupted posts that contains .DS\n",
    "rgba_df = rgba_df[~rgba_df.date_post.str.contains('.DS')]\n",
    "rgba_df.shape"
   ]
  },
  {
   "cell_type": "code",
   "execution_count": null,
   "id": "74d91f11",
   "metadata": {},
   "outputs": [],
   "source": [
    "#translate seq_post_samedate\n",
    "rgba_df['seq_post_samedate'].value_counts()"
   ]
  }
 ],
 "metadata": {
  "kernelspec": {
   "display_name": "Python 3",
   "language": "python",
   "name": "python3"
  },
  "language_info": {
   "codemirror_mode": {
    "name": "ipython",
    "version": 3
   },
   "file_extension": ".py",
   "mimetype": "text/x-python",
   "name": "python",
   "nbconvert_exporter": "python",
   "pygments_lexer": "ipython3",
   "version": "3.8.8"
  }
 },
 "nbformat": 4,
 "nbformat_minor": 5
}
