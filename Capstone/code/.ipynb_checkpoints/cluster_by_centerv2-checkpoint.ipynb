{
 "cells": [
  {
   "cell_type": "code",
   "execution_count": 1,
   "id": "ea7f6e97",
   "metadata": {},
   "outputs": [],
   "source": [
    "import numpy as np\n",
    "import pandas as pd\n",
    "import cv2\n",
    "\n",
    "import PIL\n",
    "from PIL import Image\n",
    "import matplotlib.pyplot as plt\n",
    "%matplotlib inline\n",
    "from sklearn.cluster import KMeans\n",
    "from sklearn.metrics import silhouette_score\n",
    "from sklearn.metrics import pairwise_distances"
   ]
  },
  {
   "cell_type": "code",
   "execution_count": 2,
   "id": "d4c979f9",
   "metadata": {},
   "outputs": [],
   "source": [
    "#define a function to convert strings in csv back to rgb arrays\n",
    "def converter(instr):\n",
    "    return np.fromstring(instr[1:-1],dtype=int,sep=' ')"
   ]
  },
  {
   "cell_type": "code",
   "execution_count": 3,
   "id": "23a04200",
   "metadata": {},
   "outputs": [
    {
     "data": {
      "text/plain": [
       "Index(['image_list', 'instagram_handle', 'date_post', 'seq_post_samedate',\n",
       "       'month', 'center1_2', 'center1_3', 'center1_4', 'center2_2',\n",
       "       'center2_3', 'center2_4', 'center3_3', 'center3_4', 'center4_4',\n",
       "       'colorgroup1_2', 'colorgroup2_2', 'colorgroup1_3', 'colorgroup2_3',\n",
       "       'colorgroup3_3', 'colorgroup1_4', 'colorgroup2_4', 'colorgroup3_4',\n",
       "       'colorgroup4_4'],\n",
       "      dtype='object')"
      ]
     },
     "execution_count": 3,
     "metadata": {},
     "output_type": "execute_result"
    }
   ],
   "source": [
    "col_list = ['image_list', 'instagram_handle', 'date_post',\\\n",
    "             'seq_post_samedate', 'month', 'center1_2', 'center1_3', 'center1_4', 'center2_2',\\\n",
    "             'center2_3', 'center2_4', 'center3_3', 'center3_4', 'center4_4', 'colorgroup1_2',\\\n",
    "            'colorgroup2_2','colorgroup1_3','colorgroup2_3','colorgroup3_3','colorgroup1_4',\\\n",
    "            'colorgroup2_4','colorgroup3_4','colorgroup4_4']\n",
    "\n",
    "cluster_df=pd.read_csv('../data/cluster_colorname.csv',\\\n",
    "                       converters={'center1_2':converter, \\\n",
    "                                   'center1_3':converter, \\\n",
    "                                   'center1_4':converter,\\\n",
    "                                   'center2_2':converter,\\\n",
    "                                   'center2_3':converter,\\\n",
    "                                   'center2_4':converter,\\\n",
    "                                   'center3_3':converter,\\\n",
    "                                   'center3_4':converter,\\\n",
    "                                   'center4_4':converter,\\\n",
    "                                  }, usecols = col_list)\n",
    "\n",
    "cluster_df.columns"
   ]
  },
  {
   "cell_type": "code",
   "execution_count": 16,
   "id": "562e48d1",
   "metadata": {},
   "outputs": [],
   "source": [
    "#define function to get clusters, specifying month and no of clusters\n",
    "#enter month in numbers, as x in the function. e.g. for Feb, x=2\n",
    "#enter number of clusters as y\n",
    "def cluster_month_k(x, y):\n",
    "    x_df = cluster_df.loc[cluster_df['month'] == x]\n",
    "    x_df = x_df[['image_list', 'instagram_handle', 'date_post',\\\n",
    "                 'seq_post_samedate', 'month', 'center1_3','center2_3','center3_3',\\\n",
    "                 'colorgroup1_3','colorgroup2_3','colorgroup3_3']]\n",
    "    x_df.reset_index(drop=True, inplace = True)\n",
    "    x_array = x_df['center1_3'][0]\n",
    "    for n in range (1, len(x_df)):\n",
    "            x_array = np.concatenate([x_array, x_df['center1_3'][n]])\n",
    "    for n in range (0, len(x_df)):\n",
    "            x_array = np.concatenate([x_array, x_df['center2_3'][n]])\n",
    "    for n in range (0, len(x_df)):\n",
    "            x_array = np.concatenate([x_array, x_df['center3_3'][n]])\n",
    "    x_array = x_array.reshape(-1,3)\n",
    "    \n",
    "    #get list of color groups starting from 1_3\n",
    "    x_colorgroup = [*x_df['colorgroup1_3'], *x_df['colorgroup2_3'], *x_df['colorgroup3_3']]\n",
    "    x_array_colorgroup = pd.DataFrame(zip(x_array, x_colorgroup), columns = ['rgb', 'color_group'])\n",
    "    \n",
    "    #remove the following colorgroups as they are likely from skin and hair\n",
    "    colorgroup_exclude = ['brown','black','nude','grey']\n",
    "    x_array_colorgroup = x_array_colorgroup[~x_array_colorgroup.color_group.isin(colorgroup_exclude)]\n",
    "    x_array_colorgroup.reset_index(drop=True, inplace = True)\n",
    "    \n",
    "    #get filtered array\n",
    "    filtered_x_array = x_array_colorgroup['rgb'][0]\n",
    "    for n in range (1, len(x_array_colorgroup)):\n",
    "        filtered_x_array = np.concatenate([filtered_x_array, x_array_colorgroup['rgb'][n]])\n",
    "    filtered_x_array = filtered_x_array.reshape(-1,3)\n",
    "    \n",
    "    #k-means clustering\n",
    "    clt = KMeans(n_clusters = y, max_iter=500, random_state=5).fit(filtered_x_array)\n",
    "    centers = clt.cluster_centers_\n",
    "    centers = np.uint8(centers)\n",
    "    score = silhouette_score(filtered_x_array, clt.labels_, metric='euclidean')\n",
    "    return centers, score"
   ]
  },
  {
   "cell_type": "code",
   "execution_count": 147,
   "id": "183758a2",
   "metadata": {},
   "outputs": [
    {
     "data": {
      "text/plain": [
       "(array([[210, 177, 166],\n",
       "        [ 40,  74,  86],\n",
       "        [229,  27, 150],\n",
       "        [167, 126, 116],\n",
       "        [ 60, 121, 172],\n",
       "        [231, 225, 228],\n",
       "        [153, 170, 199],\n",
       "        [158,  35,  41]], dtype=uint8),\n",
       " 0.4863316787476727)"
      ]
     },
     "execution_count": 147,
     "metadata": {},
     "output_type": "execute_result"
    }
   ],
   "source": [
    "mar = cluster_month_k(3,8)\n",
    "mar"
   ]
  },
  {
   "cell_type": "code",
   "execution_count": 148,
   "id": "6516fa5f",
   "metadata": {},
   "outputs": [
    {
     "data": {
      "text/plain": [
       "(array([[210, 174, 167],\n",
       "        [ 61,  58,  72],\n",
       "        [ 21, 119, 169],\n",
       "        [113, 123, 135],\n",
       "        [193, 132, 130],\n",
       "        [176,  35,  45],\n",
       "        [223, 204, 214],\n",
       "        [164, 175, 199]], dtype=uint8),\n",
       " 0.4756141556875095)"
      ]
     },
     "execution_count": 148,
     "metadata": {},
     "output_type": "execute_result"
    }
   ],
   "source": [
    "feb = cluster_month_k(2,8)\n",
    "feb"
   ]
  },
  {
   "cell_type": "code",
   "execution_count": 149,
   "id": "22e4e626",
   "metadata": {},
   "outputs": [],
   "source": [
    "def palette(centers):\n",
    "    height = 50\n",
    "    width = 300\n",
    "    palette = np.zeros((height, width, 3), np.uint8)\n",
    "    steps = width/centers.shape[0]\n",
    "    for idx, centers in enumerate(centers): \n",
    "        palette[:, int(idx*steps):(int((idx+1)*steps)), :] = centers\n",
    "    return palette"
   ]
  },
  {
   "cell_type": "code",
   "execution_count": 150,
   "id": "a0171852",
   "metadata": {},
   "outputs": [],
   "source": [
    "def show_img_compar(img_1, img_2 ):\n",
    "    f, ax = plt.subplots(1, 2, figsize=(10,10))\n",
    "    ax[0].imshow(img_1)\n",
    "    ax[1].imshow(img_2)\n",
    "    ax[0].axis('off')\n",
    "    ax[1].axis('off')\n",
    "    f.tight_layout()\n",
    "    plt.show()"
   ]
  },
  {
   "cell_type": "code",
   "execution_count": 151,
   "id": "86f4df1e",
   "metadata": {},
   "outputs": [
    {
     "data": {
      "image/png": "[encoded data removed]",
      "text/plain": [
       "<Figure size 720x720 with 2 Axes>"
      ]
     },
     "metadata": {
      "needs_background": "light"
     },
     "output_type": "display_data"
    }
   ],
   "source": [
    "show_img_compar(palette(mar[0]), palette(feb[0]))"
   ]
  },
  {
   "cell_type": "code",
   "execution_count": 97,
   "id": "353b6a3f",
   "metadata": {},
   "outputs": [
    {
     "data": {
      "text/plain": [
       "0.4977272727272728"
      ]
     },
     "execution_count": 97,
     "metadata": {},
     "output_type": "execute_result"
    }
   ],
   "source": [
    "cluster3_scores = []\n",
    "for n in range (1,12):\n",
    "    x = cluster_month_k(n,3)\n",
    "    cluster3_scores.append(x[1].round(3))\n",
    "    \n",
    "cluster3_scores\n",
    "sum(cluster3_scores)/len(cluster3_scores)"
   ]
  },
  {
   "cell_type": "code",
   "execution_count": 98,
   "id": "c497f84e",
   "metadata": {},
   "outputs": [
    {
     "data": {
      "text/plain": [
       "0.4313636363636363"
      ]
     },
     "execution_count": 98,
     "metadata": {},
     "output_type": "execute_result"
    }
   ],
   "source": [
    "cluster5_scores = []\n",
    "for n in range (1,12):\n",
    "    x = cluster_month_k(n,5)\n",
    "    cluster5_scores.append(x[1].round(3))\n",
    "    \n",
    "cluster5_scores\n",
    "sum(cluster5_scores)/len(cluster5_scores)"
   ]
  },
  {
   "cell_type": "code",
   "execution_count": 99,
   "id": "89772a3e",
   "metadata": {},
   "outputs": [
    {
     "data": {
      "text/plain": [
       "0.41645454545454547"
      ]
     },
     "execution_count": 99,
     "metadata": {},
     "output_type": "execute_result"
    }
   ],
   "source": [
    "cluster10_scores = []\n",
    "for n in range (1,12):\n",
    "    x = cluster_month_k(n,10)\n",
    "    cluster10_scores.append(x[1].round(3))\n",
    "    \n",
    "cluster10_scores\n",
    "sum(cluster10_scores)/len(cluster10_scores)"
   ]
  },
  {
   "cell_type": "code",
   "execution_count": 146,
   "id": "d66965ff",
   "metadata": {},
   "outputs": [
    {
     "data": {
      "text/plain": [
       "0.42527272727272725"
      ]
     },
     "execution_count": 146,
     "metadata": {},
     "output_type": "execute_result"
    }
   ],
   "source": [
    "cluster8_scores = []\n",
    "for n in range (1,12):\n",
    "    x = cluster_month_k(n,8)\n",
    "    cluster8_scores.append(x[1].round(3))\n",
    "    \n",
    "cluster8_scores\n",
    "sum(cluster8_scores)/len(cluster8_scores)"
   ]
  },
  {
   "cell_type": "code",
   "execution_count": null,
   "id": "1e5f9ed5",
   "metadata": {},
   "outputs": [],
   "source": []
  }
 ],
 "metadata": {
  "kernelspec": {
   "display_name": "Python 3",
   "language": "python",
   "name": "python3"
  },
  "language_info": {
   "codemirror_mode": {
    "name": "ipython",
    "version": 3
   },
   "file_extension": ".py",
   "mimetype": "text/x-python",
   "name": "python",
   "nbconvert_exporter": "python",
   "pygments_lexer": "ipython3",
   "version": "3.8.8"
  }
 },
 "nbformat": 4,
 "nbformat_minor": 5
}
