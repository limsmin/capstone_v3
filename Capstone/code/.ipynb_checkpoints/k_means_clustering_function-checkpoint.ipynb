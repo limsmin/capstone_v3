{
 "cells": [
  {
   "cell_type": "code",
   "execution_count": 2,
   "id": "03fcf4ca",
   "metadata": {},
   "outputs": [],
   "source": [
    "import io\n",
    "from PIL import Image\n",
    "from PIL import ImageFile\n",
    "import os\n",
    "import numpy as np\n",
    "import cv2 as cv\n",
    "import numpy as np\n",
    "import matplotlib.pyplot as plt\n",
    "%matplotlib inline\n",
    "from sklearn.cluster import KMeans"
   ]
  },
  {
   "cell_type": "code",
   "execution_count": 3,
   "id": "a96de671",
   "metadata": {},
   "outputs": [
    {
     "data": {
      "text/plain": [
       "['lovebonito_test.jpg',\n",
       " '2021-11-24_11-17-36_UTC.jpg',\n",
       " '.DS_Store',\n",
       " 'insta_test.jpg',\n",
       " '2021-11-19_10-11-11_UTC_1.jpg',\n",
       " 'brightpink.jpg',\n",
       " 'lovebonito_test3.jpg',\n",
       " 'lovebonito_test2.jpg',\n",
       " '2021-04-20_04-45-10_UTC_1.jpg',\n",
       " '2021-04-20_04-45-10_UTC_2.jpg']"
      ]
     },
     "execution_count": 3,
     "metadata": {},
     "output_type": "execute_result"
    }
   ],
   "source": [
    "os.listdir('../pictures/original') "
   ]
  },
  {
   "cell_type": "code",
   "execution_count": null,
   "id": "f24933af",
   "metadata": {},
   "outputs": [],
   "source": [
    "def main():\n",
    "    # path of the folder containing the raw images\n",
    "    in_path ='../pictures/original'\n",
    "    \n",
    "    for image_path in os.listdir(in_path):\n",
    "        # image_path contains name of the image \n",
    "        input_path = os.path.join(in_path, image_path)\n",
    "\n",
    "        # Open image\n",
    "        imgfile = Image.open(input_path)\n",
    "\n",
    "        # Only pass through non-transparent pixels, i.e. those where A!=0 in the RGBA quad\n",
    "        na = np.array([f for f in imgfile.getdata() if f[3] !=0], np.uint8)\n",
    "        \n",
    "        #"
   ]
  }
 ],
 "metadata": {
  "kernelspec": {
   "display_name": "Python 3",
   "language": "python",
   "name": "python3"
  },
  "language_info": {
   "codemirror_mode": {
    "name": "ipython",
    "version": 3
   },
   "file_extension": ".py",
   "mimetype": "text/x-python",
   "name": "python",
   "nbconvert_exporter": "python",
   "pygments_lexer": "ipython3",
   "version": "3.8.8"
  }
 },
 "nbformat": 4,
 "nbformat_minor": 5
}
