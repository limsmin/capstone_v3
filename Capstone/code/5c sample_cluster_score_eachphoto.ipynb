{
 "cells": [
  {
   "cell_type": "code",
   "execution_count": 1,
   "id": "2683dc31",
   "metadata": {},
   "outputs": [],
   "source": [
    "import numpy as np\n",
    "import pandas as pd\n",
    "import seaborn as sns\n",
    "import matplotlib.pyplot as plt"
   ]
  },
  {
   "cell_type": "code",
   "execution_count": 2,
   "id": "04d5cd7b",
   "metadata": {},
   "outputs": [],
   "source": [
    "# Load list of sample (size of 100) k means cluster scores\n",
    "# recall that sample had to be done to reduce run time\n",
    "# samples are taken at random\n",
    "sample100_score = pd.read_csv('../data/sample100_score.csv')"
   ]
  },
  {
   "cell_type": "code",
   "execution_count": 14,
   "id": "d6e1b623",
   "metadata": {},
   "outputs": [],
   "source": [
    "# Load list of sample (size of 100) meanshift cluster scores\n",
    "# recall that sample had to be done to reduce run time\n",
    "# samples are taken at random\n",
    "sample100_meanshift_score = pd.read_csv('../data/meanshift_sample100_score.csv')"
   ]
  },
  {
   "cell_type": "code",
   "execution_count": 3,
   "id": "f920fedb",
   "metadata": {},
   "outputs": [
    {
     "data": {
      "text/html": [
       "<div>\n",
       "<style scoped>\n",
       "    .dataframe tbody tr th:only-of-type {\n",
       "        vertical-align: middle;\n",
       "    }\n",
       "\n",
       "    .dataframe tbody tr th {\n",
       "        vertical-align: top;\n",
       "    }\n",
       "\n",
       "    .dataframe thead th {\n",
       "        text-align: right;\n",
       "    }\n",
       "</style>\n",
       "<table border=\"1\" class=\"dataframe\">\n",
       "  <thead>\n",
       "    <tr style=\"text-align: right;\">\n",
       "      <th></th>\n",
       "      <th>image_list</th>\n",
       "      <th>cluster2_samplescores</th>\n",
       "      <th>cluster3_samplescores</th>\n",
       "      <th>cluster4_samplescores</th>\n",
       "    </tr>\n",
       "  </thead>\n",
       "  <tbody>\n",
       "    <tr>\n",
       "      <th>0</th>\n",
       "      <td>../pictures/wo_background/mirchelley/mirchelle...</td>\n",
       "      <td>0.538705</td>\n",
       "      <td>0.573004</td>\n",
       "      <td>0.458616</td>\n",
       "    </tr>\n",
       "    <tr>\n",
       "      <th>1</th>\n",
       "      <td>../pictures/wo_background/kimlimhl/kimlimhl_20...</td>\n",
       "      <td>0.593360</td>\n",
       "      <td>0.565264</td>\n",
       "      <td>0.558163</td>\n",
       "    </tr>\n",
       "    <tr>\n",
       "      <th>2</th>\n",
       "      <td>../pictures/wo_background/ohhowstrange/ohhowst...</td>\n",
       "      <td>0.662018</td>\n",
       "      <td>0.628560</td>\n",
       "      <td>0.527730</td>\n",
       "    </tr>\n",
       "    <tr>\n",
       "      <th>3</th>\n",
       "      <td>../pictures/wo_background/mongabong/mongabong_...</td>\n",
       "      <td>0.484139</td>\n",
       "      <td>0.522076</td>\n",
       "      <td>0.513245</td>\n",
       "    </tr>\n",
       "    <tr>\n",
       "      <th>4</th>\n",
       "      <td>../pictures/wo_background/xinlinnn/xinlinnn_20...</td>\n",
       "      <td>0.672311</td>\n",
       "      <td>0.701073</td>\n",
       "      <td>0.637278</td>\n",
       "    </tr>\n",
       "  </tbody>\n",
       "</table>\n",
       "</div>"
      ],
      "text/plain": [
       "                                          image_list  cluster2_samplescores  \\\n",
       "0  ../pictures/wo_background/mirchelley/mirchelle...               0.538705   \n",
       "1  ../pictures/wo_background/kimlimhl/kimlimhl_20...               0.593360   \n",
       "2  ../pictures/wo_background/ohhowstrange/ohhowst...               0.662018   \n",
       "3  ../pictures/wo_background/mongabong/mongabong_...               0.484139   \n",
       "4  ../pictures/wo_background/xinlinnn/xinlinnn_20...               0.672311   \n",
       "\n",
       "   cluster3_samplescores  cluster4_samplescores  \n",
       "0               0.573004               0.458616  \n",
       "1               0.565264               0.558163  \n",
       "2               0.628560               0.527730  \n",
       "3               0.522076               0.513245  \n",
       "4               0.701073               0.637278  "
      ]
     },
     "execution_count": 3,
     "metadata": {},
     "output_type": "execute_result"
    }
   ],
   "source": [
    "sample100_score.head()"
   ]
  },
  {
   "cell_type": "code",
   "execution_count": 15,
   "id": "63d99ac4",
   "metadata": {},
   "outputs": [
    {
     "data": {
      "text/html": [
       "<div>\n",
       "<style scoped>\n",
       "    .dataframe tbody tr th:only-of-type {\n",
       "        vertical-align: middle;\n",
       "    }\n",
       "\n",
       "    .dataframe tbody tr th {\n",
       "        vertical-align: top;\n",
       "    }\n",
       "\n",
       "    .dataframe thead th {\n",
       "        text-align: right;\n",
       "    }\n",
       "</style>\n",
       "<table border=\"1\" class=\"dataframe\">\n",
       "  <thead>\n",
       "    <tr style=\"text-align: right;\">\n",
       "      <th></th>\n",
       "      <th>image_list</th>\n",
       "      <th>meanshift_samplescores</th>\n",
       "    </tr>\n",
       "  </thead>\n",
       "  <tbody>\n",
       "    <tr>\n",
       "      <th>0</th>\n",
       "      <td>../pictures/wo_background/mirchelley/mirchelle...</td>\n",
       "      <td>0.414861</td>\n",
       "    </tr>\n",
       "    <tr>\n",
       "      <th>1</th>\n",
       "      <td>../pictures/wo_background/kimlimhl/kimlimhl_20...</td>\n",
       "      <td>0.499510</td>\n",
       "    </tr>\n",
       "    <tr>\n",
       "      <th>2</th>\n",
       "      <td>../pictures/wo_background/ohhowstrange/ohhowst...</td>\n",
       "      <td>0.345161</td>\n",
       "    </tr>\n",
       "    <tr>\n",
       "      <th>3</th>\n",
       "      <td>../pictures/wo_background/mongabong/mongabong_...</td>\n",
       "      <td>0.408515</td>\n",
       "    </tr>\n",
       "    <tr>\n",
       "      <th>4</th>\n",
       "      <td>../pictures/wo_background/xinlinnn/xinlinnn_20...</td>\n",
       "      <td>0.555531</td>\n",
       "    </tr>\n",
       "  </tbody>\n",
       "</table>\n",
       "</div>"
      ],
      "text/plain": [
       "                                          image_list  meanshift_samplescores\n",
       "0  ../pictures/wo_background/mirchelley/mirchelle...                0.414861\n",
       "1  ../pictures/wo_background/kimlimhl/kimlimhl_20...                0.499510\n",
       "2  ../pictures/wo_background/ohhowstrange/ohhowst...                0.345161\n",
       "3  ../pictures/wo_background/mongabong/mongabong_...                0.408515\n",
       "4  ../pictures/wo_background/xinlinnn/xinlinnn_20...                0.555531"
      ]
     },
     "execution_count": 15,
     "metadata": {},
     "output_type": "execute_result"
    }
   ],
   "source": [
    "sample100_meanshift_score.head()"
   ]
  },
  {
   "cell_type": "code",
   "execution_count": 20,
   "id": "87f55ed2",
   "metadata": {},
   "outputs": [
    {
     "data": {
      "image/png": "[encoded data removed]",
      "text/plain": [
       "<Figure size 432x576 with 1 Axes>"
      ]
     },
     "metadata": {
      "needs_background": "light"
     },
     "output_type": "display_data"
    }
   ],
   "source": [
    "#boxplot of silhouette scores for cluster k=2\n",
    "f, ax = plt.subplots(figsize=(6, 8))\n",
    "sns.boxplot(y='cluster2_samplescores', data=sample100_score, color='g', showfliers = True)\n",
    "plt.ylim((0.2,0.9))\n",
    "plt.tick_params(labelsize= 15);"
   ]
  },
  {
   "cell_type": "code",
   "execution_count": 21,
   "id": "92eccf2f",
   "metadata": {},
   "outputs": [
    {
     "data": {
      "image/png": "[encoded data removed]",
      "text/plain": [
       "<Figure size 432x576 with 1 Axes>"
      ]
     },
     "metadata": {
      "needs_background": "light"
     },
     "output_type": "display_data"
    }
   ],
   "source": [
    "#boxplot of silhouette scores for cluster k=3\n",
    "f, ax = plt.subplots(figsize=(6, 8))\n",
    "sns.boxplot(y='cluster3_samplescores', data=sample100_score, color='g', showfliers = True)\n",
    "plt.ylim((0.2,0.9))\n",
    "plt.tick_params(labelsize= 15);"
   ]
  },
  {
   "cell_type": "code",
   "execution_count": 22,
   "id": "ca63e764",
   "metadata": {},
   "outputs": [
    {
     "data": {
      "image/png": "[encoded data removed]",
      "text/plain": [
       "<Figure size 432x576 with 1 Axes>"
      ]
     },
     "metadata": {
      "needs_background": "light"
     },
     "output_type": "display_data"
    }
   ],
   "source": [
    "#boxplot of silhouette scores for cluster k=4\n",
    "f, ax = plt.subplots(figsize=(6, 8))\n",
    "sns.boxplot(y='cluster4_samplescores', data=sample100_score, color='g', showfliers = True)\n",
    "plt.ylim((0.2,0.9))\n",
    "plt.tick_params(labelsize= 15);"
   ]
  },
  {
   "cell_type": "code",
   "execution_count": 19,
   "id": "67c50bc7",
   "metadata": {},
   "outputs": [
    {
     "data": {
      "image/png": "[encoded data removed]",
      "text/plain": [
       "<Figure size 432x576 with 1 Axes>"
      ]
     },
     "metadata": {
      "needs_background": "light"
     },
     "output_type": "display_data"
    }
   ],
   "source": [
    "#boxplot of silhouette scores for meanshift\n",
    "f, ax = plt.subplots(figsize=(6, 8))\n",
    "sns.boxplot(y='meanshift_samplescores', data=sample100_meanshift_score, color='y', showfliers = True)\n",
    "plt.ylim((0.2,0.9))\n",
    "plt.tick_params(labelsize= 15);"
   ]
  },
  {
   "cell_type": "markdown",
   "id": "77e4c088",
   "metadata": {},
   "source": [
    "K=4 and meanshift clustering gave significantly lower silhouette scores, hence the choice will be between k=2 or 3\n",
    "\n",
    "Since silhouette scores are similar for 2/3 clusters, I have decided to use 3 clusters so as to potentially capture more colors"
   ]
  }
 ],
 "metadata": {
  "kernelspec": {
   "display_name": "Python 3",
   "language": "python",
   "name": "python3"
  },
  "language_info": {
   "codemirror_mode": {
    "name": "ipython",
    "version": 3
   },
   "file_extension": ".py",
   "mimetype": "text/x-python",
   "name": "python",
   "nbconvert_exporter": "python",
   "pygments_lexer": "ipython3",
   "version": "3.8.8"
  }
 },
 "nbformat": 4,
 "nbformat_minor": 5
}
