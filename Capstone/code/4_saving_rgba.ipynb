{
 "cells": [
  {
   "cell_type": "markdown",
   "id": "339ab6ea",
   "metadata": {},
   "source": [
    "# 1. Install and import libraries"
   ]
  },
  {
   "cell_type": "code",
   "execution_count": 2,
   "id": "36af129c",
   "metadata": {},
   "outputs": [],
   "source": [
    "import numpy as np\n",
    "import pandas as pd\n",
    "import ast\n",
    "import numpy as np\n",
    "import os\n",
    "import datetime\n",
    "from PIL import Image\n",
    "from PIL import ImageFile"
   ]
  },
  {
   "cell_type": "markdown",
   "id": "7da552aa",
   "metadata": {},
   "source": [
    "# 2. Get RGBA information from each PNG file"
   ]
  },
  {
   "cell_type": "code",
   "execution_count": 9,
   "id": "71075da0",
   "metadata": {},
   "outputs": [],
   "source": [
    "# Load list of top 34 insta accounts\n",
    "final_acct_df = pd.read_csv('../data/final_acct_df.csv')\n",
    "accounts = final_acct_df['handle'].tolist()"
   ]
  },
  {
   "cell_type": "code",
   "execution_count": 10,
   "id": "d7b12f36",
   "metadata": {},
   "outputs": [],
   "source": [
    "#instantiate empty list to append data from each photo\n",
    "rgba_ravel_list = []\n",
    "image_list = []"
   ]
  },
  {
   "cell_type": "code",
   "execution_count": 11,
   "id": "6d190dec",
   "metadata": {},
   "outputs": [],
   "source": [
    "#set size for resizing each photo so that they are all the same size\n",
    "#have to make it smaller at 200x200 to save run time\n",
    "new_size = (200,200)"
   ]
  },
  {
   "cell_type": "code",
   "execution_count": 12,
   "id": "02e2deba",
   "metadata": {},
   "outputs": [
    {
     "name": "stdout",
     "output_type": "stream",
     "text": [
      "CPU times: user 8min 33s, sys: 3.76 s, total: 8min 37s\n",
      "Wall time: 8min 50s\n"
     ]
    }
   ],
   "source": [
    "%%time\n",
    "#loop through all photos in the 34 accounts\n",
    "#append rgba information, image path, instagram handle, date of post\n",
    "#and also sequence of post if there are more than one post a day\n",
    "\n",
    "for account in accounts:\n",
    "    in_path ='../pictures/wo_background/' + account\n",
    "    for image_path in os.listdir(in_path):\n",
    "        # image_path contains name of the image \n",
    "        input_path = os.path.join(in_path, image_path)\n",
    "        imgfile = Image.open(input_path)\n",
    "        imgfile = imgfile.resize(new_size)\n",
    "        na = np.array(imgfile.getdata(), np.uint8)\n",
    "        row = na.ravel()\n",
    "\n",
    "        rgba_ravel_list.append(row)\n",
    "        image_list.append(input_path)"
   ]
  },
  {
   "cell_type": "code",
   "execution_count": 13,
   "id": "3f3da6f1",
   "metadata": {},
   "outputs": [
    {
     "data": {
      "text/plain": [
       "6639"
      ]
     },
     "execution_count": 13,
     "metadata": {},
     "output_type": "execute_result"
    }
   ],
   "source": [
    "len(rgba_ravel_list)"
   ]
  },
  {
   "cell_type": "markdown",
   "id": "bd202445",
   "metadata": {},
   "source": [
    "# 3. Save rgba information into multiple csv files"
   ]
  },
  {
   "cell_type": "code",
   "execution_count": 42,
   "id": "3928ce2a",
   "metadata": {},
   "outputs": [
    {
     "name": "stdout",
     "output_type": "stream",
     "text": [
      "batch 0 done\n",
      "batch 1 done\n",
      "batch 2 done\n",
      "batch 3 done\n",
      "batch 4 done\n",
      "batch 5 done\n",
      "batch 6 done\n",
      "batch 7 done\n",
      "batch 8 done\n",
      "batch 9 done\n",
      "batch 10 done\n",
      "batch 11 done\n",
      "batch 12 done\n",
      "batch 13 done\n",
      "batch 14 done\n",
      "batch 15 done\n",
      "batch 16 done\n",
      "batch 17 done\n",
      "batch 18 done\n",
      "batch 19 done\n",
      "batch 20 done\n",
      "batch 21 done\n",
      "batch 22 done\n",
      "batch 23 done\n",
      "batch 24 done\n",
      "batch 25 done\n",
      "batch 26 done\n",
      "batch 27 done\n",
      "batch 28 done\n",
      "batch 29 done\n",
      "batch 30 done\n",
      "batch 31 done\n",
      "batch 32 done\n",
      "CPU times: user 8min 20s, sys: 17 s, total: 8min 37s\n",
      "Wall time: 9min 1s\n"
     ]
    }
   ],
   "source": [
    "%%time\n",
    "## loop to go through batches of 200 x 33 to prevent crashing, and also because there's storage limitations in csv\n",
    "#remaining 39 photos to be done in cell below\n",
    "for n in range(33):\n",
    "    start_row = 200*(n)\n",
    "    end_row = 200*(n+1)\n",
    "    rgba = pd.DataFrame(rgba_ravel_list[start_row:end_row])\n",
    "    \n",
    "    #transform rgba df as there are too many columns (one column for each of 160000 pixels)\n",
    "    #csv can store more rows than columns\n",
    "    rgba = rgba.T\n",
    "    \n",
    "    #name columns with the image path for easier identification later on\n",
    "    rgba.columns = image_list[start_row:end_row]\n",
    "    \n",
    "    #saving to csv\n",
    "    path = '../data/rgba/rgba_' + str(n) + '.csv'\n",
    "    rgba.to_csv(path, index = False)\n",
    "    \n",
    "    #print when each loop is done to keep track\n",
    "    print('batch ' + str(n)+' done')"
   ]
  },
  {
   "cell_type": "code",
   "execution_count": 44,
   "id": "bda17c68",
   "metadata": {},
   "outputs": [],
   "source": [
    "#saving rgba information for remaining 39 photos, same steps as above\n",
    "\n",
    "start_row = 6600\n",
    "end_row = len(rgba_ravel_list)\n",
    "rgba = pd.DataFrame(rgba_ravel_list[start_row:end_row])\n",
    "rgba = rgba.T\n",
    "rgba.columns = image_list[start_row:end_row]\n",
    "path = '../data/rgba/rgba_33.csv'\n",
    "rgba.to_csv(path, index = False)"
   ]
  }
 ],
 "metadata": {
  "kernelspec": {
   "display_name": "Python 3",
   "language": "python",
   "name": "python3"
  },
  "language_info": {
   "codemirror_mode": {
    "name": "ipython",
    "version": 3
   },
   "file_extension": ".py",
   "mimetype": "text/x-python",
   "name": "python",
   "nbconvert_exporter": "python",
   "pygments_lexer": "ipython3",
   "version": "3.8.8"
  }
 },
 "nbformat": 4,
 "nbformat_minor": 5
}
