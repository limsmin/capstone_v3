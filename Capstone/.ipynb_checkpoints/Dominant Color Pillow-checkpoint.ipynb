{
 "cells": [
  {
   "cell_type": "code",
   "execution_count": 2,
   "id": "9c27c4fa",
   "metadata": {},
   "outputs": [
    {
     "name": "stdout",
     "output_type": "stream",
     "text": [
      "Collecting colorthief\n",
      "  Downloading colorthief-0.2.1-py2.py3-none-any.whl (6.1 kB)\n",
      "Requirement already satisfied: Pillow in /Users/limshimin/opt/anaconda3/lib/python3.8/site-packages (from colorthief) (8.2.0)\n",
      "Installing collected packages: colorthief\n",
      "Successfully installed colorthief-0.2.1\n",
      "Note: you may need to restart the kernel to use updated packages.\n"
     ]
    }
   ],
   "source": [
    "#pip install colorthief"
   ]
  },
  {
   "cell_type": "code",
   "execution_count": 8,
   "id": "9dff326d",
   "metadata": {},
   "outputs": [],
   "source": [
    "from colorthief import ColorThief\n",
    "import numpy as np\n",
    "import pandas as pd"
   ]
  },
  {
   "cell_type": "code",
   "execution_count": 9,
   "id": "f7da59c8",
   "metadata": {},
   "outputs": [],
   "source": [
    "index=[\"color\", \"color_name\", \"hex\", \"R\", \"G\", \"B\"]\n",
    "df = pd.read_csv('colors.csv', names=index, header=None)"
   ]
  },
  {
   "cell_type": "code",
   "execution_count": 10,
   "id": "94c3c634",
   "metadata": {},
   "outputs": [
    {
     "data": {
      "text/plain": [
       "(212, 206, 203)"
      ]
     },
     "execution_count": 10,
     "metadata": {},
     "output_type": "execute_result"
    }
   ],
   "source": [
    "# get the dominant color\n",
    "color_thief = ColorThief('lovebonito_test.jpg')\n",
    "dominant_color = color_thief.get_color(quality=1)\n",
    "dominant_color"
   ]
  },
  {
   "cell_type": "code",
   "execution_count": 11,
   "id": "a362b93a",
   "metadata": {},
   "outputs": [
    {
     "data": {
      "text/plain": [
       "[(212, 206, 203),\n",
       " (30, 25, 27),\n",
       " (148, 80, 52),\n",
       " (171, 108, 78),\n",
       " (179, 131, 110),\n",
       " (156, 149, 142)]"
      ]
     },
     "execution_count": 11,
     "metadata": {},
     "output_type": "execute_result"
    }
   ],
   "source": [
    "palette = color_thief.get_palette(color_count=6)\n",
    "palette"
   ]
  },
  {
   "cell_type": "code",
   "execution_count": null,
   "id": "39221bfd",
   "metadata": {},
   "outputs": [],
   "source": []
  }
 ],
 "metadata": {
  "kernelspec": {
   "display_name": "Python 3",
   "language": "python",
   "name": "python3"
  },
  "language_info": {
   "codemirror_mode": {
    "name": "ipython",
    "version": 3
   },
   "file_extension": ".py",
   "mimetype": "text/x-python",
   "name": "python",
   "nbconvert_exporter": "python",
   "pygments_lexer": "ipython3",
   "version": "3.8.8"
  }
 },
 "nbformat": 4,
 "nbformat_minor": 5
}
