{
 "cells": [
  {
   "cell_type": "code",
   "execution_count": 8,
   "id": "126e28de",
   "metadata": {},
   "outputs": [],
   "source": [
    "#pip install rembg\n",
    "#also have to install pytorch and torchvision"
   ]
  },
  {
   "cell_type": "code",
   "execution_count": 11,
   "id": "c56db8d3",
   "metadata": {},
   "outputs": [
    {
     "name": "stderr",
     "output_type": "stream",
     "text": [
      "Downloading u2net.pth to /Users/limshimin/.u2net: 100%|██████████| 168M/168M [00:05<00:00, 33.4MiB/s] \n"
     ]
    }
   ],
   "source": [
    "from rembg.bg import remove\n",
    "import numpy as np\n",
    "import io\n",
    "from PIL import Image\n",
    "\n",
    "input_path = 'lovebonito_test.jpg'\n",
    "output_path = 'lovebonito_test_out.png'\n",
    "\n",
    "# Uncomment the following line if working with trucated image formats (ex. JPEG / JPG)\n",
    "Image.LOAD_TRUNCATED_IMAGES = True\n",
    "\n",
    "f = np.fromfile(input_path)\n",
    "result = remove(f)\n",
    "img = Image.open(io.BytesIO(result)).convert(\"RGBA\")\n",
    "img.save(output_path)"
   ]
  },
  {
   "cell_type": "code",
   "execution_count": null,
   "id": "480a0160",
   "metadata": {},
   "outputs": [],
   "source": []
  }
 ],
 "metadata": {
  "kernelspec": {
   "display_name": "Python 3",
   "language": "python",
   "name": "python3"
  },
  "language_info": {
   "codemirror_mode": {
    "name": "ipython",
    "version": 3
   },
   "file_extension": ".py",
   "mimetype": "text/x-python",
   "name": "python",
   "nbconvert_exporter": "python",
   "pygments_lexer": "ipython3",
   "version": "3.8.8"
  }
 },
 "nbformat": 4,
 "nbformat_minor": 5
}
